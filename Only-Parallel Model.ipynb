{
 "cells": [
  {
   "cell_type": "markdown",
   "metadata": {},
   "source": [
    "# Only Parallel Data Model"
   ]
  },
  {
   "cell_type": "markdown",
   "metadata": {},
   "source": [
    "This is the Python Notebook concerning the final version containing the coding for the Only-Parallel (Supervised) version of the program. It is to be completed with the correct format of the Contextual and Style Classifiers in their corresponding parts.\n",
    "\n",
    "Date of upload: Friday 31th January\n",
    "\n",
    "Actual Version: 2.0, running with style_class (Sunday 9th February)\n",
    "\n",
    "Precedent Versions : 1.1, 1.0\n",
    "\n"
   ]
  },
  {
   "cell_type": "markdown",
   "metadata": {},
   "source": [
    "## import(s)"
   ]
  },
  {
   "cell_type": "code",
   "execution_count": 3,
   "metadata": {},
   "outputs": [
    {
     "name": "stderr",
     "output_type": "stream",
     "text": [
      "WARNING:root:This caffe2 python run does not have GPU support. Will run in CPU only mode.\n"
     ]
    },
    {
     "name": "stdout",
     "output_type": "stream",
     "text": [
      "device =  cpu\n"
     ]
    }
   ],
   "source": [
    "from scripts.data_builders.prepare_dataset import prepare_dataset,string2code,code2string\n",
    "\n",
    "import math\n",
    "import torch\n",
    "import torchvision.datasets as datasets\n",
    "import torch.nn.functional as F\n",
    "from torch import nn\n",
    "from torch import optim\n",
    "from torch.utils.tensorboard import SummaryWriter\n",
    "\n",
    "from pathlib import Path\n",
    "\n",
    "device = torch.device('cuda' if torch.cuda.is_available() else 'cpu')\n",
    "print(\"device = \",device)"
   ]
  },
  {
   "cell_type": "markdown",
   "metadata": {},
   "source": [
    "## Data Pre-processing"
   ]
  },
  {
   "cell_type": "code",
   "execution_count": 4,
   "metadata": {},
   "outputs": [
    {
     "name": "stdout",
     "output_type": "stream",
     "text": [
      "Loading ...\n",
      "- Shakespeare dataset length :  21079\n",
      "- Corrupted samples (ignored) :  0\n"
     ]
    }
   ],
   "source": [
    "train_data, dict_words = prepare_dataset(\"data/shakespeare.csv\",device,ratio=0.5,shuffle_ctx=False) #check with shift+tab to look at the data structure\n",
    "batch_size = 64\n",
    "dict_token = {b:a for a,b in dict_words.items()}"
   ]
  },
  {
   "cell_type": "markdown",
   "metadata": {},
   "source": [
    "## Parameters and Embedding"
   ]
  },
  {
   "cell_type": "code",
   "execution_count": 5,
   "metadata": {},
   "outputs": [],
   "source": [
    "class State:\n",
    "    def __init__(self,model,optim):\n",
    "        self.model = model\n",
    "        self.optim = optim\n",
    "        self.epoch = 0\n",
    "savepath = Path(\"data/models/embeddings/v0\")\n",
    "embedding = torch.load(savepath).to(device)\n",
    "embedding.weight.requires_grad = False #Embedding freeze"
   ]
  },
  {
   "cell_type": "code",
   "execution_count": 6,
   "metadata": {},
   "outputs": [],
   "source": [
    "nb_heads = 4\n",
    "d_feedforward = 1024\n",
    "batch_size = 64\n",
    "dict_size = len(dict_token)\n",
    "\n",
    "d_embedding = embedding.embedding_dim"
   ]
  },
  {
   "cell_type": "markdown",
   "metadata": {},
   "source": [
    "## Positional Encoding"
   ]
  },
  {
   "cell_type": "code",
   "execution_count": 7,
   "metadata": {},
   "outputs": [],
   "source": [
    "class PositionalEncoding(torch.nn.Module):\n",
    "\n",
    "    def __init__(self, d_model, dropout=0.1, max_len=5000):\n",
    "        super(PositionalEncoding, self).__init__()\n",
    "        self.dropout = torch.nn.Dropout(p=dropout)\n",
    "\n",
    "        pe = torch.zeros(max_len, d_model)\n",
    "        position = torch.arange(0, max_len, dtype=torch.float).unsqueeze(1)\n",
    "        div_term = torch.exp(torch.arange(0, d_model, 2).float() * (-math.log(10000.0) / d_model))\n",
    "        pe[:, 0::2] = torch.sin(position * div_term)\n",
    "        pe[:, 1::2] = torch.cos(position * div_term)\n",
    "        pe = pe.unsqueeze(0).transpose(0, 1)\n",
    "        self.register_buffer('pe', pe)\n",
    "\n",
    "    def forward(self, x):\n",
    "        x = x + self.pe[:x.size(0), :]\n",
    "        return self.dropout(x)"
   ]
  },
  {
   "cell_type": "markdown",
   "metadata": {},
   "source": [
    "## Context Classifier (To be filled)"
   ]
  },
  {
   "cell_type": "code",
   "execution_count": null,
   "metadata": {},
   "outputs": [],
   "source": []
  },
  {
   "cell_type": "markdown",
   "metadata": {},
   "source": [
    "## Style classifier (To be filled)"
   ]
  },
  {
   "cell_type": "code",
   "execution_count": 8,
   "metadata": {},
   "outputs": [],
   "source": [
    "class Transpose(torch.nn.Module):\n",
    "    def __init__(self,dim0,dim1):\n",
    "        super().__init__()\n",
    "        self.dim0=dim0\n",
    "        self.dim1=dim1\n",
    "\n",
    "    def forward(self,x):\n",
    "        return torch.transpose(x,dim0=self.dim0,dim1=self.dim1)\n",
    "\n",
    "class Reduce(torch.nn.Module):\n",
    "    def __init__(self,dim):\n",
    "        super().__init__()\n",
    "        self.dim=dim\n",
    "\n",
    "    def forward(self,x):\n",
    "        x=torch.sum(x,dim=self.dim)\n",
    "        return x.reshape(x.shape[0],x.shape[1])\n",
    "\n",
    "class StyleClassifier(torch.nn.Module):\n",
    "    def __init__(self,dict_size=18000,d_embedding=300,d_hidden=10):\n",
    "        super(StyleClassifier,self).__init__()\n",
    "        self.embedding=nn.Embedding(dict_size+1,d_embedding,padding_idx=dict_size)\n",
    "        self.transpose=Transpose(1,2)\n",
    "        self.conv1d=nn.Conv1d(d_embedding,d_hidden,3,1)\n",
    "        self.reduce=Reduce(2)\n",
    "        self.pool=nn.MaxPool1d(3,1)\n",
    "        self.linear=nn.Linear(d_hidden,1)\n",
    "        self.sigmoid=nn.Sigmoid()\n",
    "        self.model=nn.Sequential(\n",
    "            self.embedding,\n",
    "            self.transpose,\n",
    "            self.conv1d,\n",
    "            self.pool,\n",
    "            self.reduce,\n",
    "            self.linear,\n",
    "            self.sigmoid)\n",
    "        \n",
    "    def forward(self,x):\n",
    "        return self.model(x)\n",
    "        \n",
    "        \n",
    "savepath_style = Path(\"data/models/style_classifier_v0\")\n",
    "style_classifier = torch.load(savepath_style).model.to(device)\n",
    "style_classifier.requires_grad = False"
   ]
  },
  {
   "cell_type": "markdown",
   "metadata": {},
   "source": [
    "## Model (To be adapted once we have the Context and Style Class For the Embedding)"
   ]
  },
  {
   "cell_type": "code",
   "execution_count": 9,
   "metadata": {},
   "outputs": [],
   "source": [
    "class ParallelModel(torch.nn.Module):\n",
    "    def __init__(self,dict_size, d_embedding, nb_heads, d_feedforward):\n",
    "        super().__init__()\n",
    "        \n",
    "        self.embed_layer = torch.nn.Embedding(dict_size+1, d_embedding, padding_idx=dict_size)\n",
    "        self.positional_layer = PositionalEncoding(d_embedding)\n",
    "        self.sentence_encoder = torch.nn.TransformerEncoderLayer(d_model = d_embedding, nhead = nb_heads, \n",
    "                                                    dim_feedforward = d_feedforward)\n",
    "        self.context_encoder = torch.nn.TransformerEncoderLayer(d_model = d_embedding, nhead = nb_heads, \n",
    "                                                    dim_feedforward = d_feedforward)\n",
    "        self.sentence_decoder = torch.nn.TransformerDecoderLayer(d_model = d_embedding, nhead = nb_heads, \n",
    "                                                    dim_feedforward = d_feedforward)\n",
    "        self.label_embedding = torch.nn.Embedding(2,768)\n",
    "    \n",
    "    \n",
    "    def _generate_square_subsequent_mask(self,sz):\n",
    "        mask = (torch.triu(torch.ones(sz, sz)) == 1).transpose(0, 1)\n",
    "        mask = mask.float().masked_fill(mask == 0, float('-inf')).masked_fill(mask == 1, float(0.0))\n",
    "        return mask\n",
    "    \n",
    "    def forward(self,x,ctx_x,y,label_x):\n",
    "        device = x.device\n",
    "        mask_x = self._generate_square_subsequent_mask(x.shape[1]).to(device)\n",
    "        mask_ctx = self._generate_square_subsequent_mask(ctx_x.shape[1]).to(device)\n",
    "        mask_y = self._generate_square_subsequent_mask(y.shape[1]).to(device)\n",
    "        \n",
    "        # Embedding\n",
    "        x = self.embed_layer(x).transpose(0,1) # token x batch x embedding\n",
    "        ctx_x = self.embed_layer(ctx_x).transpose(0,1)\n",
    "        \n",
    "        # Positional Encoding\n",
    "        x = self.positional_layer(x)\n",
    "        ctx_x = self.positional_layer(ctx_x)        \n",
    "        \n",
    "        # Encoders\n",
    "        x_enc = self.sentence_encoder(x,mask_x)\n",
    "        ctx_enc = self.context_encoder(ctx_x,mask_ctx)\n",
    "\n",
    "        # Linear and Style Mixing\n",
    "        x_and_ctx = torch.cat((x_enc,ctx_enc),dim = 0)\n",
    "        label = (1-label_x).reshape((1,x_and_ctx.shape[1])).expand((x_and_ctx.shape[0],x_and_ctx.shape[1]))\n",
    "        x_lab = x_and_ctx + self.label_embedding(label)\n",
    "        \n",
    "        # Decoder\n",
    "        y = self.embed_layer(y)\n",
    "        y_pos = self.positional_layer(y.transpose(0,1))\n",
    "        y_pred = self.sentence_decoder(y_pos,x_lab,mask_y)\n",
    "        \n",
    "        return(y_pred.transpose(0,1),y)\n",
    "    \n",
    "    def encode_gener(self,x,ctx_x,label_x):\n",
    "        device = x.device\n",
    "        mask_x = self._generate_square_subsequent_mask(x.shape[1]).to(device)\n",
    "        mask_ctx = self._generate_square_subsequent_mask(ctx_x.shape[1]).to(device)\n",
    "        \n",
    "        # Embedding\n",
    "        x = self.embed_layer(x).transpose(0,1) # token x batch x embedding\n",
    "        ctx_x = self.embed_layer(ctx_x).transpose(0,1)\n",
    "        \n",
    "        # Positional Encoding\n",
    "        x = self.positional_layer(x)\n",
    "        ctx_x = self.positional_layer(ctx_x)        \n",
    "        \n",
    "        # Encoders\n",
    "        x_enc = self.sentence_encoder(x,mask_x)\n",
    "        ctx_enc = self.context_encoder(ctx_x,mask_ctx)\n",
    "        \n",
    "        # Linear and Style Mixing\n",
    "        x_and_ctx = torch.cat((x_enc,ctx_enc),dim = 0)\n",
    "        label = (1-label_x).reshape((1,x_and_ctx.shape[1])).expand((x_and_ctx.shape[0],x_and_ctx.shape[1]))\n",
    "        x_lab = x_and_ctx + self.label_embedding(label)\n",
    "        return(x_lab)"
   ]
  },
  {
   "cell_type": "markdown",
   "metadata": {},
   "source": [
    "## Training  (To be adapted once we have the Context and Style Class For the Embedding)"
   ]
  },
  {
   "cell_type": "code",
   "execution_count": 10,
   "metadata": {},
   "outputs": [],
   "source": [
    "# Definition of the model(s)\n",
    "\n",
    "model = ParallelModel(dict_size, d_embedding, nb_heads, d_feedforward).to(device)\n",
    "model.embed_layer = embedding"
   ]
  },
  {
   "cell_type": "code",
   "execution_count": 11,
   "metadata": {},
   "outputs": [],
   "source": [
    "# Information concerning the Training optimizer\n",
    "\n",
    "from torch.optim import Adam\n",
    "\n",
    "decoder_linear = torch.nn.Linear(d_embedding,dict_size).to(device)\n",
    "\n",
    "softmax_layer = torch.nn.LogSoftmax(dim = 2).to(device)\n",
    "\n",
    "params = list(model.parameters()) + list(decoder_linear.parameters())#+ list(context_encoder.parameters()) + \n",
    "                                  #list(linear_context.parameters) + list(sentence_decoder.parameters())\n",
    "\n",
    "l_r = 1e-2\n",
    "optimizer=Adam(params,lr=l_r)\n",
    "l1=1 #\n",
    "l2=1\n",
    "l3=1"
   ]
  },
  {
   "cell_type": "code",
   "execution_count": 12,
   "metadata": {},
   "outputs": [],
   "source": [
    "# Losses \n",
    "loss_seq2seq = torch.nn.SmoothL1Loss(reduction='sum') #Contextual Seq2Seq Loss\n",
    "loss_coherence = torch.nn.CrossEntropyLoss() #Contextual Coherence Loss\n",
    "loss_style = torch.nn.BCELoss(reduction = 'sum') #Style Classification Loss"
   ]
  },
  {
   "cell_type": "code",
   "execution_count": 13,
   "metadata": {},
   "outputs": [
    {
     "name": "stdout",
     "output_type": "stream",
     "text": [
      "tensor([[[-0.9343,  0.8310, -1.1126,  ...,  1.4479,  0.8718, -0.1819],\n",
      "         [-1.5765,  0.3152, -1.3931,  ...,  1.5473,  0.8813, -0.3713],\n",
      "         [-1.7002,  0.9416, -1.4263,  ...,  1.2387,  0.6301,  0.1181],\n",
      "         ...,\n",
      "         [-1.1750, -0.2405, -0.9580,  ...,  1.5387,  1.0224, -0.2629],\n",
      "         [-1.2157,  0.8378, -1.1481,  ...,  1.2760,  0.5970, -0.7273],\n",
      "         [-1.1866,  0.9243, -1.2017,  ..., -0.0419,  1.4286, -0.1977]],\n",
      "\n",
      "        [[ 0.1876, -1.1060,  1.1876,  ...,  0.7517, -1.1328,  2.9038],\n",
      "         [ 0.0509,  0.4956,  0.7225,  ...,  2.2363, -1.8707,  0.1714],\n",
      "         [-0.9257, -0.5070, -0.3376,  ...,  1.6126, -0.8316,  1.5551],\n",
      "         ...,\n",
      "         [ 2.0687,  1.4790,  0.3611,  ...,  1.5353, -0.6649,  1.0059],\n",
      "         [ 0.6500,  0.4130, -0.5112,  ...,  0.2479, -0.9138,  0.5989],\n",
      "         [ 1.2248,  0.3803, -0.9406,  ...,  0.4989, -0.8036,  0.9017]],\n",
      "\n",
      "        [[ 0.2399,  0.0554, -0.0151,  ...,  0.3569, -1.2608,  0.8172],\n",
      "         [-0.4532, -0.8685,  0.9083,  ...,  1.4192, -0.5208, -0.5688],\n",
      "         [-0.0122, -1.3753, -0.7957,  ...,  1.1306, -0.5826,  2.0206],\n",
      "         ...,\n",
      "         [ 0.0460,  0.2512,  0.9430,  ...,  1.5020,  0.2000, -0.4566],\n",
      "         [ 0.9925, -1.8318, -0.5561,  ...,  0.5539, -1.0611,  1.1454],\n",
      "         [-0.9354, -0.2236,  0.2775,  ...,  0.0327,  0.2995,  1.9782]],\n",
      "\n",
      "        ...,\n",
      "\n",
      "        [[ 0.9570,  0.7861, -1.0627,  ...,  1.0621, -0.5858, -0.1937],\n",
      "         [ 0.7317,  0.4468, -1.1328,  ...,  1.1505, -0.5078,  1.0571],\n",
      "         [ 0.7880,  0.7742, -1.3738,  ...,  0.9332, -0.7271,  1.5770],\n",
      "         ...,\n",
      "         [ 0.6391,  0.8091, -0.9071,  ...,  1.0471, -0.5794,  1.4021],\n",
      "         [ 0.7656,  0.5213, -1.1412,  ..., -0.3951, -0.5024, -0.2839],\n",
      "         [ 0.5998,  0.4174, -0.6567,  ...,  1.2928, -0.5748,  1.4557]],\n",
      "\n",
      "        [[ 0.7670, -0.4736,  0.5496,  ...,  1.0888, -0.7493,  1.5575],\n",
      "         [ 0.8361, -1.0555,  0.2968,  ...,  1.1110, -0.6977,  1.3246],\n",
      "         [ 0.7603, -0.8765,  0.4803,  ..., -0.3990, -0.7067,  1.4264],\n",
      "         ...,\n",
      "         [ 0.8824, -0.9535,  0.2436,  ...,  1.2667, -0.7193,  1.0857],\n",
      "         [ 0.8141, -0.9600,  0.2648,  ...,  1.1879, -0.5355, -0.3892],\n",
      "         [ 0.8624, -0.7683,  0.4067,  ...,  1.1411, -0.6685,  1.0578]],\n",
      "\n",
      "        [[-0.2681, -1.5790,  0.6733,  ...,  1.1996, -0.5063,  1.2947],\n",
      "         [-0.3759, -1.9984,  0.5923,  ...,  0.9938, -0.7231,  1.5191],\n",
      "         [-0.4752, -1.9109,  0.6950,  ...,  1.0192, -0.6390,  1.3085],\n",
      "         ...,\n",
      "         [-0.6667, -1.9589,  0.8532,  ...,  1.2821, -0.6287, -0.4151],\n",
      "         [-0.6421, -1.7267,  0.6291,  ...,  1.2259, -0.3930,  0.9899],\n",
      "         [-0.1279, -1.5583, -0.5293,  ...,  1.0931, -0.6307, -0.1568]]],\n",
      "       grad_fn=<NativeLayerNormBackward>)\n"
     ]
    },
    {
     "name": "stderr",
     "output_type": "stream",
     "text": [
      "/Users/alisdair/anaconda3/lib/python3.7/site-packages/torch/nn/modules/loss.py:498: UserWarning: Using a target size (torch.Size([64])) that is different to the input size (torch.Size([64, 1])) is deprecated. Please ensure they have the same size.\n",
      "  return F.binary_cross_entropy(input, target, weight=self.weight, reduction=self.reduction)\n"
     ]
    },
    {
     "name": "stdout",
     "output_type": "stream",
     "text": [
      "| epoch   1 |     1/  330 batches | loss 744277.44 | loss_seq  743725.50 | loss_style 551.91 | total loss 744277.44 | l_rate 1e-02\n",
      "----------------------------------------------------------------------\n",
      "Epoch  1 \t 2262.24\n",
      "----------------------------------------------------------------------\n"
     ]
    }
   ],
   "source": [
    "nb_epoch = 1\n",
    "\n",
    "train_loader = torch.utils.data.DataLoader(train_data, batch_size=batch_size,\n",
    "                                            shuffle=True,collate_fn=train_data.collate)\n",
    "n = len(train_data.x) // batch_size\n",
    "loss_graph = []\n",
    "loss_style_list = []\n",
    "for epoch in range(nb_epoch):\n",
    "    total_loss = 0\n",
    "    total_style = 0\n",
    "    i = 0\n",
    "    for x, y, ctx_x,ctx_y , len_x,len_y , len_ctx_x,len_ctx_y, label,label_ctx in train_loader:\n",
    "        i += 1\n",
    "        optimizer.zero_grad()\n",
    "        \n",
    "        y_pred, y = model.forward(x,ctx_x,y,label) #Output still embedded \n",
    "        \n",
    "        # Seq2Seq Loss with Token\n",
    "        \n",
    "        loss_seq = l1*loss_seq2seq(y_pred,y)\n",
    "        \n",
    "        # Argmax\n",
    "        y_pred = decoder_linear(y_pred)\n",
    "        y_pred = torch.argmax(softmax_layer(y_pred),dim = 2)\n",
    "        \n",
    "        # Style class\n",
    "        style_pred = style_classifier.forward(y_pred)\n",
    "        loss_sty = l2*loss_style(style_pred, (1-label).float())\n",
    "        \n",
    "        # Step\n",
    "        \n",
    "        loss = loss_seq + loss_sty\n",
    "        loss.backward()\n",
    "        optimizer.step()\n",
    "        \n",
    "        total_loss += loss.item()\n",
    "        total_style += loss_sty.item()\n",
    "        if(i == 1 or i%5 == 0 or i == n):\n",
    "          print('| epoch {:3d} | {:5d}/{:5d} batches | '\n",
    "                'loss {:5.2f} | loss_seq  {:5.2f} | loss_style {:5.2f} | '\n",
    "                'total loss {:5.2f} | l_rate {:.0e}'.format(\n",
    "                  epoch+1, i, n+1,loss.item(),loss_seq.item(),loss_sty.item(),\n",
    "                    total_loss/i,optimizer.param_groups[0][\"lr\"]))\n",
    "        loss_graph += [total_loss/i]\n",
    "        loss_style_list += [total_style/i]\n",
    "\n",
    "    print('-' * 70)\n",
    "    print(\"Epoch \",epoch+1,\"\\t\",round(total_loss / n,2))\n",
    "    print('-' * 70)"
   ]
  },
  {
   "cell_type": "code",
   "execution_count": 284,
   "metadata": {},
   "outputs": [
    {
     "data": {
      "image/png": "[encoded data removed]",
      "text/plain": [
       "<Figure size 1152x1152 with 4 Axes>"
      ]
     },
     "metadata": {
      "needs_background": "light"
     },
     "output_type": "display_data"
    }
   ],
   "source": [
    "from matplotlib import pyplot as plt\n",
    "import numpy as np\n",
    "plt.figure(1,figsize=(16,16))\n",
    "plt.subplot(221)\n",
    "plt.plot(np.arange(len(loss_graph)),loss_graph)\n",
    "plt.grid()\n",
    "plt.subplot(222)\n",
    "plt.plot(np.arange(len(loss_graph)),loss_graph)\n",
    "plt.xscale('log')\n",
    "plt.yscale('log')\n",
    "plt.grid()\n",
    "plt.subplot(223)\n",
    "plt.plot(np.arange(len(loss_style_list)),loss_style_list)\n",
    "plt.grid()\n",
    "plt.subplot(224)\n",
    "plt.plot(np.arange(len(loss_style_list)),loss_style_list)\n",
    "plt.xscale('log')\n",
    "plt.yscale('log')\n",
    "plt.grid()\n",
    "plt.show()"
   ]
  }
 ],
 "metadata": {
  "kernelspec": {
   "display_name": "Python 3",
   "language": "python",
   "name": "python3"
  },
  "language_info": {
   "codemirror_mode": {
    "name": "ipython",
    "version": 3
   },
   "file_extension": ".py",
   "mimetype": "text/x-python",
   "name": "python",
   "nbconvert_exporter": "python",
   "pygments_lexer": "ipython3",
   "version": "3.7.3"
  }
 },
 "nbformat": 4,
 "nbformat_minor": 2
}
