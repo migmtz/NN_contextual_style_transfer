{
 "cells": [
  {
   "cell_type": "markdown",
   "metadata": {},
   "source": [
    "# Only Parallel Data Model"
   ]
  },
  {
   "cell_type": "markdown",
   "metadata": {},
   "source": [
    "This is the Python Notebook concerning the final version containing the coding for the Only-Parallel (Supervised) version of the program. It is to be completed with the correct format of the Contextual and Style Classifiers in their corresponding parts.\n",
    "\n",
    "Date of upload: Friday 31th January\n",
    "\n",
    "Actual Version: 3.0, coherence implemented (Monday 10th February, night)\n",
    "\n",
    "Precedent Versions : 2.1, 2.0, 1.1, 1.0\n",
    "\n"
   ]
  },
  {
   "cell_type": "markdown",
   "metadata": {},
   "source": [
    "## import(s)"
   ]
  },
  {
   "cell_type": "code",
   "execution_count": 5,
   "metadata": {},
   "outputs": [
    {
     "name": "stdout",
     "output_type": "stream",
     "text": [
      "device =  cuda\n",
      "1.4.0\n"
     ]
    }
   ],
   "source": [
    "from scripts.data_builders.prepare_dataset import prepare_dataset_parallel,string2code,code2string\n",
    "\n",
    "import math\n",
    "import torch\n",
    "import torchvision.datasets as datasets\n",
    "import torch.nn.functional as F\n",
    "from torch import nn\n",
    "from torch import optim\n",
    "from torch.utils.tensorboard import SummaryWriter\n",
    "from torchnlp.metrics import get_moses_multi_bleu,get_token_accuracy\n",
    "from torch.optim import Adam\n",
    "\n",
    "from pathlib import Path\n",
    "\n",
    "device = torch.device('cuda' if torch.cuda.is_available() else 'cpu')\n",
    "print(\"device = \",device)\n",
    "print(torch.__version__)"
   ]
  },
  {
   "cell_type": "markdown",
   "metadata": {},
   "source": [
    "## Data Pre-processing"
   ]
  },
  {
   "cell_type": "code",
   "execution_count": 6,
   "metadata": {},
   "outputs": [
    {
     "name": "stdout",
     "output_type": "stream",
     "text": [
      "Loading ...\n",
      "- Shakespeare dataset length :  21079\n",
      "- Corrupted samples (ignored) :  0\n"
     ]
    }
   ],
   "source": [
    "train_data, dict_words = prepare_dataset_parallel(\"data/shakespeare.csv\",device,ratio=0.5) #check with shift+tab to look at the data structure\n",
    "dict_token = {b:a for a,b in dict_words.items()}"
   ]
  },
  {
   "cell_type": "markdown",
   "metadata": {},
   "source": [
    "## Parameters and Embedding"
   ]
  },
  {
   "cell_type": "code",
   "execution_count": 7,
   "metadata": {},
   "outputs": [],
   "source": [
    "savepath = Path(\"data/models/embedding_v1\")\n",
    "embedding = torch.load(savepath,map_location = device)\n",
    "embedding.weight.requires_grad = False"
   ]
  },
  {
   "cell_type": "code",
   "execution_count": 8,
   "metadata": {},
   "outputs": [],
   "source": [
    "nb_heads = 4\n",
    "d_feedforward = 1024\n",
    "batch_size = 32\n",
    "dict_size = len(dict_token)\n",
    "\n",
    "d_embedding = embedding.embedding_dim"
   ]
  },
  {
   "cell_type": "markdown",
   "metadata": {},
   "source": [
    "## Positional Encoding"
   ]
  },
  {
   "cell_type": "code",
   "execution_count": 9,
   "metadata": {},
   "outputs": [],
   "source": [
    "class PositionalEncoding(torch.nn.Module):\n",
    "\n",
    "    def __init__(self, d_model, dropout=0.1, max_len=5000):\n",
    "        super(PositionalEncoding, self).__init__()\n",
    "        self.dropout = torch.nn.Dropout(p=dropout)\n",
    "\n",
    "        pe = torch.zeros(max_len, d_model)\n",
    "        position = torch.arange(0, max_len, dtype=torch.float).unsqueeze(1)\n",
    "        div_term = torch.exp(torch.arange(0, d_model, 2).float() * (-math.log(10000.0) / d_model))\n",
    "        pe[:, 0::2] = torch.sin(position * div_term)\n",
    "        pe[:, 1::2] = torch.cos(position * div_term)\n",
    "        pe = pe.unsqueeze(0).transpose(0, 1)\n",
    "        self.register_buffer('pe', pe)\n",
    "\n",
    "    def forward(self, x):\n",
    "        x = x + self.pe[:x.size(0), :]\n",
    "        return self.dropout(x)"
   ]
  },
  {
   "cell_type": "markdown",
   "metadata": {},
   "source": [
    "## Context Classifier (To be filled)"
   ]
  },
  {
   "cell_type": "code",
   "execution_count": 10,
   "metadata": {},
   "outputs": [],
   "source": [
    "savepath_style = Path(\"data/models/coherence_classifier_v1_epoch_100\")\n",
    "coherence_classifier = torch.load(savepath_style,map_location = device)\n",
    "coherence_classifier.requires_grad = False"
   ]
  },
  {
   "cell_type": "markdown",
   "metadata": {},
   "source": [
    "## Style classifier (To be filled)"
   ]
  },
  {
   "cell_type": "code",
   "execution_count": 11,
   "metadata": {},
   "outputs": [],
   "source": [
    "savepath_style = Path(\"data/models/style_classifier_v1\")\n",
    "style_classifier = torch.load(savepath_style,map_location = device)\n",
    "style_classifier.requires_grad = False"
   ]
  },
  {
   "cell_type": "markdown",
   "metadata": {},
   "source": [
    "## Model (To be adapted once we have the Context and Style Class For the Embedding)"
   ]
  },
  {
   "cell_type": "code",
   "execution_count": 12,
   "metadata": {},
   "outputs": [],
   "source": [
    "class ParallelModel(torch.nn.Module):\n",
    "    def __init__(self,dict_size, d_embedding, nb_heads, d_feedforward):\n",
    "        super().__init__()\n",
    "       \n",
    "        self.embed_layer = torch.nn.Embedding(dict_size+1, d_embedding, padding_idx=dict_size)\n",
    "        self.positional_layer = PositionalEncoding(d_embedding)\n",
    "        self.sentence_encoder = torch.nn.TransformerEncoderLayer(d_model = d_embedding, nhead = nb_heads,\n",
    "                                                    dim_feedforward = d_feedforward)\n",
    "        self.context_encoder = torch.nn.TransformerEncoderLayer(d_model = d_embedding, nhead = nb_heads,\n",
    "                                                    dim_feedforward = d_feedforward)\n",
    "        self.sentence_decoder = torch.nn.TransformerDecoderLayer(d_model = d_embedding, nhead = nb_heads,\n",
    "                                                    dim_feedforward = d_feedforward)\n",
    "        self.label_embedding = torch.nn.Embedding(2,768)\n",
    "        self.padd = dict_size\n",
    "   \n",
    "    def _generate_padding_mask(self,x):\n",
    "        mask = (x == dict_size)\n",
    "        return mask\n",
    "   \n",
    "    def _generate_square_subsequent_mask(self,sz):\n",
    "        mask = (torch.triu(torch.ones(sz, sz)) == 1).transpose(0, 1)\n",
    "        mask = mask.float().masked_fill(mask == 0, float('-inf')).masked_fill(mask == 1, float(0.0))\n",
    "        return mask\n",
    "   \n",
    "    def forward(self,x,ctx_x,y,label_x):\n",
    "        device = x.device\n",
    "        padd_x_mask = self._generate_padding_mask(x).to(device)\n",
    "        padd_ctx_mask = self._generate_padding_mask(ctx_x).to(device)\n",
    "        padd_y_mask = self._generate_padding_mask(y).to(device)\n",
    "       \n",
    "        mask_x = self._generate_square_subsequent_mask(x.shape[1]).to(device)\n",
    "        mask_ctx = self._generate_square_subsequent_mask(ctx_x.shape[1]).to(device)\n",
    "        mask_y = self._generate_square_subsequent_mask(y.shape[1]).to(device)\n",
    "       \n",
    "        # Embedding\n",
    "        x = self.embed_layer(x).transpose(0,1) # token x batch x embedding\n",
    "        ctx_x = self.embed_layer(ctx_x).transpose(0,1)\n",
    "       \n",
    "        # Positional Encoding\n",
    "        x = self.positional_layer(x)\n",
    "        ctx_x = self.positional_layer(ctx_x)        \n",
    "       \n",
    "        # Encoders\n",
    "        x_enc = self.sentence_encoder(x,src_mask=mask_x,src_key_padding_mask=padd_x_mask)\n",
    "        ctx_enc = self.context_encoder(ctx_x,src_mask=mask_ctx,src_key_padding_mask=padd_ctx_mask)\n",
    " \n",
    "        # Linear and Style Mixing\n",
    "        x_and_ctx = torch.cat((x_enc,ctx_enc),dim = 0)\n",
    "        label = (1-label_x).reshape((1,x_and_ctx.shape[1])).expand((x_and_ctx.shape[0],x_and_ctx.shape[1])).to(device)\n",
    "        x_lab = x_and_ctx + self.label_embedding(label)\n",
    "       \n",
    "        # Decoder\n",
    "        padd_mem_mask = torch.cat((padd_x_mask,padd_ctx_mask),1)\n",
    "        y = self.embed_layer(y)\n",
    "        y_pos = self.positional_layer(y.transpose(0,1))\n",
    "        y_pred = self.sentence_decoder(y_pos,x_lab,tgt_mask=mask_y,tgt_key_padding_mask=padd_y_mask,\n",
    "                                       memory_key_padding_mask=padd_mem_mask)\n",
    "       \n",
    "        return(y_pred.transpose(0,1),y)\n",
    "   \n",
    "    def translator(self,x,ctx_x,y,label_x):\n",
    "        device = x.device\n",
    "        mask_x = self._generate_square_subsequent_mask(x.shape[1]).to(device)\n",
    "        mask_ctx = self._generate_square_subsequent_mask(ctx_x.shape[1]).to(device)\n",
    "       \n",
    "        # Embedding\n",
    "        x = self.embed_layer(x).transpose(0,1) # token x batch x embedding\n",
    "        ctx_x = self.embed_layer(ctx_x).transpose(0,1)\n",
    "       \n",
    "        # Positional Encoding\n",
    "        x = self.positional_layer(x)\n",
    "        ctx_x = self.positional_layer(ctx_x)        \n",
    "       \n",
    "        # Encoders\n",
    "        x_enc = self.sentence_encoder(x,mask_x)\n",
    "        ctx_enc = self.context_encoder(ctx_x,mask_ctx)\n",
    "       \n",
    "        # Linear and Style Mixing\n",
    "        x_and_ctx = torch.cat((x_enc,ctx_enc),dim = 0)\n",
    "        label = (1-label_x).reshape((1,x_and_ctx.shape[1])).expand((x_and_ctx.shape[0],x_and_ctx.shape[1])).to(device)\n",
    "        x_lab = x_and_ctx + self.label_embedding(label)\n",
    "        return(x_lab)"
   ]
  },
  {
   "cell_type": "markdown",
   "metadata": {},
   "source": [
    "## Training  (To be adapted once we have the Context and Style Class For the Embedding)"
   ]
  },
  {
   "cell_type": "code",
   "execution_count": 13,
   "metadata": {},
   "outputs": [],
   "source": [
    "# Definition of the model(s)\n",
    "\n",
    "model = ParallelModel(dict_size, d_embedding, nb_heads, d_feedforward).to(device)\n",
    "model.embed_layer = embedding\n",
    "model.embed_layer.weight.requires_grad = False"
   ]
  },
  {
   "cell_type": "code",
   "execution_count": 14,
   "metadata": {},
   "outputs": [],
   "source": [
    "# Information concerning the Training optimizer\n",
    "\n",
    "decoder_linear = torch.nn.Linear(d_embedding,dict_size).to(device)\n",
    "softmax_layer = torch.nn.LogSoftmax(dim = 2).to(device)\n",
    "\n",
    "params = list(model.parameters()) + list(decoder_linear.parameters())#+ list(context_encoder.parameters()) + \n",
    "                                  #list(linear_context.parameters) + list(sentence_decoder.parameters())\n",
    "\n",
    "l_r = 5e-4\n",
    "optimizer=Adam(params,lr=l_r)\n",
    "\n",
    "#Weights of the losses\n",
    "l1=1 #\n",
    "l2=1\n",
    "l3=1"
   ]
  },
  {
   "cell_type": "code",
   "execution_count": 15,
   "metadata": {},
   "outputs": [],
   "source": [
    "# Losses \n",
    "#loss_seq2seq = torch.nn.SmoothL1Loss(reduction='mean') #Contextual Seq2Seq Loss\n",
    "#loss_seq2seq = torch.nn.KLDivLoss(reduction = 'mean')\n",
    "loss_seq2seq = torch.nn.CrossEntropyLoss(reduction = 'mean',ignore_index=dict_size)"
   ]
  },
  {
   "cell_type": "code",
   "execution_count": 16,
   "metadata": {
    "scrolled": true
   },
   "outputs": [
    {
     "name": "stdout",
     "output_type": "stream",
     "text": [
      "| epoch   1 |     1/  658 batches | total loss 14.47 | seq2seq loss  9.95 | style loss  2.01 | coherence loss  2.51| total accuracy  0.00 | total BLEU  0.00\n",
      "| epoch   1 |    95/  658 batches | total loss  4.49 | seq2seq loss  4.33 | style loss  0.10 | coherence loss  0.06| total accuracy  0.17 | total BLEU 18.25\n",
      "| epoch   1 |   189/  658 batches | total loss  2.96 | seq2seq loss  2.88 | style loss  0.05 | coherence loss  0.03| total accuracy  0.24 | total BLEU 42.83\n",
      "| epoch   1 |   283/  658 batches | total loss  2.29 | seq2seq loss  2.23 | style loss  0.04 | coherence loss  0.03| total accuracy  0.27 | total BLEU 54.73\n",
      "| epoch   1 |   377/  658 batches | total loss  1.90 | seq2seq loss  1.85 | style loss  0.03 | coherence loss  0.02| total accuracy  0.29 | total BLEU 62.12\n",
      "| epoch   1 |   471/  658 batches | total loss  1.64 | seq2seq loss  1.60 | style loss  0.02 | coherence loss  0.02| total accuracy  0.30 | total BLEU 67.17\n",
      "| epoch   1 |   565/  658 batches | total loss  1.45 | seq2seq loss  1.41 | style loss  0.02 | coherence loss  0.02| total accuracy  0.30 | total BLEU 70.92\n",
      "--------------------------------------------------------------------------------------------------------------\n",
      "| epoch   2 |     1/  658 batches | total loss  0.34 | seq2seq loss  0.33 | style loss  0.00 | coherence loss  0.01| total accuracy  0.31 | total BLEU 94.20\n",
      "| epoch   2 |    95/  658 batches | total loss  0.30 | seq2seq loss  0.29 | style loss  0.00 | coherence loss  0.01| total accuracy  0.36 | total BLEU 94.58\n",
      "| epoch   2 |   189/  658 batches | total loss  0.28 | seq2seq loss  0.27 | style loss  0.00 | coherence loss  0.01| total accuracy  0.36 | total BLEU 95.02\n",
      "| epoch   2 |   283/  658 batches | total loss  0.71 | seq2seq loss  0.68 | style loss  0.02 | coherence loss  0.01| total accuracy  0.34 | total BLEU 85.36\n",
      "| epoch   2 |   377/  658 batches | total loss  0.84 | seq2seq loss  0.81 | style loss  0.02 | coherence loss  0.01| total accuracy  0.33 | total BLEU 81.90\n",
      "| epoch   2 |   471/  658 batches | total loss  0.73 | seq2seq loss  0.70 | style loss  0.01 | coherence loss  0.01| total accuracy  0.34 | total BLEU 84.13\n",
      "| epoch   2 |   565/  658 batches | total loss  0.65 | seq2seq loss  0.63 | style loss  0.01 | coherence loss  0.01| total accuracy  0.34 | total BLEU 85.87\n"
     ]
    },
    {
     "name": "stderr",
     "output_type": "stream",
     "text": [
      "multi-bleu.perl script returned non-zero exit code\n",
      "b'\\ngzip: /tmp/tmpw2f0v0gz: not in gzip format\\nERROR: could not find reference file /tmp/tmpw2f0v0gz at /tmp/tmp10lbee28 line 32.\\n'\n"
     ]
    },
    {
     "name": "stdout",
     "output_type": "stream",
     "text": [
      "--------------------------------------------------------------------------------------------------------------\n",
      "| epoch   3 |     1/  658 batches | total loss  0.22 | seq2seq loss  0.21 | style loss  0.00 | coherence loss  0.01| total accuracy  0.19 | total BLEU 94.89\n",
      "| epoch   3 |    95/  658 batches | total loss  0.14 | seq2seq loss  0.13 | style loss  0.00 | coherence loss  0.01| total accuracy  0.35 | total BLEU 97.34\n",
      "| epoch   3 |   189/  658 batches | total loss  0.14 | seq2seq loss  0.13 | style loss  0.00 | coherence loss  0.01| total accuracy  0.34 | total BLEU 97.42\n",
      "| epoch   3 |   283/  658 batches | total loss  0.14 | seq2seq loss  0.14 | style loss  0.00 | coherence loss  0.01| total accuracy  0.35 | total BLEU 97.34\n",
      "| epoch   3 |   377/  658 batches | total loss  0.15 | seq2seq loss  0.14 | style loss  0.00 | coherence loss  0.01| total accuracy  0.35 | total BLEU 97.21\n",
      "| epoch   3 |   471/  658 batches | total loss  0.14 | seq2seq loss  0.14 | style loss  0.00 | coherence loss  0.01| total accuracy  0.35 | total BLEU 97.25\n",
      "| epoch   3 |   565/  658 batches | total loss  0.15 | seq2seq loss  0.14 | style loss  0.00 | coherence loss  0.01| total accuracy  0.35 | total BLEU 97.11\n",
      "--------------------------------------------------------------------------------------------------------------\n",
      "| epoch   4 |     1/  658 batches | total loss  0.09 | seq2seq loss  0.08 | style loss  0.00 | coherence loss  0.01| total accuracy  0.35 | total BLEU 98.56\n",
      "| epoch   4 |    95/  658 batches | total loss  0.07 | seq2seq loss  0.06 | style loss  0.00 | coherence loss  0.01| total accuracy  0.35 | total BLEU 98.97\n",
      "| epoch   4 |   189/  658 batches | total loss  0.07 | seq2seq loss  0.06 | style loss  0.00 | coherence loss  0.01| total accuracy  0.35 | total BLEU 98.92\n",
      "| epoch   4 |   283/  658 batches | total loss  0.07 | seq2seq loss  0.07 | style loss  0.00 | coherence loss  0.01| total accuracy  0.35 | total BLEU 98.71\n",
      "| epoch   4 |   377/  658 batches | total loss  0.07 | seq2seq loss  0.07 | style loss  0.00 | coherence loss  0.01| total accuracy  0.35 | total BLEU 98.73\n",
      "| epoch   4 |   471/  658 batches | total loss  0.07 | seq2seq loss  0.07 | style loss  0.00 | coherence loss  0.01| total accuracy  0.35 | total BLEU 98.75\n",
      "| epoch   4 |   565/  658 batches | total loss  0.07 | seq2seq loss  0.07 | style loss  0.00 | coherence loss  0.01| total accuracy  0.35 | total BLEU 98.73\n",
      "--------------------------------------------------------------------------------------------------------------\n",
      "| epoch   5 |     1/  658 batches | total loss  0.05 | seq2seq loss  0.05 | style loss  0.00 | coherence loss  0.01| total accuracy  0.32 | total BLEU 99.45\n",
      "| epoch   5 |    95/  658 batches | total loss  0.05 | seq2seq loss  0.04 | style loss  0.00 | coherence loss  0.01| total accuracy  0.37 | total BLEU 99.37\n",
      "| epoch   5 |   189/  658 batches | total loss  0.04 | seq2seq loss  0.04 | style loss  0.00 | coherence loss  0.01| total accuracy  0.36 | total BLEU 99.38\n",
      "| epoch   5 |   283/  658 batches | total loss  0.04 | seq2seq loss  0.04 | style loss  0.00 | coherence loss  0.01| total accuracy  0.35 | total BLEU 99.35\n",
      "| epoch   5 |   377/  658 batches | total loss  0.04 | seq2seq loss  0.04 | style loss  0.00 | coherence loss  0.01| total accuracy  0.35 | total BLEU 99.37\n",
      "| epoch   5 |   471/  658 batches | total loss  0.05 | seq2seq loss  0.04 | style loss  0.00 | coherence loss  0.01| total accuracy  0.35 | total BLEU 99.30\n",
      "| epoch   5 |   565/  658 batches | total loss  0.05 | seq2seq loss  0.04 | style loss  0.00 | coherence loss  0.01| total accuracy  0.35 | total BLEU 99.26\n",
      "--------------------------------------------------------------------------------------------------------------\n"
     ]
    },
    {
     "name": "stderr",
     "output_type": "stream",
     "text": [
      "/opt/anaconda3/lib/python3.7/site-packages/torch/serialization.py:360: UserWarning: Couldn't retrieve source code for container of type ParallelModel. It won't be checked for correctness upon loading.\n",
      "  \"type \" + obj.__name__ + \". It won't be checked \"\n",
      "/opt/anaconda3/lib/python3.7/site-packages/torch/serialization.py:360: UserWarning: Couldn't retrieve source code for container of type PositionalEncoding. It won't be checked for correctness upon loading.\n",
      "  \"type \" + obj.__name__ + \". It won't be checked \"\n"
     ]
    },
    {
     "name": "stdout",
     "output_type": "stream",
     "text": [
      "| epoch   6 |     1/  658 batches | total loss  0.01 | seq2seq loss  0.01 | style loss  0.00 | coherence loss  0.01| total accuracy  0.28 | total BLEU 100.00\n",
      "| epoch   6 |    95/  658 batches | total loss  0.02 | seq2seq loss  0.02 | style loss  0.00 | coherence loss  0.01| total accuracy  0.35 | total BLEU 99.68\n",
      "| epoch   6 |   189/  658 batches | total loss  0.02 | seq2seq loss  0.02 | style loss  0.00 | coherence loss  0.01| total accuracy  0.35 | total BLEU 99.72\n",
      "| epoch   6 |   283/  658 batches | total loss  0.02 | seq2seq loss  0.02 | style loss  0.00 | coherence loss  0.01| total accuracy  0.35 | total BLEU 99.69\n",
      "| epoch   6 |   377/  658 batches | total loss  0.02 | seq2seq loss  0.02 | style loss  0.00 | coherence loss  0.01| total accuracy  0.35 | total BLEU 99.67\n",
      "| epoch   6 |   471/  658 batches | total loss  0.02 | seq2seq loss  0.02 | style loss  0.00 | coherence loss  0.01| total accuracy  0.35 | total BLEU 99.70\n",
      "| epoch   6 |   565/  658 batches | total loss  0.02 | seq2seq loss  0.02 | style loss  0.00 | coherence loss  0.01| total accuracy  0.35 | total BLEU 99.70\n",
      "--------------------------------------------------------------------------------------------------------------\n",
      "| epoch   7 |     1/  658 batches | total loss  0.01 | seq2seq loss  0.00 | style loss  0.00 | coherence loss  0.01| total accuracy  0.42 | total BLEU 100.00\n",
      "| epoch   7 |    95/  658 batches | total loss  0.02 | seq2seq loss  0.01 | style loss  0.00 | coherence loss  0.01| total accuracy  0.36 | total BLEU 99.83\n",
      "| epoch   7 |   189/  658 batches | total loss  0.02 | seq2seq loss  0.01 | style loss  0.00 | coherence loss  0.01| total accuracy  0.36 | total BLEU 99.84\n",
      "| epoch   7 |   283/  658 batches | total loss  0.02 | seq2seq loss  0.01 | style loss  0.00 | coherence loss  0.01| total accuracy  0.36 | total BLEU 99.83\n",
      "| epoch   7 |   377/  658 batches | total loss  0.02 | seq2seq loss  0.01 | style loss  0.00 | coherence loss  0.01| total accuracy  0.36 | total BLEU 99.81\n",
      "| epoch   7 |   471/  658 batches | total loss  0.02 | seq2seq loss  0.01 | style loss  0.00 | coherence loss  0.01| total accuracy  0.36 | total BLEU 99.81\n",
      "| epoch   7 |   565/  658 batches | total loss  0.02 | seq2seq loss  0.01 | style loss  0.00 | coherence loss  0.01| total accuracy  0.36 | total BLEU 99.80\n"
     ]
    },
    {
     "name": "stderr",
     "output_type": "stream",
     "text": [
      "multi-bleu.perl script returned non-zero exit code\n",
      "b'\\ngzip: /tmp/tmp17d2y8gz: not in gzip format\\nERROR: could not find reference file /tmp/tmp17d2y8gz at /tmp/tmpg9c6vl76 line 32.\\n'\n"
     ]
    },
    {
     "name": "stdout",
     "output_type": "stream",
     "text": [
      "--------------------------------------------------------------------------------------------------------------\n",
      "| epoch   8 |     1/  658 batches | total loss  0.01 | seq2seq loss  0.00 | style loss  0.00 | coherence loss  0.00| total accuracy  0.30 | total BLEU 100.00\n",
      "| epoch   8 |    95/  658 batches | total loss  0.01 | seq2seq loss  0.01 | style loss  0.00 | coherence loss  0.01| total accuracy  0.35 | total BLEU 99.90\n",
      "| epoch   8 |   189/  658 batches | total loss  0.01 | seq2seq loss  0.01 | style loss  0.00 | coherence loss  0.01| total accuracy  0.35 | total BLEU 99.91\n"
     ]
    },
    {
     "name": "stderr",
     "output_type": "stream",
     "text": [
      "multi-bleu.perl script returned non-zero exit code\n",
      "b'\\ngzip: /tmp/tmp4z1_wvgz: not in gzip format\\nERROR: could not find reference file /tmp/tmp4z1_wvgz at /tmp/tmpjqi0gyou line 32.\\n'\n"
     ]
    },
    {
     "name": "stdout",
     "output_type": "stream",
     "text": [
      "| epoch   8 |   283/  658 batches | total loss  0.01 | seq2seq loss  0.01 | style loss  0.00 | coherence loss  0.01| total accuracy  0.36 | total BLEU 99.56\n",
      "| epoch   8 |   377/  658 batches | total loss  0.01 | seq2seq loss  0.01 | style loss  0.00 | coherence loss  0.01| total accuracy  0.36 | total BLEU 99.64\n",
      "| epoch   8 |   471/  658 batches | total loss  0.01 | seq2seq loss  0.01 | style loss  0.00 | coherence loss  0.01| total accuracy  0.35 | total BLEU 99.68\n",
      "| epoch   8 |   565/  658 batches | total loss  0.01 | seq2seq loss  0.01 | style loss  0.00 | coherence loss  0.01| total accuracy  0.35 | total BLEU 99.72\n",
      "--------------------------------------------------------------------------------------------------------------\n",
      "| epoch   9 |     1/  658 batches | total loss  0.01 | seq2seq loss  0.00 | style loss  0.00 | coherence loss  0.01| total accuracy  0.46 | total BLEU 100.00\n",
      "| epoch   9 |    95/  658 batches | total loss  0.01 | seq2seq loss  0.00 | style loss  0.00 | coherence loss  0.01| total accuracy  0.36 | total BLEU 99.95\n",
      "| epoch   9 |   189/  658 batches | total loss  0.01 | seq2seq loss  0.00 | style loss  0.00 | coherence loss  0.01| total accuracy  0.36 | total BLEU 99.95\n",
      "| epoch   9 |   283/  658 batches | total loss  0.27 | seq2seq loss  0.24 | style loss  0.02 | coherence loss  0.01| total accuracy  0.35 | total BLEU 96.23\n",
      "| epoch   9 |   377/  658 batches | total loss  1.78 | seq2seq loss  1.75 | style loss  0.02 | coherence loss  0.01| total accuracy  0.27 | total BLEU 72.23\n"
     ]
    },
    {
     "name": "stderr",
     "output_type": "stream",
     "text": [
      "multi-bleu.perl script returned non-zero exit code\n",
      "b'\\ngzip: /tmp/tmpmsru0ygz: not in gzip format\\nERROR: could not find reference file /tmp/tmpmsru0ygz at /tmp/tmp85dhcc3v line 32.\\n'\n"
     ]
    },
    {
     "name": "stdout",
     "output_type": "stream",
     "text": [
      "| epoch   9 |   471/  658 batches | total loss  2.38 | seq2seq loss  2.35 | style loss  0.01 | coherence loss  0.01| total accuracy  0.24 | total BLEU 60.65\n",
      "| epoch   9 |   565/  658 batches | total loss  2.48 | seq2seq loss  2.46 | style loss  0.01 | coherence loss  0.01| total accuracy  0.23 | total BLEU 58.35\n",
      "--------------------------------------------------------------------------------------------------------------\n",
      "| epoch  10 |     1/  658 batches | total loss  1.72 | seq2seq loss  1.70 | style loss  0.00 | coherence loss  0.01| total accuracy  0.36 | total BLEU 47.21\n",
      "| epoch  10 |    95/  658 batches | total loss  1.17 | seq2seq loss  1.14 | style loss  0.02 | coherence loss  0.01| total accuracy  0.29 | total BLEU 66.71\n",
      "| epoch  10 |   189/  658 batches | total loss  0.68 | seq2seq loss  0.66 | style loss  0.01 | coherence loss  0.01| total accuracy  0.32 | total BLEU 80.70\n",
      "| epoch  10 |   283/  658 batches | total loss  0.47 | seq2seq loss  0.45 | style loss  0.01 | coherence loss  0.01| total accuracy  0.33 | total BLEU 86.85\n",
      "| epoch  10 |   377/  658 batches | total loss  0.36 | seq2seq loss  0.35 | style loss  0.01 | coherence loss  0.01| total accuracy  0.34 | total BLEU 90.01\n",
      "| epoch  10 |   471/  658 batches | total loss  0.30 | seq2seq loss  0.28 | style loss  0.00 | coherence loss  0.01| total accuracy  0.34 | total BLEU 91.89\n",
      "| epoch  10 |   565/  658 batches | total loss  0.25 | seq2seq loss  0.24 | style loss  0.00 | coherence loss  0.01| total accuracy  0.34 | total BLEU 93.17\n",
      "--------------------------------------------------------------------------------------------------------------\n",
      "| epoch  11 |     1/  658 batches | total loss  0.01 | seq2seq loss  0.00 | style loss  0.00 | coherence loss  0.01| total accuracy  0.33 | total BLEU 100.00\n",
      "| epoch  11 |    95/  658 batches | total loss  0.01 | seq2seq loss  0.01 | style loss  0.00 | coherence loss  0.01| total accuracy  0.36 | total BLEU 99.89\n"
     ]
    },
    {
     "name": "stderr",
     "output_type": "stream",
     "text": [
      "multi-bleu.perl script returned non-zero exit code\n",
      "b'\\ngzip: /tmp/tmp_7f4btgz: not in gzip format\\nERROR: could not find reference file /tmp/tmp_7f4btgz at /tmp/tmpbp8c0vjx line 32.\\n'\n"
     ]
    },
    {
     "name": "stdout",
     "output_type": "stream",
     "text": [
      "| epoch  11 |   189/  658 batches | total loss  0.02 | seq2seq loss  0.01 | style loss  0.00 | coherence loss  0.01| total accuracy  0.36 | total BLEU 99.34\n",
      "| epoch  11 |   283/  658 batches | total loss  0.01 | seq2seq loss  0.01 | style loss  0.00 | coherence loss  0.01| total accuracy  0.36 | total BLEU 99.51\n",
      "| epoch  11 |   377/  658 batches | total loss  0.01 | seq2seq loss  0.01 | style loss  0.00 | coherence loss  0.01| total accuracy  0.36 | total BLEU 99.60\n",
      "| epoch  11 |   471/  658 batches | total loss  0.01 | seq2seq loss  0.01 | style loss  0.00 | coherence loss  0.01| total accuracy  0.36 | total BLEU 99.66\n",
      "| epoch  11 |   565/  658 batches | total loss  0.01 | seq2seq loss  0.01 | style loss  0.00 | coherence loss  0.01| total accuracy  0.36 | total BLEU 99.71\n",
      "--------------------------------------------------------------------------------------------------------------\n",
      "| epoch  12 |     1/  658 batches | total loss  0.01 | seq2seq loss  0.00 | style loss  0.00 | coherence loss  0.01| total accuracy  0.48 | total BLEU 100.00\n",
      "| epoch  12 |    95/  658 batches | total loss  0.01 | seq2seq loss  0.00 | style loss  0.00 | coherence loss  0.01| total accuracy  0.35 | total BLEU 99.97\n",
      "| epoch  12 |   189/  658 batches | total loss  0.02 | seq2seq loss  0.01 | style loss  0.00 | coherence loss  0.01| total accuracy  0.35 | total BLEU 99.88\n",
      "| epoch  12 |   283/  658 batches | total loss  0.02 | seq2seq loss  0.01 | style loss  0.00 | coherence loss  0.01| total accuracy  0.35 | total BLEU 99.84\n",
      "| epoch  12 |   377/  658 batches | total loss  0.02 | seq2seq loss  0.01 | style loss  0.00 | coherence loss  0.01| total accuracy  0.35 | total BLEU 99.86\n",
      "| epoch  12 |   471/  658 batches | total loss  0.02 | seq2seq loss  0.01 | style loss  0.00 | coherence loss  0.01| total accuracy  0.35 | total BLEU 99.88\n"
     ]
    },
    {
     "name": "stderr",
     "output_type": "stream",
     "text": [
      "multi-bleu.perl script returned non-zero exit code\n",
      "b'\\ngzip: /tmp/tmpdnhm7bgz: not in gzip format\\nERROR: could not find reference file /tmp/tmpdnhm7bgz at /tmp/tmp1hjded8v line 32.\\n'\n"
     ]
    },
    {
     "name": "stdout",
     "output_type": "stream",
     "text": [
      "| epoch  12 |   565/  658 batches | total loss  0.02 | seq2seq loss  0.01 | style loss  0.00 | coherence loss  0.01| total accuracy  0.35 | total BLEU 99.70\n",
      "--------------------------------------------------------------------------------------------------------------\n",
      "| epoch  13 |     1/  658 batches | total loss  0.02 | seq2seq loss  0.02 | style loss  0.00 | coherence loss  0.01| total accuracy  0.33 | total BLEU 99.26\n",
      "| epoch  13 |    95/  658 batches | total loss  0.01 | seq2seq loss  0.00 | style loss  0.00 | coherence loss  0.01| total accuracy  0.36 | total BLEU 99.92\n",
      "| epoch  13 |   189/  658 batches | total loss  0.01 | seq2seq loss  0.00 | style loss  0.00 | coherence loss  0.01| total accuracy  0.36 | total BLEU 99.94\n",
      "| epoch  13 |   283/  658 batches | total loss  0.01 | seq2seq loss  0.00 | style loss  0.00 | coherence loss  0.01| total accuracy  0.36 | total BLEU 99.95\n",
      "| epoch  13 |   377/  658 batches | total loss  0.01 | seq2seq loss  0.00 | style loss  0.00 | coherence loss  0.01| total accuracy  0.36 | total BLEU 99.95\n",
      "| epoch  13 |   471/  658 batches | total loss  0.01 | seq2seq loss  0.00 | style loss  0.00 | coherence loss  0.01| total accuracy  0.36 | total BLEU 99.95\n",
      "| epoch  13 |   565/  658 batches | total loss  0.02 | seq2seq loss  0.01 | style loss  0.00 | coherence loss  0.01| total accuracy  0.36 | total BLEU 99.77\n"
     ]
    },
    {
     "name": "stderr",
     "output_type": "stream",
     "text": [
      "multi-bleu.perl script returned non-zero exit code\n",
      "b'\\ngzip: /tmp/tmpm0s_2dgz: not in gzip format\\nERROR: could not find reference file /tmp/tmpm0s_2dgz at /tmp/tmpmdwfxr0h line 32.\\n'\n"
     ]
    },
    {
     "name": "stdout",
     "output_type": "stream",
     "text": [
      "--------------------------------------------------------------------------------------------------------------\n",
      "| epoch  14 |     1/  658 batches | total loss  0.13 | seq2seq loss  0.12 | style loss  0.00 | coherence loss  0.01| total accuracy  0.21 | total BLEU 96.63\n",
      "| epoch  14 |    95/  658 batches | total loss  0.02 | seq2seq loss  0.02 | style loss  0.00 | coherence loss  0.01| total accuracy  0.34 | total BLEU 99.66\n",
      "| epoch  14 |   189/  658 batches | total loss  0.02 | seq2seq loss  0.01 | style loss  0.00 | coherence loss  0.01| total accuracy  0.35 | total BLEU 99.76\n",
      "| epoch  14 |   283/  658 batches | total loss  0.02 | seq2seq loss  0.01 | style loss  0.00 | coherence loss  0.01| total accuracy  0.35 | total BLEU 99.80\n",
      "| epoch  14 |   377/  658 batches | total loss  0.01 | seq2seq loss  0.01 | style loss  0.00 | coherence loss  0.01| total accuracy  0.35 | total BLEU 99.84\n",
      "| epoch  14 |   471/  658 batches | total loss  0.01 | seq2seq loss  0.01 | style loss  0.00 | coherence loss  0.01| total accuracy  0.35 | total BLEU 99.86\n",
      "| epoch  14 |   565/  658 batches | total loss  0.01 | seq2seq loss  0.01 | style loss  0.00 | coherence loss  0.01| total accuracy  0.35 | total BLEU 99.87\n",
      "--------------------------------------------------------------------------------------------------------------\n",
      "| epoch  15 |     1/  658 batches | total loss  0.01 | seq2seq loss  0.00 | style loss  0.00 | coherence loss  0.01| total accuracy  0.45 | total BLEU 99.39\n",
      "| epoch  15 |    95/  658 batches | total loss  0.01 | seq2seq loss  0.00 | style loss  0.00 | coherence loss  0.01| total accuracy  0.37 | total BLEU 99.96\n",
      "| epoch  15 |   189/  658 batches | total loss  0.01 | seq2seq loss  0.00 | style loss  0.00 | coherence loss  0.01| total accuracy  0.36 | total BLEU 99.95\n",
      "| epoch  15 |   283/  658 batches | total loss  0.01 | seq2seq loss  0.00 | style loss  0.00 | coherence loss  0.01| total accuracy  0.36 | total BLEU 99.96\n",
      "| epoch  15 |   377/  658 batches | total loss  0.01 | seq2seq loss  0.00 | style loss  0.00 | coherence loss  0.01| total accuracy  0.35 | total BLEU 99.96\n",
      "| epoch  15 |   471/  658 batches | total loss  0.01 | seq2seq loss  0.00 | style loss  0.00 | coherence loss  0.01| total accuracy  0.35 | total BLEU 99.97\n",
      "| epoch  15 |   565/  658 batches | total loss  0.01 | seq2seq loss  0.00 | style loss  0.00 | coherence loss  0.01| total accuracy  0.35 | total BLEU 99.97\n",
      "--------------------------------------------------------------------------------------------------------------\n",
      "| epoch  16 |     1/  658 batches | total loss  0.01 | seq2seq loss  0.00 | style loss  0.00 | coherence loss  0.00| total accuracy  0.40 | total BLEU 100.00\n",
      "| epoch  16 |    95/  658 batches | total loss  0.01 | seq2seq loss  0.00 | style loss  0.00 | coherence loss  0.01| total accuracy  0.34 | total BLEU 99.99\n",
      "| epoch  16 |   189/  658 batches | total loss  0.01 | seq2seq loss  0.00 | style loss  0.00 | coherence loss  0.01| total accuracy  0.35 | total BLEU 99.98\n",
      "| epoch  16 |   283/  658 batches | total loss  0.01 | seq2seq loss  0.00 | style loss  0.00 | coherence loss  0.01| total accuracy  0.35 | total BLEU 99.98\n",
      "| epoch  16 |   377/  658 batches | total loss  0.01 | seq2seq loss  0.00 | style loss  0.00 | coherence loss  0.01| total accuracy  0.35 | total BLEU 99.98\n",
      "| epoch  16 |   471/  658 batches | total loss  0.01 | seq2seq loss  0.00 | style loss  0.00 | coherence loss  0.01| total accuracy  0.35 | total BLEU 99.99\n",
      "| epoch  16 |   565/  658 batches | total loss  0.01 | seq2seq loss  0.00 | style loss  0.00 | coherence loss  0.01| total accuracy  0.35 | total BLEU 99.98\n",
      "--------------------------------------------------------------------------------------------------------------\n",
      "| epoch  17 |     1/  658 batches | total loss  0.01 | seq2seq loss  0.00 | style loss  0.00 | coherence loss  0.01| total accuracy  0.39 | total BLEU 100.00\n",
      "| epoch  17 |    95/  658 batches | total loss  0.01 | seq2seq loss  0.00 | style loss  0.00 | coherence loss  0.01| total accuracy  0.36 | total BLEU 100.00\n",
      "| epoch  17 |   189/  658 batches | total loss  0.01 | seq2seq loss  0.00 | style loss  0.00 | coherence loss  0.01| total accuracy  0.36 | total BLEU 99.99\n",
      "| epoch  17 |   283/  658 batches | total loss  0.10 | seq2seq loss  0.08 | style loss  0.01 | coherence loss  0.01| total accuracy  0.35 | total BLEU 97.29\n",
      "| epoch  17 |   377/  658 batches | total loss  0.17 | seq2seq loss  0.15 | style loss  0.01 | coherence loss  0.01| total accuracy  0.35 | total BLEU 95.07\n",
      "| epoch  17 |   471/  658 batches | total loss  0.14 | seq2seq loss  0.12 | style loss  0.01 | coherence loss  0.01| total accuracy  0.35 | total BLEU 95.96\n"
     ]
    },
    {
     "name": "stderr",
     "output_type": "stream",
     "text": [
      "multi-bleu.perl script returned non-zero exit code\n",
      "b'\\ngzip: /tmp/tmpv77ht8gz: not in gzip format\\nERROR: could not find reference file /tmp/tmpv77ht8gz at /tmp/tmpewojmm3n line 32.\\n'\n"
     ]
    },
    {
     "name": "stdout",
     "output_type": "stream",
     "text": [
      "| epoch  17 |   565/  658 batches | total loss  0.12 | seq2seq loss  0.11 | style loss  0.01 | coherence loss  0.01| total accuracy  0.35 | total BLEU 96.35\n",
      "--------------------------------------------------------------------------------------------------------------\n",
      "| epoch  18 |     1/  658 batches | total loss  0.01 | seq2seq loss  0.00 | style loss  0.00 | coherence loss  0.01| total accuracy  0.38 | total BLEU 100.00\n",
      "| epoch  18 |    95/  658 batches | total loss  0.01 | seq2seq loss  0.01 | style loss  0.00 | coherence loss  0.01| total accuracy  0.36 | total BLEU 99.76\n",
      "| epoch  18 |   189/  658 batches | total loss  0.01 | seq2seq loss  0.01 | style loss  0.00 | coherence loss  0.01| total accuracy  0.35 | total BLEU 99.82\n",
      "| epoch  18 |   283/  658 batches | total loss  0.01 | seq2seq loss  0.01 | style loss  0.00 | coherence loss  0.01| total accuracy  0.35 | total BLEU 99.83\n",
      "| epoch  18 |   377/  658 batches | total loss  0.01 | seq2seq loss  0.01 | style loss  0.00 | coherence loss  0.01| total accuracy  0.36 | total BLEU 99.86\n",
      "| epoch  18 |   471/  658 batches | total loss  0.01 | seq2seq loss  0.00 | style loss  0.00 | coherence loss  0.01| total accuracy  0.35 | total BLEU 99.88\n",
      "| epoch  18 |   565/  658 batches | total loss  0.01 | seq2seq loss  0.00 | style loss  0.00 | coherence loss  0.01| total accuracy  0.35 | total BLEU 99.89\n"
     ]
    },
    {
     "name": "stderr",
     "output_type": "stream",
     "text": [
      "multi-bleu.perl script returned non-zero exit code\n",
      "b'\\ngzip: /tmp/tmpbm6ym2gz: not in gzip format\\nERROR: could not find reference file /tmp/tmpbm6ym2gz at /tmp/tmp894b49xe line 32.\\n'\n"
     ]
    },
    {
     "name": "stdout",
     "output_type": "stream",
     "text": [
      "--------------------------------------------------------------------------------------------------------------\n",
      "| epoch  19 |     1/  658 batches | total loss  0.01 | seq2seq loss  0.00 | style loss  0.00 | coherence loss  0.01| total accuracy  0.45 | total BLEU 100.00\n",
      "| epoch  19 |    95/  658 batches | total loss  0.01 | seq2seq loss  0.00 | style loss  0.00 | coherence loss  0.01| total accuracy  0.35 | total BLEU 99.96\n",
      "| epoch  19 |   189/  658 batches | total loss  0.01 | seq2seq loss  0.00 | style loss  0.00 | coherence loss  0.01| total accuracy  0.35 | total BLEU 99.95\n",
      "| epoch  19 |   283/  658 batches | total loss  0.01 | seq2seq loss  0.00 | style loss  0.00 | coherence loss  0.01| total accuracy  0.35 | total BLEU 99.96\n"
     ]
    },
    {
     "name": "stderr",
     "output_type": "stream",
     "text": [
      "multi-bleu.perl script returned non-zero exit code\n",
      "b'\\ngzip: /tmp/tmp90aq36gz: not in gzip format\\nERROR: could not find reference file /tmp/tmp90aq36gz at /tmp/tmpipbpbq6g line 32.\\n'\n"
     ]
    },
    {
     "name": "stdout",
     "output_type": "stream",
     "text": [
      "| epoch  19 |   377/  658 batches | total loss  0.01 | seq2seq loss  0.00 | style loss  0.00 | coherence loss  0.01| total accuracy  0.36 | total BLEU 99.69\n",
      "| epoch  19 |   471/  658 batches | total loss  0.01 | seq2seq loss  0.00 | style loss  0.00 | coherence loss  0.01| total accuracy  0.36 | total BLEU 99.75\n",
      "| epoch  19 |   565/  658 batches | total loss  0.01 | seq2seq loss  0.00 | style loss  0.00 | coherence loss  0.01| total accuracy  0.36 | total BLEU 99.78\n",
      "--------------------------------------------------------------------------------------------------------------\n",
      "| epoch  20 |     1/  658 batches | total loss  0.01 | seq2seq loss  0.00 | style loss  0.00 | coherence loss  0.00| total accuracy  0.36 | total BLEU 100.00\n",
      "| epoch  20 |    95/  658 batches | total loss  0.01 | seq2seq loss  0.00 | style loss  0.00 | coherence loss  0.01| total accuracy  0.36 | total BLEU 99.99\n",
      "| epoch  20 |   189/  658 batches | total loss  0.01 | seq2seq loss  0.00 | style loss  0.00 | coherence loss  0.01| total accuracy  0.36 | total BLEU 99.99\n",
      "| epoch  20 |   283/  658 batches | total loss  0.01 | seq2seq loss  0.00 | style loss  0.00 | coherence loss  0.01| total accuracy  0.36 | total BLEU 99.99\n",
      "| epoch  20 |   377/  658 batches | total loss  0.01 | seq2seq loss  0.00 | style loss  0.00 | coherence loss  0.01| total accuracy  0.36 | total BLEU 99.99\n",
      "| epoch  20 |   471/  658 batches | total loss  0.01 | seq2seq loss  0.00 | style loss  0.00 | coherence loss  0.01| total accuracy  0.36 | total BLEU 99.99\n",
      "| epoch  20 |   565/  658 batches | total loss  0.01 | seq2seq loss  0.00 | style loss  0.00 | coherence loss  0.01| total accuracy  0.36 | total BLEU 99.99\n",
      "--------------------------------------------------------------------------------------------------------------\n",
      "| epoch  21 |     1/  658 batches | total loss  0.01 | seq2seq loss  0.00 | style loss  0.00 | coherence loss  0.01| total accuracy  0.42 | total BLEU 100.00\n",
      "| epoch  21 |    95/  658 batches | total loss  0.01 | seq2seq loss  0.00 | style loss  0.00 | coherence loss  0.01| total accuracy  0.35 | total BLEU 100.00\n",
      "| epoch  21 |   189/  658 batches | total loss  0.09 | seq2seq loss  0.08 | style loss  0.01 | coherence loss  0.01| total accuracy  0.35 | total BLEU 97.35\n",
      "| epoch  21 |   283/  658 batches | total loss  0.12 | seq2seq loss  0.10 | style loss  0.01 | coherence loss  0.01| total accuracy  0.35 | total BLEU 96.36\n",
      "| epoch  21 |   377/  658 batches | total loss  0.10 | seq2seq loss  0.09 | style loss  0.01 | coherence loss  0.01| total accuracy  0.36 | total BLEU 97.02\n",
      "| epoch  21 |   471/  658 batches | total loss  0.08 | seq2seq loss  0.07 | style loss  0.00 | coherence loss  0.01| total accuracy  0.35 | total BLEU 97.57\n",
      "| epoch  21 |   565/  658 batches | total loss  0.07 | seq2seq loss  0.06 | style loss  0.00 | coherence loss  0.01| total accuracy  0.35 | total BLEU 97.91\n",
      "--------------------------------------------------------------------------------------------------------------\n",
      "| epoch  22 |     1/  658 batches | total loss  0.01 | seq2seq loss  0.00 | style loss  0.00 | coherence loss  0.01| total accuracy  0.24 | total BLEU 100.00\n",
      "| epoch  22 |    95/  658 batches | total loss  0.01 | seq2seq loss  0.00 | style loss  0.00 | coherence loss  0.01| total accuracy  0.35 | total BLEU 99.95\n",
      "| epoch  22 |   189/  658 batches | total loss  0.01 | seq2seq loss  0.00 | style loss  0.00 | coherence loss  0.01| total accuracy  0.35 | total BLEU 99.95\n",
      "| epoch  22 |   283/  658 batches | total loss  0.01 | seq2seq loss  0.00 | style loss  0.00 | coherence loss  0.01| total accuracy  0.35 | total BLEU 99.95\n",
      "| epoch  22 |   377/  658 batches | total loss  0.01 | seq2seq loss  0.00 | style loss  0.00 | coherence loss  0.01| total accuracy  0.35 | total BLEU 99.94\n",
      "| epoch  22 |   471/  658 batches | total loss  0.01 | seq2seq loss  0.00 | style loss  0.00 | coherence loss  0.01| total accuracy  0.35 | total BLEU 99.93\n",
      "| epoch  22 |   565/  658 batches | total loss  0.01 | seq2seq loss  0.00 | style loss  0.00 | coherence loss  0.01| total accuracy  0.35 | total BLEU 99.92\n",
      "--------------------------------------------------------------------------------------------------------------\n",
      "| epoch  23 |     1/  658 batches | total loss  0.01 | seq2seq loss  0.00 | style loss  0.00 | coherence loss  0.01| total accuracy  0.37 | total BLEU 100.00\n",
      "| epoch  23 |    95/  658 batches | total loss  0.03 | seq2seq loss  0.02 | style loss  0.00 | coherence loss  0.01| total accuracy  0.36 | total BLEU 99.41\n",
      "| epoch  23 |   189/  658 batches | total loss  0.02 | seq2seq loss  0.01 | style loss  0.00 | coherence loss  0.01| total accuracy  0.36 | total BLEU 99.66\n",
      "| epoch  23 |   283/  658 batches | total loss  0.01 | seq2seq loss  0.01 | style loss  0.00 | coherence loss  0.01| total accuracy  0.36 | total BLEU 99.74\n"
     ]
    },
    {
     "name": "stderr",
     "output_type": "stream",
     "text": [
      "multi-bleu.perl script returned non-zero exit code\n",
      "b'\\ngzip: /tmp/tmp034m8zgz: not in gzip format\\nERROR: could not find reference file /tmp/tmp034m8zgz at /tmp/tmppoozv_t1 line 32.\\n'\n"
     ]
    },
    {
     "name": "stdout",
     "output_type": "stream",
     "text": [
      "| epoch  23 |   377/  658 batches | total loss  0.01 | seq2seq loss  0.01 | style loss  0.00 | coherence loss  0.01| total accuracy  0.36 | total BLEU 99.52\n",
      "| epoch  23 |   471/  658 batches | total loss  0.01 | seq2seq loss  0.01 | style loss  0.00 | coherence loss  0.01| total accuracy  0.36 | total BLEU 99.62\n",
      "| epoch  23 |   565/  658 batches | total loss  0.01 | seq2seq loss  0.01 | style loss  0.00 | coherence loss  0.01| total accuracy  0.36 | total BLEU 99.62\n",
      "--------------------------------------------------------------------------------------------------------------\n",
      "| epoch  24 |     1/  658 batches | total loss  0.01 | seq2seq loss  0.01 | style loss  0.00 | coherence loss  0.01| total accuracy  0.36 | total BLEU 99.37\n",
      "| epoch  24 |    95/  658 batches | total loss  0.01 | seq2seq loss  0.00 | style loss  0.00 | coherence loss  0.01| total accuracy  0.36 | total BLEU 99.98\n",
      "| epoch  24 |   189/  658 batches | total loss  0.01 | seq2seq loss  0.00 | style loss  0.00 | coherence loss  0.01| total accuracy  0.36 | total BLEU 99.96\n",
      "| epoch  24 |   283/  658 batches | total loss  0.01 | seq2seq loss  0.00 | style loss  0.00 | coherence loss  0.01| total accuracy  0.36 | total BLEU 99.95\n",
      "| epoch  24 |   377/  658 batches | total loss  0.01 | seq2seq loss  0.00 | style loss  0.00 | coherence loss  0.01| total accuracy  0.36 | total BLEU 99.95\n",
      "| epoch  24 |   471/  658 batches | total loss  0.01 | seq2seq loss  0.00 | style loss  0.00 | coherence loss  0.01| total accuracy  0.36 | total BLEU 99.95\n",
      "| epoch  24 |   565/  658 batches | total loss  0.01 | seq2seq loss  0.00 | style loss  0.00 | coherence loss  0.01| total accuracy  0.36 | total BLEU 99.95\n",
      "--------------------------------------------------------------------------------------------------------------\n",
      "| epoch  25 |     1/  658 batches | total loss  0.01 | seq2seq loss  0.00 | style loss  0.00 | coherence loss  0.00| total accuracy  0.41 | total BLEU 100.00\n",
      "| epoch  25 |    95/  658 batches | total loss  0.01 | seq2seq loss  0.00 | style loss  0.00 | coherence loss  0.01| total accuracy  0.36 | total BLEU 100.00\n",
      "| epoch  25 |   189/  658 batches | total loss  0.01 | seq2seq loss  0.00 | style loss  0.00 | coherence loss  0.01| total accuracy  0.36 | total BLEU 99.98\n",
      "| epoch  25 |   283/  658 batches | total loss  0.01 | seq2seq loss  0.00 | style loss  0.00 | coherence loss  0.01| total accuracy  0.36 | total BLEU 99.98\n",
      "| epoch  25 |   377/  658 batches | total loss  0.01 | seq2seq loss  0.00 | style loss  0.00 | coherence loss  0.01| total accuracy  0.36 | total BLEU 99.98\n",
      "| epoch  25 |   471/  658 batches | total loss  0.01 | seq2seq loss  0.00 | style loss  0.00 | coherence loss  0.01| total accuracy  0.36 | total BLEU 99.98\n",
      "| epoch  25 |   565/  658 batches | total loss  0.01 | seq2seq loss  0.00 | style loss  0.00 | coherence loss  0.01| total accuracy  0.36 | total BLEU 99.97\n",
      "--------------------------------------------------------------------------------------------------------------\n",
      "| epoch  26 |     1/  658 batches | total loss  0.01 | seq2seq loss  0.00 | style loss  0.00 | coherence loss  0.01| total accuracy  0.16 | total BLEU 100.00\n",
      "| epoch  26 |    95/  658 batches | total loss  0.01 | seq2seq loss  0.00 | style loss  0.00 | coherence loss  0.01| total accuracy  0.35 | total BLEU 100.00\n",
      "| epoch  26 |   189/  658 batches | total loss  0.01 | seq2seq loss  0.00 | style loss  0.00 | coherence loss  0.01| total accuracy  0.35 | total BLEU 99.98\n",
      "| epoch  26 |   283/  658 batches | total loss  0.01 | seq2seq loss  0.00 | style loss  0.00 | coherence loss  0.01| total accuracy  0.35 | total BLEU 99.97\n"
     ]
    },
    {
     "name": "stderr",
     "output_type": "stream",
     "text": [
      "multi-bleu.perl script returned non-zero exit code\n",
      "b'\\ngzip: /tmp/tmpyh_x2vgz: not in gzip format\\nERROR: could not find reference file /tmp/tmpyh_x2vgz at /tmp/tmpxnrglu7s line 32.\\n'\n"
     ]
    },
    {
     "name": "stdout",
     "output_type": "stream",
     "text": [
      "| epoch  26 |   377/  658 batches | total loss  0.01 | seq2seq loss  0.00 | style loss  0.00 | coherence loss  0.01| total accuracy  0.35 | total BLEU 99.69\n",
      "| epoch  26 |   471/  658 batches | total loss  0.01 | seq2seq loss  0.00 | style loss  0.00 | coherence loss  0.01| total accuracy  0.35 | total BLEU 99.70\n"
     ]
    },
    {
     "name": "stderr",
     "output_type": "stream",
     "text": [
      "multi-bleu.perl script returned non-zero exit code\n",
      "b'\\ngzip: /tmp/tmptkz0wsgz: not in gzip format\\nERROR: could not find reference file /tmp/tmptkz0wsgz at /tmp/tmp6vk7n813 line 32.\\n'\n"
     ]
    },
    {
     "name": "stdout",
     "output_type": "stream",
     "text": [
      "| epoch  26 |   565/  658 batches | total loss  0.01 | seq2seq loss  0.00 | style loss  0.00 | coherence loss  0.01| total accuracy  0.35 | total BLEU 99.56\n",
      "--------------------------------------------------------------------------------------------------------------\n",
      "| epoch  27 |     1/  658 batches | total loss  0.04 | seq2seq loss  0.03 | style loss  0.00 | coherence loss  0.01| total accuracy  0.40 | total BLEU 99.27\n",
      "| epoch  27 |    95/  658 batches | total loss  0.01 | seq2seq loss  0.00 | style loss  0.00 | coherence loss  0.01| total accuracy  0.35 | total BLEU 99.81\n",
      "| epoch  27 |   189/  658 batches | total loss  0.01 | seq2seq loss  0.01 | style loss  0.00 | coherence loss  0.01| total accuracy  0.36 | total BLEU 99.77\n",
      "| epoch  27 |   283/  658 batches | total loss  0.01 | seq2seq loss  0.01 | style loss  0.00 | coherence loss  0.01| total accuracy  0.36 | total BLEU 99.80\n",
      "| epoch  27 |   377/  658 batches | total loss  0.01 | seq2seq loss  0.00 | style loss  0.00 | coherence loss  0.01| total accuracy  0.35 | total BLEU 99.83\n",
      "| epoch  27 |   471/  658 batches | total loss  0.01 | seq2seq loss  0.00 | style loss  0.00 | coherence loss  0.01| total accuracy  0.36 | total BLEU 99.85\n",
      "| epoch  27 |   565/  658 batches | total loss  0.05 | seq2seq loss  0.04 | style loss  0.00 | coherence loss  0.01| total accuracy  0.35 | total BLEU 98.38\n",
      "--------------------------------------------------------------------------------------------------------------\n",
      "| epoch  28 |     1/  658 batches | total loss  0.05 | seq2seq loss  0.05 | style loss  0.00 | coherence loss  0.01| total accuracy  0.27 | total BLEU 97.83\n",
      "| epoch  28 |    95/  658 batches | total loss  0.01 | seq2seq loss  0.01 | style loss  0.00 | coherence loss  0.01| total accuracy  0.35 | total BLEU 99.83\n",
      "| epoch  28 |   189/  658 batches | total loss  0.01 | seq2seq loss  0.01 | style loss  0.00 | coherence loss  0.01| total accuracy  0.36 | total BLEU 99.80\n",
      "| epoch  28 |   283/  658 batches | total loss  0.02 | seq2seq loss  0.01 | style loss  0.00 | coherence loss  0.01| total accuracy  0.36 | total BLEU 99.73\n",
      "| epoch  28 |   377/  658 batches | total loss  0.01 | seq2seq loss  0.01 | style loss  0.00 | coherence loss  0.01| total accuracy  0.36 | total BLEU 99.75\n",
      "| epoch  28 |   471/  658 batches | total loss  0.01 | seq2seq loss  0.01 | style loss  0.00 | coherence loss  0.01| total accuracy  0.36 | total BLEU 99.77\n",
      "| epoch  28 |   565/  658 batches | total loss  0.01 | seq2seq loss  0.01 | style loss  0.00 | coherence loss  0.01| total accuracy  0.36 | total BLEU 99.78\n",
      "--------------------------------------------------------------------------------------------------------------\n",
      "| epoch  29 |     1/  658 batches | total loss  0.03 | seq2seq loss  0.02 | style loss  0.00 | coherence loss  0.01| total accuracy  0.42 | total BLEU 99.34\n",
      "| epoch  29 |    95/  658 batches | total loss  0.01 | seq2seq loss  0.00 | style loss  0.00 | coherence loss  0.01| total accuracy  0.34 | total BLEU 99.94\n"
     ]
    },
    {
     "name": "stderr",
     "output_type": "stream",
     "text": [
      "multi-bleu.perl script returned non-zero exit code\n",
      "b'\\ngzip: /tmp/tmp9e_h31gz: not in gzip format\\nERROR: could not find reference file /tmp/tmp9e_h31gz at /tmp/tmp3jr1bp0u line 32.\\n'\n"
     ]
    },
    {
     "name": "stdout",
     "output_type": "stream",
     "text": [
      "| epoch  29 |   189/  658 batches | total loss  0.01 | seq2seq loss  0.00 | style loss  0.00 | coherence loss  0.01| total accuracy  0.34 | total BLEU 99.42\n",
      "| epoch  29 |   283/  658 batches | total loss  0.01 | seq2seq loss  0.00 | style loss  0.00 | coherence loss  0.01| total accuracy  0.35 | total BLEU 99.57\n",
      "| epoch  29 |   377/  658 batches | total loss  0.01 | seq2seq loss  0.00 | style loss  0.00 | coherence loss  0.01| total accuracy  0.35 | total BLEU 99.66\n",
      "| epoch  29 |   471/  658 batches | total loss  0.01 | seq2seq loss  0.00 | style loss  0.00 | coherence loss  0.01| total accuracy  0.35 | total BLEU 99.72\n",
      "| epoch  29 |   565/  658 batches | total loss  0.01 | seq2seq loss  0.00 | style loss  0.00 | coherence loss  0.01| total accuracy  0.35 | total BLEU 99.75\n",
      "--------------------------------------------------------------------------------------------------------------\n",
      "| epoch  30 |     1/  658 batches | total loss  0.01 | seq2seq loss  0.00 | style loss  0.00 | coherence loss  0.01| total accuracy  0.33 | total BLEU 100.00\n",
      "| epoch  30 |    95/  658 batches | total loss  0.01 | seq2seq loss  0.00 | style loss  0.00 | coherence loss  0.01| total accuracy  0.35 | total BLEU 99.96\n"
     ]
    },
    {
     "name": "stderr",
     "output_type": "stream",
     "text": [
      "multi-bleu.perl script returned non-zero exit code\n",
      "b'\\ngzip: /tmp/tmpdtoj15gz: not in gzip format\\nERROR: could not find reference file /tmp/tmpdtoj15gz at /tmp/tmp0v15h_t9 line 32.\\n'\n"
     ]
    },
    {
     "name": "stdout",
     "output_type": "stream",
     "text": [
      "| epoch  30 |   189/  658 batches | total loss  0.01 | seq2seq loss  0.00 | style loss  0.00 | coherence loss  0.01| total accuracy  0.35 | total BLEU 99.42\n",
      "| epoch  30 |   283/  658 batches | total loss  0.01 | seq2seq loss  0.00 | style loss  0.00 | coherence loss  0.01| total accuracy  0.36 | total BLEU 99.59\n",
      "| epoch  30 |   377/  658 batches | total loss  0.01 | seq2seq loss  0.00 | style loss  0.00 | coherence loss  0.01| total accuracy  0.35 | total BLEU 99.65\n",
      "| epoch  30 |   471/  658 batches | total loss  0.01 | seq2seq loss  0.00 | style loss  0.00 | coherence loss  0.01| total accuracy  0.35 | total BLEU 99.69\n",
      "| epoch  30 |   565/  658 batches | total loss  0.01 | seq2seq loss  0.00 | style loss  0.00 | coherence loss  0.01| total accuracy  0.35 | total BLEU 99.74\n",
      "--------------------------------------------------------------------------------------------------------------\n",
      "| epoch  31 |     1/  658 batches | total loss  0.01 | seq2seq loss  0.01 | style loss  0.00 | coherence loss  0.01| total accuracy  0.33 | total BLEU 100.00\n",
      "| epoch  31 |    95/  658 batches | total loss  0.02 | seq2seq loss  0.01 | style loss  0.00 | coherence loss  0.01| total accuracy  0.35 | total BLEU 99.77\n",
      "| epoch  31 |   189/  658 batches | total loss  0.01 | seq2seq loss  0.01 | style loss  0.00 | coherence loss  0.01| total accuracy  0.36 | total BLEU 99.76\n",
      "| epoch  31 |   283/  658 batches | total loss  0.01 | seq2seq loss  0.01 | style loss  0.00 | coherence loss  0.01| total accuracy  0.36 | total BLEU 99.78\n",
      "| epoch  31 |   377/  658 batches | total loss  0.01 | seq2seq loss  0.01 | style loss  0.00 | coherence loss  0.01| total accuracy  0.36 | total BLEU 99.79\n",
      "| epoch  31 |   471/  658 batches | total loss  0.01 | seq2seq loss  0.01 | style loss  0.00 | coherence loss  0.01| total accuracy  0.36 | total BLEU 99.81\n",
      "| epoch  31 |   565/  658 batches | total loss  0.01 | seq2seq loss  0.01 | style loss  0.00 | coherence loss  0.01| total accuracy  0.36 | total BLEU 99.83\n",
      "--------------------------------------------------------------------------------------------------------------\n",
      "| epoch  32 |     1/  658 batches | total loss  0.01 | seq2seq loss  0.00 | style loss  0.00 | coherence loss  0.01| total accuracy  0.40 | total BLEU 100.00\n",
      "| epoch  32 |    95/  658 batches | total loss  0.01 | seq2seq loss  0.00 | style loss  0.00 | coherence loss  0.01| total accuracy  0.37 | total BLEU 99.97\n",
      "| epoch  32 |   189/  658 batches | total loss  0.01 | seq2seq loss  0.00 | style loss  0.00 | coherence loss  0.01| total accuracy  0.36 | total BLEU 99.96\n",
      "| epoch  32 |   283/  658 batches | total loss  0.01 | seq2seq loss  0.00 | style loss  0.00 | coherence loss  0.01| total accuracy  0.35 | total BLEU 99.95\n",
      "| epoch  32 |   377/  658 batches | total loss  0.01 | seq2seq loss  0.00 | style loss  0.00 | coherence loss  0.01| total accuracy  0.35 | total BLEU 99.83\n",
      "| epoch  32 |   471/  658 batches | total loss  0.01 | seq2seq loss  0.00 | style loss  0.00 | coherence loss  0.01| total accuracy  0.35 | total BLEU 99.83\n",
      "| epoch  32 |   565/  658 batches | total loss  0.01 | seq2seq loss  0.00 | style loss  0.00 | coherence loss  0.01| total accuracy  0.35 | total BLEU 99.84\n",
      "--------------------------------------------------------------------------------------------------------------\n",
      "| epoch  33 |     1/  658 batches | total loss  0.01 | seq2seq loss  0.00 | style loss  0.00 | coherence loss  0.01| total accuracy  0.40 | total BLEU 100.00\n",
      "| epoch  33 |    95/  658 batches | total loss  0.01 | seq2seq loss  0.00 | style loss  0.00 | coherence loss  0.01| total accuracy  0.36 | total BLEU 99.92\n",
      "| epoch  33 |   189/  658 batches | total loss  0.01 | seq2seq loss  0.00 | style loss  0.00 | coherence loss  0.01| total accuracy  0.35 | total BLEU 99.90\n",
      "| epoch  33 |   283/  658 batches | total loss  0.01 | seq2seq loss  0.00 | style loss  0.00 | coherence loss  0.01| total accuracy  0.35 | total BLEU 99.92\n",
      "| epoch  33 |   377/  658 batches | total loss  0.01 | seq2seq loss  0.00 | style loss  0.00 | coherence loss  0.01| total accuracy  0.35 | total BLEU 99.93\n",
      "| epoch  33 |   471/  658 batches | total loss  0.01 | seq2seq loss  0.00 | style loss  0.00 | coherence loss  0.01| total accuracy  0.35 | total BLEU 99.94\n",
      "| epoch  33 |   565/  658 batches | total loss  0.01 | seq2seq loss  0.00 | style loss  0.00 | coherence loss  0.01| total accuracy  0.35 | total BLEU 99.94\n",
      "--------------------------------------------------------------------------------------------------------------\n",
      "| epoch  34 |     1/  658 batches | total loss  0.01 | seq2seq loss  0.00 | style loss  0.00 | coherence loss  0.01| total accuracy  0.21 | total BLEU 100.00\n",
      "| epoch  34 |    95/  658 batches | total loss  0.01 | seq2seq loss  0.00 | style loss  0.00 | coherence loss  0.01| total accuracy  0.35 | total BLEU 99.89\n",
      "| epoch  34 |   189/  658 batches | total loss  0.03 | seq2seq loss  0.02 | style loss  0.00 | coherence loss  0.01| total accuracy  0.35 | total BLEU 98.99\n",
      "| epoch  34 |   283/  658 batches | total loss  0.04 | seq2seq loss  0.03 | style loss  0.00 | coherence loss  0.01| total accuracy  0.35 | total BLEU 98.87\n",
      "| epoch  34 |   377/  658 batches | total loss  0.04 | seq2seq loss  0.03 | style loss  0.00 | coherence loss  0.01| total accuracy  0.35 | total BLEU 98.81\n",
      "| epoch  34 |   471/  658 batches | total loss  0.06 | seq2seq loss  0.05 | style loss  0.00 | coherence loss  0.01| total accuracy  0.35 | total BLEU 98.12\n",
      "| epoch  34 |   565/  658 batches | total loss  0.08 | seq2seq loss  0.07 | style loss  0.00 | coherence loss  0.01| total accuracy  0.35 | total BLEU 97.29\n",
      "--------------------------------------------------------------------------------------------------------------\n",
      "| epoch  35 |     1/  658 batches | total loss  0.02 | seq2seq loss  0.01 | style loss  0.00 | coherence loss  0.01| total accuracy  0.28 | total BLEU 100.00\n",
      "| epoch  35 |    95/  658 batches | total loss  0.01 | seq2seq loss  0.01 | style loss  0.00 | coherence loss  0.01| total accuracy  0.36 | total BLEU 99.69\n",
      "| epoch  35 |   189/  658 batches | total loss  0.03 | seq2seq loss  0.02 | style loss  0.00 | coherence loss  0.01| total accuracy  0.36 | total BLEU 99.15\n",
      "| epoch  35 |   283/  658 batches | total loss  0.02 | seq2seq loss  0.02 | style loss  0.00 | coherence loss  0.01| total accuracy  0.37 | total BLEU 99.29\n",
      "| epoch  35 |   377/  658 batches | total loss  0.02 | seq2seq loss  0.01 | style loss  0.00 | coherence loss  0.01| total accuracy  0.37 | total BLEU 99.42\n",
      "| epoch  35 |   471/  658 batches | total loss  0.02 | seq2seq loss  0.01 | style loss  0.00 | coherence loss  0.01| total accuracy  0.36 | total BLEU 99.51\n"
     ]
    },
    {
     "name": "stderr",
     "output_type": "stream",
     "text": [
      "multi-bleu.perl script returned non-zero exit code\n",
      "b'\\ngzip: /tmp/tmp0jj5e9gz: not in gzip format\\nERROR: could not find reference file /tmp/tmp0jj5e9gz at /tmp/tmpo8ztc5r_ line 32.\\n'\n"
     ]
    },
    {
     "name": "stdout",
     "output_type": "stream",
     "text": [
      "| epoch  35 |   565/  658 batches | total loss  0.02 | seq2seq loss  0.01 | style loss  0.00 | coherence loss  0.01| total accuracy  0.36 | total BLEU 99.39\n",
      "--------------------------------------------------------------------------------------------------------------\n",
      "| epoch  36 |     1/  658 batches | total loss  0.01 | seq2seq loss  0.00 | style loss  0.00 | coherence loss  0.00| total accuracy  0.22 | total BLEU 100.00\n",
      "| epoch  36 |    95/  658 batches | total loss  0.01 | seq2seq loss  0.00 | style loss  0.00 | coherence loss  0.01| total accuracy  0.35 | total BLEU 99.86\n",
      "| epoch  36 |   189/  658 batches | total loss  0.02 | seq2seq loss  0.01 | style loss  0.00 | coherence loss  0.01| total accuracy  0.36 | total BLEU 99.53\n",
      "| epoch  36 |   283/  658 batches | total loss  0.02 | seq2seq loss  0.01 | style loss  0.00 | coherence loss  0.01| total accuracy  0.36 | total BLEU 99.63\n",
      "| epoch  36 |   377/  658 batches | total loss  0.01 | seq2seq loss  0.01 | style loss  0.00 | coherence loss  0.01| total accuracy  0.36 | total BLEU 99.69\n",
      "| epoch  36 |   471/  658 batches | total loss  0.01 | seq2seq loss  0.01 | style loss  0.00 | coherence loss  0.01| total accuracy  0.36 | total BLEU 99.73\n",
      "| epoch  36 |   565/  658 batches | total loss  0.01 | seq2seq loss  0.01 | style loss  0.00 | coherence loss  0.01| total accuracy  0.36 | total BLEU 99.76\n",
      "--------------------------------------------------------------------------------------------------------------\n",
      "| epoch  37 |     1/  658 batches | total loss  0.01 | seq2seq loss  0.00 | style loss  0.00 | coherence loss  0.00| total accuracy  0.23 | total BLEU 100.00\n",
      "| epoch  37 |    95/  658 batches | total loss  0.01 | seq2seq loss  0.00 | style loss  0.00 | coherence loss  0.01| total accuracy  0.36 | total BLEU 99.94\n",
      "| epoch  37 |   189/  658 batches | total loss  0.01 | seq2seq loss  0.00 | style loss  0.00 | coherence loss  0.01| total accuracy  0.35 | total BLEU 99.94\n",
      "| epoch  37 |   283/  658 batches | total loss  0.01 | seq2seq loss  0.00 | style loss  0.00 | coherence loss  0.01| total accuracy  0.35 | total BLEU 99.93\n",
      "| epoch  37 |   377/  658 batches | total loss  0.01 | seq2seq loss  0.00 | style loss  0.00 | coherence loss  0.01| total accuracy  0.35 | total BLEU 99.91\n",
      "| epoch  37 |   471/  658 batches | total loss  0.01 | seq2seq loss  0.00 | style loss  0.00 | coherence loss  0.01| total accuracy  0.35 | total BLEU 99.92\n",
      "| epoch  37 |   565/  658 batches | total loss  0.01 | seq2seq loss  0.00 | style loss  0.00 | coherence loss  0.01| total accuracy  0.36 | total BLEU 99.92\n",
      "--------------------------------------------------------------------------------------------------------------\n",
      "| epoch  38 |     1/  658 batches | total loss  0.01 | seq2seq loss  0.00 | style loss  0.00 | coherence loss  0.01| total accuracy  0.40 | total BLEU 100.00\n",
      "| epoch  38 |    95/  658 batches | total loss  0.01 | seq2seq loss  0.00 | style loss  0.00 | coherence loss  0.01| total accuracy  0.36 | total BLEU 99.98\n",
      "| epoch  38 |   189/  658 batches | total loss  0.01 | seq2seq loss  0.00 | style loss  0.00 | coherence loss  0.01| total accuracy  0.36 | total BLEU 99.97\n",
      "| epoch  38 |   283/  658 batches | total loss  0.01 | seq2seq loss  0.00 | style loss  0.00 | coherence loss  0.01| total accuracy  0.36 | total BLEU 99.97\n",
      "| epoch  38 |   377/  658 batches | total loss  0.01 | seq2seq loss  0.00 | style loss  0.00 | coherence loss  0.01| total accuracy  0.36 | total BLEU 99.96\n",
      "| epoch  38 |   471/  658 batches | total loss  0.01 | seq2seq loss  0.00 | style loss  0.00 | coherence loss  0.01| total accuracy  0.36 | total BLEU 99.96\n",
      "| epoch  38 |   565/  658 batches | total loss  0.01 | seq2seq loss  0.00 | style loss  0.00 | coherence loss  0.01| total accuracy  0.36 | total BLEU 99.97\n",
      "--------------------------------------------------------------------------------------------------------------\n",
      "| epoch  39 |     1/  658 batches | total loss  0.01 | seq2seq loss  0.00 | style loss  0.00 | coherence loss  0.01| total accuracy  0.28 | total BLEU 100.00\n",
      "| epoch  39 |    95/  658 batches | total loss  0.01 | seq2seq loss  0.00 | style loss  0.00 | coherence loss  0.01| total accuracy  0.36 | total BLEU 99.98\n",
      "| epoch  39 |   189/  658 batches | total loss  0.01 | seq2seq loss  0.00 | style loss  0.00 | coherence loss  0.01| total accuracy  0.35 | total BLEU 99.97\n",
      "| epoch  39 |   283/  658 batches | total loss  0.01 | seq2seq loss  0.00 | style loss  0.00 | coherence loss  0.01| total accuracy  0.36 | total BLEU 99.97\n",
      "| epoch  39 |   377/  658 batches | total loss  0.01 | seq2seq loss  0.00 | style loss  0.00 | coherence loss  0.01| total accuracy  0.36 | total BLEU 99.96\n",
      "| epoch  39 |   471/  658 batches | total loss  0.01 | seq2seq loss  0.00 | style loss  0.00 | coherence loss  0.01| total accuracy  0.36 | total BLEU 99.96\n",
      "| epoch  39 |   565/  658 batches | total loss  0.02 | seq2seq loss  0.01 | style loss  0.00 | coherence loss  0.01| total accuracy  0.36 | total BLEU 99.53\n"
     ]
    },
    {
     "name": "stderr",
     "output_type": "stream",
     "text": [
      "multi-bleu.perl script returned non-zero exit code\n",
      "b'\\ngzip: /tmp/tmp5uh37qgz: not in gzip format\\nERROR: could not find reference file /tmp/tmp5uh37qgz at /tmp/tmp370jnw3d line 32.\\n'\n",
      "multi-bleu.perl script returned non-zero exit code\n",
      "b'\\ngzip: /tmp/tmpxoddwcgz: not in gzip format\\nERROR: could not find reference file /tmp/tmpxoddwcgz at /tmp/tmpgghxbyr_ line 32.\\n'\n"
     ]
    },
    {
     "name": "stdout",
     "output_type": "stream",
     "text": [
      "--------------------------------------------------------------------------------------------------------------\n",
      "| epoch  40 |     1/  658 batches | total loss  0.01 | seq2seq loss  0.00 | style loss  0.00 | coherence loss  0.01| total accuracy  0.58 | total BLEU 100.00\n",
      "| epoch  40 |    95/  658 batches | total loss  0.01 | seq2seq loss  0.00 | style loss  0.00 | coherence loss  0.01| total accuracy  0.36 | total BLEU 99.90\n",
      "| epoch  40 |   189/  658 batches | total loss  0.01 | seq2seq loss  0.00 | style loss  0.00 | coherence loss  0.01| total accuracy  0.35 | total BLEU 99.87\n"
     ]
    },
    {
     "name": "stderr",
     "output_type": "stream",
     "text": [
      "multi-bleu.perl script returned non-zero exit code\n",
      "b'\\ngzip: /tmp/tmpnd13oggz: not in gzip format\\nERROR: could not find reference file /tmp/tmpnd13oggz at /tmp/tmpifp9756j line 32.\\n'\n"
     ]
    },
    {
     "name": "stdout",
     "output_type": "stream",
     "text": [
      "| epoch  40 |   283/  658 batches | total loss  0.01 | seq2seq loss  0.00 | style loss  0.00 | coherence loss  0.01| total accuracy  0.36 | total BLEU 99.50\n",
      "| epoch  40 |   377/  658 batches | total loss  0.01 | seq2seq loss  0.00 | style loss  0.00 | coherence loss  0.01| total accuracy  0.36 | total BLEU 99.59\n",
      "| epoch  40 |   471/  658 batches | total loss  0.01 | seq2seq loss  0.00 | style loss  0.00 | coherence loss  0.01| total accuracy  0.36 | total BLEU 99.65\n",
      "| epoch  40 |   565/  658 batches | total loss  0.01 | seq2seq loss  0.00 | style loss  0.00 | coherence loss  0.01| total accuracy  0.36 | total BLEU 99.70\n",
      "--------------------------------------------------------------------------------------------------------------\n",
      "| epoch  41 |     1/  658 batches | total loss  0.01 | seq2seq loss  0.00 | style loss  0.00 | coherence loss  0.01| total accuracy  0.42 | total BLEU 100.00\n",
      "| epoch  41 |    95/  658 batches | total loss  0.01 | seq2seq loss  0.00 | style loss  0.00 | coherence loss  0.01| total accuracy  0.36 | total BLEU 99.93\n",
      "| epoch  41 |   189/  658 batches | total loss  0.01 | seq2seq loss  0.00 | style loss  0.00 | coherence loss  0.01| total accuracy  0.35 | total BLEU 99.92\n",
      "| epoch  41 |   283/  658 batches | total loss  0.01 | seq2seq loss  0.00 | style loss  0.00 | coherence loss  0.01| total accuracy  0.36 | total BLEU 99.92\n"
     ]
    },
    {
     "name": "stderr",
     "output_type": "stream",
     "text": [
      "multi-bleu.perl script returned non-zero exit code\n",
      "b'\\ngzip: /tmp/tmp1y0er4gz: not in gzip format\\nERROR: could not find reference file /tmp/tmp1y0er4gz at /tmp/tmpueogxzty line 32.\\n'\n"
     ]
    },
    {
     "name": "stdout",
     "output_type": "stream",
     "text": [
      "| epoch  41 |   377/  658 batches | total loss  0.01 | seq2seq loss  0.00 | style loss  0.00 | coherence loss  0.01| total accuracy  0.36 | total BLEU 99.67\n"
     ]
    },
    {
     "name": "stderr",
     "output_type": "stream",
     "text": [
      "multi-bleu.perl script returned non-zero exit code\n",
      "b'\\ngzip: /tmp/tmpmwukscgz: not in gzip format\\nERROR: could not find reference file /tmp/tmpmwukscgz at /tmp/tmpzsaarflp line 32.\\n'\n"
     ]
    },
    {
     "name": "stdout",
     "output_type": "stream",
     "text": [
      "| epoch  41 |   471/  658 batches | total loss  0.01 | seq2seq loss  0.00 | style loss  0.00 | coherence loss  0.01| total accuracy  0.36 | total BLEU 99.50\n",
      "| epoch  41 |   565/  658 batches | total loss  0.01 | seq2seq loss  0.00 | style loss  0.00 | coherence loss  0.01| total accuracy  0.36 | total BLEU 99.57\n",
      "--------------------------------------------------------------------------------------------------------------\n",
      "| epoch  42 |     1/  658 batches | total loss  0.01 | seq2seq loss  0.00 | style loss  0.00 | coherence loss  0.00| total accuracy  0.38 | total BLEU 100.00\n",
      "| epoch  42 |    95/  658 batches | total loss  0.01 | seq2seq loss  0.00 | style loss  0.00 | coherence loss  0.01| total accuracy  0.34 | total BLEU 99.91\n",
      "| epoch  42 |   189/  658 batches | total loss  0.01 | seq2seq loss  0.00 | style loss  0.00 | coherence loss  0.01| total accuracy  0.35 | total BLEU 99.92\n",
      "| epoch  42 |   283/  658 batches | total loss  0.01 | seq2seq loss  0.00 | style loss  0.00 | coherence loss  0.01| total accuracy  0.35 | total BLEU 99.92\n",
      "| epoch  42 |   377/  658 batches | total loss  0.01 | seq2seq loss  0.00 | style loss  0.00 | coherence loss  0.01| total accuracy  0.35 | total BLEU 99.93\n",
      "| epoch  42 |   471/  658 batches | total loss  0.01 | seq2seq loss  0.00 | style loss  0.00 | coherence loss  0.01| total accuracy  0.35 | total BLEU 99.94\n",
      "| epoch  42 |   565/  658 batches | total loss  0.01 | seq2seq loss  0.00 | style loss  0.00 | coherence loss  0.01| total accuracy  0.35 | total BLEU 99.94\n",
      "--------------------------------------------------------------------------------------------------------------\n",
      "| epoch  43 |     1/  658 batches | total loss  0.01 | seq2seq loss  0.00 | style loss  0.00 | coherence loss  0.01| total accuracy  0.30 | total BLEU 100.00\n",
      "| epoch  43 |    95/  658 batches | total loss  0.01 | seq2seq loss  0.00 | style loss  0.00 | coherence loss  0.01| total accuracy  0.36 | total BLEU 99.81\n",
      "| epoch  43 |   189/  658 batches | total loss  0.01 | seq2seq loss  0.00 | style loss  0.00 | coherence loss  0.01| total accuracy  0.36 | total BLEU 99.83\n",
      "| epoch  43 |   283/  658 batches | total loss  0.01 | seq2seq loss  0.00 | style loss  0.00 | coherence loss  0.01| total accuracy  0.36 | total BLEU 99.83\n",
      "| epoch  43 |   377/  658 batches | total loss  0.01 | seq2seq loss  0.00 | style loss  0.00 | coherence loss  0.01| total accuracy  0.36 | total BLEU 99.83\n",
      "| epoch  43 |   471/  658 batches | total loss  0.02 | seq2seq loss  0.02 | style loss  0.00 | coherence loss  0.01| total accuracy  0.36 | total BLEU 99.23\n",
      "| epoch  43 |   565/  658 batches | total loss  0.03 | seq2seq loss  0.02 | style loss  0.00 | coherence loss  0.01| total accuracy  0.36 | total BLEU 99.18\n",
      "--------------------------------------------------------------------------------------------------------------\n",
      "| epoch  44 |     1/  658 batches | total loss  0.01 | seq2seq loss  0.00 | style loss  0.00 | coherence loss  0.00| total accuracy  0.42 | total BLEU 100.00\n",
      "| epoch  44 |    95/  658 batches | total loss  0.08 | seq2seq loss  0.07 | style loss  0.00 | coherence loss  0.01| total accuracy  0.34 | total BLEU 96.82\n",
      "| epoch  44 |   189/  658 batches | total loss  0.05 | seq2seq loss  0.04 | style loss  0.00 | coherence loss  0.01| total accuracy  0.35 | total BLEU 98.09\n",
      "| epoch  44 |   283/  658 batches | total loss  0.04 | seq2seq loss  0.03 | style loss  0.00 | coherence loss  0.01| total accuracy  0.35 | total BLEU 98.63\n",
      "| epoch  44 |   377/  658 batches | total loss  0.03 | seq2seq loss  0.02 | style loss  0.00 | coherence loss  0.01| total accuracy  0.35 | total BLEU 98.92\n",
      "| epoch  44 |   471/  658 batches | total loss  0.03 | seq2seq loss  0.02 | style loss  0.00 | coherence loss  0.01| total accuracy  0.35 | total BLEU 99.09\n",
      "| epoch  44 |   565/  658 batches | total loss  0.03 | seq2seq loss  0.02 | style loss  0.00 | coherence loss  0.01| total accuracy  0.35 | total BLEU 99.19\n",
      "--------------------------------------------------------------------------------------------------------------\n",
      "| epoch  45 |     1/  658 batches | total loss  0.01 | seq2seq loss  0.00 | style loss  0.00 | coherence loss  0.00| total accuracy  0.49 | total BLEU 100.00\n",
      "| epoch  45 |    95/  658 batches | total loss  0.01 | seq2seq loss  0.00 | style loss  0.00 | coherence loss  0.01| total accuracy  0.36 | total BLEU 99.76\n",
      "| epoch  45 |   189/  658 batches | total loss  0.01 | seq2seq loss  0.00 | style loss  0.00 | coherence loss  0.01| total accuracy  0.36 | total BLEU 99.76\n",
      "| epoch  45 |   283/  658 batches | total loss  0.01 | seq2seq loss  0.00 | style loss  0.00 | coherence loss  0.01| total accuracy  0.36 | total BLEU 99.78\n",
      "| epoch  45 |   377/  658 batches | total loss  0.01 | seq2seq loss  0.00 | style loss  0.00 | coherence loss  0.01| total accuracy  0.36 | total BLEU 99.80\n",
      "| epoch  45 |   471/  658 batches | total loss  0.01 | seq2seq loss  0.00 | style loss  0.00 | coherence loss  0.01| total accuracy  0.36 | total BLEU 99.80\n",
      "| epoch  45 |   565/  658 batches | total loss  0.01 | seq2seq loss  0.01 | style loss  0.00 | coherence loss  0.01| total accuracy  0.36 | total BLEU 99.67\n",
      "--------------------------------------------------------------------------------------------------------------\n",
      "| epoch  46 |     1/  658 batches | total loss  0.01 | seq2seq loss  0.00 | style loss  0.00 | coherence loss  0.01| total accuracy  0.60 | total BLEU 100.00\n",
      "| epoch  46 |    95/  658 batches | total loss  0.01 | seq2seq loss  0.00 | style loss  0.00 | coherence loss  0.01| total accuracy  0.35 | total BLEU 99.90\n",
      "| epoch  46 |   189/  658 batches | total loss  0.01 | seq2seq loss  0.00 | style loss  0.00 | coherence loss  0.01| total accuracy  0.36 | total BLEU 99.88\n",
      "| epoch  46 |   283/  658 batches | total loss  0.01 | seq2seq loss  0.00 | style loss  0.00 | coherence loss  0.01| total accuracy  0.35 | total BLEU 99.88\n",
      "| epoch  46 |   377/  658 batches | total loss  0.01 | seq2seq loss  0.00 | style loss  0.00 | coherence loss  0.01| total accuracy  0.35 | total BLEU 99.89\n",
      "| epoch  46 |   471/  658 batches | total loss  0.01 | seq2seq loss  0.00 | style loss  0.00 | coherence loss  0.01| total accuracy  0.35 | total BLEU 99.90\n",
      "| epoch  46 |   565/  658 batches | total loss  0.01 | seq2seq loss  0.00 | style loss  0.00 | coherence loss  0.01| total accuracy  0.35 | total BLEU 99.91\n",
      "--------------------------------------------------------------------------------------------------------------\n",
      "| epoch  47 |     1/  658 batches | total loss  0.02 | seq2seq loss  0.02 | style loss  0.00 | coherence loss  0.00| total accuracy  0.43 | total BLEU 99.44\n",
      "| epoch  47 |    95/  658 batches | total loss  0.01 | seq2seq loss  0.00 | style loss  0.00 | coherence loss  0.01| total accuracy  0.36 | total BLEU 99.91\n",
      "| epoch  47 |   189/  658 batches | total loss  0.01 | seq2seq loss  0.00 | style loss  0.00 | coherence loss  0.01| total accuracy  0.35 | total BLEU 99.92\n"
     ]
    },
    {
     "name": "stderr",
     "output_type": "stream",
     "text": [
      "multi-bleu.perl script returned non-zero exit code\n",
      "b'\\ngzip: /tmp/tmpl9bd2hgz: not in gzip format\\nERROR: could not find reference file /tmp/tmpl9bd2hgz at /tmp/tmp4ic7k1lc line 32.\\n'\n"
     ]
    },
    {
     "name": "stdout",
     "output_type": "stream",
     "text": [
      "| epoch  47 |   283/  658 batches | total loss  0.01 | seq2seq loss  0.00 | style loss  0.00 | coherence loss  0.01| total accuracy  0.35 | total BLEU 99.58\n",
      "| epoch  47 |   377/  658 batches | total loss  0.01 | seq2seq loss  0.00 | style loss  0.00 | coherence loss  0.01| total accuracy  0.35 | total BLEU 99.59\n",
      "| epoch  47 |   471/  658 batches | total loss  0.01 | seq2seq loss  0.00 | style loss  0.00 | coherence loss  0.01| total accuracy  0.35 | total BLEU 99.65\n",
      "| epoch  47 |   565/  658 batches | total loss  0.01 | seq2seq loss  0.00 | style loss  0.00 | coherence loss  0.01| total accuracy  0.35 | total BLEU 99.69\n",
      "--------------------------------------------------------------------------------------------------------------\n",
      "| epoch  48 |     1/  658 batches | total loss  0.01 | seq2seq loss  0.00 | style loss  0.00 | coherence loss  0.00| total accuracy  0.32 | total BLEU 100.00\n",
      "| epoch  48 |    95/  658 batches | total loss  0.01 | seq2seq loss  0.00 | style loss  0.00 | coherence loss  0.01| total accuracy  0.35 | total BLEU 99.91\n",
      "| epoch  48 |   189/  658 batches | total loss  0.01 | seq2seq loss  0.00 | style loss  0.00 | coherence loss  0.01| total accuracy  0.35 | total BLEU 99.88\n",
      "| epoch  48 |   283/  658 batches | total loss  0.01 | seq2seq loss  0.00 | style loss  0.00 | coherence loss  0.01| total accuracy  0.36 | total BLEU 99.89\n",
      "| epoch  48 |   377/  658 batches | total loss  0.01 | seq2seq loss  0.01 | style loss  0.00 | coherence loss  0.01| total accuracy  0.36 | total BLEU 99.74\n",
      "| epoch  48 |   471/  658 batches | total loss  0.02 | seq2seq loss  0.01 | style loss  0.00 | coherence loss  0.01| total accuracy  0.36 | total BLEU 99.45\n",
      "| epoch  48 |   565/  658 batches | total loss  0.02 | seq2seq loss  0.01 | style loss  0.00 | coherence loss  0.01| total accuracy  0.36 | total BLEU 99.50\n",
      "--------------------------------------------------------------------------------------------------------------\n",
      "| epoch  49 |     1/  658 batches | total loss  0.04 | seq2seq loss  0.03 | style loss  0.00 | coherence loss  0.01| total accuracy  0.27 | total BLEU 99.53\n",
      "| epoch  49 |    95/  658 batches | total loss  0.01 | seq2seq loss  0.00 | style loss  0.00 | coherence loss  0.01| total accuracy  0.38 | total BLEU 99.84\n",
      "| epoch  49 |   189/  658 batches | total loss  0.01 | seq2seq loss  0.00 | style loss  0.00 | coherence loss  0.01| total accuracy  0.37 | total BLEU 99.87\n",
      "| epoch  49 |   283/  658 batches | total loss  0.01 | seq2seq loss  0.00 | style loss  0.00 | coherence loss  0.01| total accuracy  0.36 | total BLEU 99.89\n",
      "| epoch  49 |   377/  658 batches | total loss  0.01 | seq2seq loss  0.01 | style loss  0.00 | coherence loss  0.01| total accuracy  0.36 | total BLEU 99.72\n",
      "| epoch  49 |   471/  658 batches | total loss  0.01 | seq2seq loss  0.01 | style loss  0.00 | coherence loss  0.01| total accuracy  0.35 | total BLEU 99.74\n"
     ]
    },
    {
     "name": "stderr",
     "output_type": "stream",
     "text": [
      "multi-bleu.perl script returned non-zero exit code\n",
      "b'\\ngzip: /tmp/tmphs2h4lgz: not in gzip format\\nERROR: could not find reference file /tmp/tmphs2h4lgz at /tmp/tmphtg7zpm7 line 32.\\n'\n"
     ]
    },
    {
     "name": "stdout",
     "output_type": "stream",
     "text": [
      "| epoch  49 |   565/  658 batches | total loss  0.01 | seq2seq loss  0.01 | style loss  0.00 | coherence loss  0.01| total accuracy  0.36 | total BLEU 99.58\n",
      "--------------------------------------------------------------------------------------------------------------\n",
      "| epoch  50 |     1/  658 batches | total loss  0.01 | seq2seq loss  0.00 | style loss  0.00 | coherence loss  0.01| total accuracy  0.46 | total BLEU 100.00\n",
      "| epoch  50 |    95/  658 batches | total loss  0.01 | seq2seq loss  0.00 | style loss  0.00 | coherence loss  0.01| total accuracy  0.36 | total BLEU 99.92\n",
      "| epoch  50 |   189/  658 batches | total loss  0.01 | seq2seq loss  0.00 | style loss  0.00 | coherence loss  0.01| total accuracy  0.36 | total BLEU 99.90\n",
      "| epoch  50 |   283/  658 batches | total loss  0.01 | seq2seq loss  0.00 | style loss  0.00 | coherence loss  0.01| total accuracy  0.36 | total BLEU 99.85\n",
      "| epoch  50 |   377/  658 batches | total loss  0.01 | seq2seq loss  0.00 | style loss  0.00 | coherence loss  0.01| total accuracy  0.36 | total BLEU 99.85\n"
     ]
    },
    {
     "name": "stderr",
     "output_type": "stream",
     "text": [
      "multi-bleu.perl script returned non-zero exit code\n",
      "b'\\ngzip: /tmp/tmp3huuwrgz: not in gzip format\\nERROR: could not find reference file /tmp/tmp3huuwrgz at /tmp/tmppjfcrfis line 32.\\n'\n"
     ]
    },
    {
     "name": "stdout",
     "output_type": "stream",
     "text": [
      "| epoch  50 |   471/  658 batches | total loss  0.01 | seq2seq loss  0.00 | style loss  0.00 | coherence loss  0.01| total accuracy  0.36 | total BLEU 99.65\n",
      "| epoch  50 |   565/  658 batches | total loss  0.01 | seq2seq loss  0.00 | style loss  0.00 | coherence loss  0.01| total accuracy  0.36 | total BLEU 99.69\n",
      "--------------------------------------------------------------------------------------------------------------\n",
      "| epoch  51 |     1/  658 batches | total loss  0.10 | seq2seq loss  0.05 | style loss  0.00 | coherence loss  0.05| total accuracy  0.32 | total BLEU 98.76\n",
      "| epoch  51 |    95/  658 batches | total loss  0.06 | seq2seq loss  0.05 | style loss  0.00 | coherence loss  0.01| total accuracy  0.35 | total BLEU 98.31\n",
      "| epoch  51 |   189/  658 batches | total loss  0.03 | seq2seq loss  0.03 | style loss  0.00 | coherence loss  0.01| total accuracy  0.36 | total BLEU 99.01\n",
      "| epoch  51 |   283/  658 batches | total loss  0.03 | seq2seq loss  0.02 | style loss  0.00 | coherence loss  0.01| total accuracy  0.36 | total BLEU 99.25\n",
      "| epoch  51 |   377/  658 batches | total loss  0.02 | seq2seq loss  0.02 | style loss  0.00 | coherence loss  0.01| total accuracy  0.36 | total BLEU 99.40\n",
      "| epoch  51 |   471/  658 batches | total loss  0.02 | seq2seq loss  0.01 | style loss  0.00 | coherence loss  0.01| total accuracy  0.36 | total BLEU 99.48\n",
      "| epoch  51 |   565/  658 batches | total loss  0.02 | seq2seq loss  0.01 | style loss  0.00 | coherence loss  0.01| total accuracy  0.36 | total BLEU 99.55\n",
      "--------------------------------------------------------------------------------------------------------------\n",
      "| epoch  52 |     1/  658 batches | total loss  0.01 | seq2seq loss  0.00 | style loss  0.00 | coherence loss  0.01| total accuracy  0.33 | total BLEU 100.00\n",
      "| epoch  52 |    95/  658 batches | total loss  0.01 | seq2seq loss  0.00 | style loss  0.00 | coherence loss  0.01| total accuracy  0.34 | total BLEU 99.85\n",
      "| epoch  52 |   189/  658 batches | total loss  0.01 | seq2seq loss  0.00 | style loss  0.00 | coherence loss  0.01| total accuracy  0.35 | total BLEU 99.84\n",
      "| epoch  52 |   283/  658 batches | total loss  0.01 | seq2seq loss  0.00 | style loss  0.00 | coherence loss  0.01| total accuracy  0.36 | total BLEU 99.83\n",
      "| epoch  52 |   377/  658 batches | total loss  0.01 | seq2seq loss  0.00 | style loss  0.00 | coherence loss  0.01| total accuracy  0.35 | total BLEU 99.85\n",
      "| epoch  52 |   471/  658 batches | total loss  0.01 | seq2seq loss  0.00 | style loss  0.00 | coherence loss  0.01| total accuracy  0.36 | total BLEU 99.85\n"
     ]
    },
    {
     "name": "stderr",
     "output_type": "stream",
     "text": [
      "multi-bleu.perl script returned non-zero exit code\n",
      "b'\\ngzip: /tmp/tmp8icogngz: not in gzip format\\nERROR: could not find reference file /tmp/tmp8icogngz at /tmp/tmpavgo7mzu line 32.\\n'\n"
     ]
    },
    {
     "name": "stdout",
     "output_type": "stream",
     "text": [
      "| epoch  52 |   565/  658 batches | total loss  0.01 | seq2seq loss  0.00 | style loss  0.00 | coherence loss  0.01| total accuracy  0.35 | total BLEU 99.69\n",
      "--------------------------------------------------------------------------------------------------------------\n",
      "| epoch  53 |     1/  658 batches | total loss  0.01 | seq2seq loss  0.00 | style loss  0.00 | coherence loss  0.01| total accuracy  0.43 | total BLEU 100.00\n",
      "| epoch  53 |    95/  658 batches | total loss  0.01 | seq2seq loss  0.00 | style loss  0.00 | coherence loss  0.01| total accuracy  0.37 | total BLEU 99.92\n",
      "| epoch  53 |   189/  658 batches | total loss  0.01 | seq2seq loss  0.00 | style loss  0.00 | coherence loss  0.01| total accuracy  0.36 | total BLEU 99.95\n",
      "| epoch  53 |   283/  658 batches | total loss  0.01 | seq2seq loss  0.00 | style loss  0.00 | coherence loss  0.01| total accuracy  0.36 | total BLEU 99.95\n",
      "| epoch  53 |   377/  658 batches | total loss  0.01 | seq2seq loss  0.00 | style loss  0.00 | coherence loss  0.01| total accuracy  0.36 | total BLEU 99.95\n",
      "| epoch  53 |   471/  658 batches | total loss  0.01 | seq2seq loss  0.00 | style loss  0.00 | coherence loss  0.01| total accuracy  0.36 | total BLEU 99.95\n",
      "| epoch  53 |   565/  658 batches | total loss  0.01 | seq2seq loss  0.00 | style loss  0.00 | coherence loss  0.01| total accuracy  0.36 | total BLEU 99.94\n"
     ]
    },
    {
     "name": "stderr",
     "output_type": "stream",
     "text": [
      "multi-bleu.perl script returned non-zero exit code\n",
      "b'\\ngzip: /tmp/tmp07tuv3gz: not in gzip format\\nERROR: could not find reference file /tmp/tmp07tuv3gz at /tmp/tmpj1a1m966 line 32.\\n'\n"
     ]
    },
    {
     "name": "stdout",
     "output_type": "stream",
     "text": [
      "--------------------------------------------------------------------------------------------------------------\n",
      "| epoch  54 |     1/  658 batches | total loss  0.01 | seq2seq loss  0.00 | style loss  0.00 | coherence loss  0.01| total accuracy  0.33 | total BLEU 100.00\n",
      "| epoch  54 |    95/  658 batches | total loss  0.01 | seq2seq loss  0.01 | style loss  0.00 | coherence loss  0.01| total accuracy  0.36 | total BLEU 99.67\n",
      "| epoch  54 |   189/  658 batches | total loss  0.01 | seq2seq loss  0.01 | style loss  0.00 | coherence loss  0.01| total accuracy  0.35 | total BLEU 99.71\n",
      "| epoch  54 |   283/  658 batches | total loss  0.01 | seq2seq loss  0.01 | style loss  0.00 | coherence loss  0.01| total accuracy  0.36 | total BLEU 99.76\n",
      "| epoch  54 |   377/  658 batches | total loss  0.01 | seq2seq loss  0.01 | style loss  0.00 | coherence loss  0.01| total accuracy  0.36 | total BLEU 99.66\n"
     ]
    },
    {
     "name": "stderr",
     "output_type": "stream",
     "text": [
      "multi-bleu.perl script returned non-zero exit code\n",
      "b'\\ngzip: /tmp/tmph0g2iwgz: not in gzip format\\nERROR: could not find reference file /tmp/tmph0g2iwgz at /tmp/tmpq8krps5s line 32.\\n'\n"
     ]
    },
    {
     "name": "stdout",
     "output_type": "stream",
     "text": [
      "| epoch  54 |   471/  658 batches | total loss  0.01 | seq2seq loss  0.01 | style loss  0.00 | coherence loss  0.01| total accuracy  0.35 | total BLEU 99.46\n",
      "| epoch  54 |   565/  658 batches | total loss  0.01 | seq2seq loss  0.01 | style loss  0.00 | coherence loss  0.01| total accuracy  0.35 | total BLEU 99.53\n",
      "--------------------------------------------------------------------------------------------------------------\n",
      "| epoch  55 |     1/  658 batches | total loss  0.01 | seq2seq loss  0.00 | style loss  0.00 | coherence loss  0.01| total accuracy  0.50 | total BLEU 100.00\n",
      "| epoch  55 |    95/  658 batches | total loss  0.01 | seq2seq loss  0.00 | style loss  0.00 | coherence loss  0.01| total accuracy  0.36 | total BLEU 99.90\n",
      "| epoch  55 |   189/  658 batches | total loss  0.01 | seq2seq loss  0.00 | style loss  0.00 | coherence loss  0.01| total accuracy  0.35 | total BLEU 99.86\n",
      "| epoch  55 |   283/  658 batches | total loss  0.01 | seq2seq loss  0.00 | style loss  0.00 | coherence loss  0.01| total accuracy  0.36 | total BLEU 99.88\n",
      "| epoch  55 |   377/  658 batches | total loss  0.01 | seq2seq loss  0.00 | style loss  0.00 | coherence loss  0.01| total accuracy  0.36 | total BLEU 99.87\n",
      "| epoch  55 |   471/  658 batches | total loss  0.01 | seq2seq loss  0.00 | style loss  0.00 | coherence loss  0.01| total accuracy  0.35 | total BLEU 99.86\n",
      "| epoch  55 |   565/  658 batches | total loss  0.01 | seq2seq loss  0.00 | style loss  0.00 | coherence loss  0.01| total accuracy  0.35 | total BLEU 99.88\n",
      "--------------------------------------------------------------------------------------------------------------\n",
      "| epoch  56 |     1/  658 batches | total loss  0.01 | seq2seq loss  0.00 | style loss  0.00 | coherence loss  0.01| total accuracy  0.37 | total BLEU 100.00\n",
      "| epoch  56 |    95/  658 batches | total loss  0.01 | seq2seq loss  0.00 | style loss  0.00 | coherence loss  0.01| total accuracy  0.36 | total BLEU 99.91\n"
     ]
    },
    {
     "name": "stderr",
     "output_type": "stream",
     "text": [
      "multi-bleu.perl script returned non-zero exit code\n",
      "b'\\ngzip: /tmp/tmp7g2tpjgz: not in gzip format\\nERROR: could not find reference file /tmp/tmp7g2tpjgz at /tmp/tmp9_tq2ovw line 32.\\n'\n"
     ]
    },
    {
     "name": "stdout",
     "output_type": "stream",
     "text": [
      "| epoch  56 |   189/  658 batches | total loss  0.05 | seq2seq loss  0.04 | style loss  0.00 | coherence loss  0.01| total accuracy  0.36 | total BLEU 97.61\n",
      "| epoch  56 |   283/  658 batches | total loss  0.04 | seq2seq loss  0.03 | style loss  0.00 | coherence loss  0.01| total accuracy  0.35 | total BLEU 98.10\n",
      "| epoch  56 |   377/  658 batches | total loss  0.03 | seq2seq loss  0.03 | style loss  0.00 | coherence loss  0.01| total accuracy  0.36 | total BLEU 98.50\n",
      "| epoch  56 |   471/  658 batches | total loss  0.03 | seq2seq loss  0.02 | style loss  0.00 | coherence loss  0.01| total accuracy  0.36 | total BLEU 98.74\n",
      "| epoch  56 |   565/  658 batches | total loss  0.03 | seq2seq loss  0.02 | style loss  0.00 | coherence loss  0.01| total accuracy  0.36 | total BLEU 98.87\n",
      "--------------------------------------------------------------------------------------------------------------\n",
      "| epoch  57 |     1/  658 batches | total loss  0.01 | seq2seq loss  0.00 | style loss  0.00 | coherence loss  0.01| total accuracy  0.47 | total BLEU 99.38\n",
      "| epoch  57 |    95/  658 batches | total loss  0.01 | seq2seq loss  0.01 | style loss  0.00 | coherence loss  0.01| total accuracy  0.37 | total BLEU 99.69\n"
     ]
    },
    {
     "name": "stderr",
     "output_type": "stream",
     "text": [
      "multi-bleu.perl script returned non-zero exit code\n",
      "b'\\ngzip: /tmp/tmpvkqw0tgz: not in gzip format\\nERROR: could not find reference file /tmp/tmpvkqw0tgz at /tmp/tmp5qniip26 line 32.\\n'\n"
     ]
    },
    {
     "name": "stdout",
     "output_type": "stream",
     "text": [
      "| epoch  57 |   189/  658 batches | total loss  0.01 | seq2seq loss  0.00 | style loss  0.00 | coherence loss  0.01| total accuracy  0.36 | total BLEU 99.23\n",
      "| epoch  57 |   283/  658 batches | total loss  0.03 | seq2seq loss  0.02 | style loss  0.00 | coherence loss  0.01| total accuracy  0.36 | total BLEU 98.75\n",
      "| epoch  57 |   377/  658 batches | total loss  0.03 | seq2seq loss  0.02 | style loss  0.00 | coherence loss  0.01| total accuracy  0.36 | total BLEU 98.64\n",
      "| epoch  57 |   471/  658 batches | total loss  0.03 | seq2seq loss  0.02 | style loss  0.00 | coherence loss  0.01| total accuracy  0.36 | total BLEU 98.77\n",
      "| epoch  57 |   565/  658 batches | total loss  0.03 | seq2seq loss  0.02 | style loss  0.00 | coherence loss  0.01| total accuracy  0.36 | total BLEU 98.93\n",
      "--------------------------------------------------------------------------------------------------------------\n",
      "| epoch  58 |     1/  658 batches | total loss  0.01 | seq2seq loss  0.00 | style loss  0.00 | coherence loss  0.01| total accuracy  0.29 | total BLEU 100.00\n",
      "| epoch  58 |    95/  658 batches | total loss  0.01 | seq2seq loss  0.00 | style loss  0.00 | coherence loss  0.01| total accuracy  0.35 | total BLEU 99.84\n",
      "| epoch  58 |   189/  658 batches | total loss  0.01 | seq2seq loss  0.00 | style loss  0.00 | coherence loss  0.01| total accuracy  0.35 | total BLEU 99.82\n",
      "| epoch  58 |   283/  658 batches | total loss  0.01 | seq2seq loss  0.00 | style loss  0.00 | coherence loss  0.01| total accuracy  0.35 | total BLEU 99.75\n",
      "| epoch  58 |   377/  658 batches | total loss  0.01 | seq2seq loss  0.01 | style loss  0.00 | coherence loss  0.01| total accuracy  0.35 | total BLEU 99.72\n"
     ]
    },
    {
     "name": "stderr",
     "output_type": "stream",
     "text": [
      "multi-bleu.perl script returned non-zero exit code\n",
      "b'\\ngzip: /tmp/tmpdcinzsgz: not in gzip format\\nERROR: could not find reference file /tmp/tmpdcinzsgz at /tmp/tmp29308o3d line 32.\\n'\n"
     ]
    },
    {
     "name": "stdout",
     "output_type": "stream",
     "text": [
      "| epoch  58 |   471/  658 batches | total loss  0.01 | seq2seq loss  0.01 | style loss  0.00 | coherence loss  0.01| total accuracy  0.35 | total BLEU 99.52\n",
      "| epoch  58 |   565/  658 batches | total loss  0.01 | seq2seq loss  0.00 | style loss  0.00 | coherence loss  0.01| total accuracy  0.35 | total BLEU 99.57\n",
      "--------------------------------------------------------------------------------------------------------------\n",
      "| epoch  59 |     1/  658 batches | total loss  0.01 | seq2seq loss  0.00 | style loss  0.00 | coherence loss  0.01| total accuracy  0.27 | total BLEU 100.00\n",
      "| epoch  59 |    95/  658 batches | total loss  0.01 | seq2seq loss  0.00 | style loss  0.00 | coherence loss  0.01| total accuracy  0.36 | total BLEU 99.89\n",
      "| epoch  59 |   189/  658 batches | total loss  0.01 | seq2seq loss  0.00 | style loss  0.00 | coherence loss  0.01| total accuracy  0.35 | total BLEU 99.90\n"
     ]
    },
    {
     "name": "stderr",
     "output_type": "stream",
     "text": [
      "multi-bleu.perl script returned non-zero exit code\n",
      "b'\\ngzip: /tmp/tmpx7msomgz: not in gzip format\\nERROR: could not find reference file /tmp/tmpx7msomgz at /tmp/tmpuotuylir line 32.\\n'\n"
     ]
    },
    {
     "name": "stdout",
     "output_type": "stream",
     "text": [
      "| epoch  59 |   283/  658 batches | total loss  0.01 | seq2seq loss  0.00 | style loss  0.00 | coherence loss  0.01| total accuracy  0.36 | total BLEU 99.52\n",
      "| epoch  59 |   377/  658 batches | total loss  0.01 | seq2seq loss  0.00 | style loss  0.00 | coherence loss  0.01| total accuracy  0.36 | total BLEU 99.60\n",
      "| epoch  59 |   471/  658 batches | total loss  0.01 | seq2seq loss  0.00 | style loss  0.00 | coherence loss  0.01| total accuracy  0.36 | total BLEU 99.65\n",
      "| epoch  59 |   565/  658 batches | total loss  0.01 | seq2seq loss  0.00 | style loss  0.00 | coherence loss  0.01| total accuracy  0.35 | total BLEU 99.67\n",
      "--------------------------------------------------------------------------------------------------------------\n",
      "| epoch  60 |     1/  658 batches | total loss  0.05 | seq2seq loss  0.05 | style loss  0.00 | coherence loss  0.01| total accuracy  0.52 | total BLEU 99.11\n",
      "| epoch  60 |    95/  658 batches | total loss  0.01 | seq2seq loss  0.00 | style loss  0.00 | coherence loss  0.01| total accuracy  0.35 | total BLEU 99.92\n",
      "| epoch  60 |   189/  658 batches | total loss  0.01 | seq2seq loss  0.00 | style loss  0.00 | coherence loss  0.01| total accuracy  0.36 | total BLEU 99.92\n",
      "| epoch  60 |   283/  658 batches | total loss  0.01 | seq2seq loss  0.00 | style loss  0.00 | coherence loss  0.01| total accuracy  0.36 | total BLEU 99.91\n",
      "| epoch  60 |   377/  658 batches | total loss  0.01 | seq2seq loss  0.00 | style loss  0.00 | coherence loss  0.01| total accuracy  0.36 | total BLEU 99.91\n"
     ]
    },
    {
     "name": "stderr",
     "output_type": "stream",
     "text": [
      "multi-bleu.perl script returned non-zero exit code\n",
      "b'\\ngzip: /tmp/tmprev7ingz: not in gzip format\\nERROR: could not find reference file /tmp/tmprev7ingz at /tmp/tmpp9wml9yi line 32.\\n'\n"
     ]
    },
    {
     "name": "stdout",
     "output_type": "stream",
     "text": [
      "| epoch  60 |   471/  658 batches | total loss  0.01 | seq2seq loss  0.00 | style loss  0.00 | coherence loss  0.01| total accuracy  0.36 | total BLEU 99.70\n"
     ]
    },
    {
     "name": "stderr",
     "output_type": "stream",
     "text": [
      "multi-bleu.perl script returned non-zero exit code\n",
      "b'\\ngzip: /tmp/tmpq8fj1egz: not in gzip format\\nERROR: could not find reference file /tmp/tmpq8fj1egz at /tmp/tmpwvtuwvys line 32.\\n'\n"
     ]
    },
    {
     "name": "stdout",
     "output_type": "stream",
     "text": [
      "| epoch  60 |   565/  658 batches | total loss  0.01 | seq2seq loss  0.00 | style loss  0.00 | coherence loss  0.01| total accuracy  0.36 | total BLEU 99.55\n",
      "--------------------------------------------------------------------------------------------------------------\n",
      "| epoch  61 |     1/  658 batches | total loss  0.01 | seq2seq loss  0.00 | style loss  0.00 | coherence loss  0.01| total accuracy  0.28 | total BLEU 99.37\n",
      "| epoch  61 |    95/  658 batches | total loss  0.01 | seq2seq loss  0.00 | style loss  0.00 | coherence loss  0.01| total accuracy  0.36 | total BLEU 99.88\n",
      "| epoch  61 |   189/  658 batches | total loss  0.01 | seq2seq loss  0.00 | style loss  0.00 | coherence loss  0.01| total accuracy  0.36 | total BLEU 99.91\n",
      "| epoch  61 |   283/  658 batches | total loss  0.01 | seq2seq loss  0.00 | style loss  0.00 | coherence loss  0.01| total accuracy  0.36 | total BLEU 99.91\n",
      "| epoch  61 |   377/  658 batches | total loss  0.01 | seq2seq loss  0.00 | style loss  0.00 | coherence loss  0.01| total accuracy  0.36 | total BLEU 99.89\n",
      "| epoch  61 |   471/  658 batches | total loss  0.01 | seq2seq loss  0.00 | style loss  0.00 | coherence loss  0.01| total accuracy  0.36 | total BLEU 99.80\n",
      "| epoch  61 |   565/  658 batches | total loss  0.01 | seq2seq loss  0.00 | style loss  0.00 | coherence loss  0.01| total accuracy  0.36 | total BLEU 99.81\n",
      "--------------------------------------------------------------------------------------------------------------\n",
      "| epoch  62 |     1/  658 batches | total loss  0.01 | seq2seq loss  0.00 | style loss  0.00 | coherence loss  0.00| total accuracy  0.37 | total BLEU 100.00\n"
     ]
    },
    {
     "name": "stderr",
     "output_type": "stream",
     "text": [
      "multi-bleu.perl script returned non-zero exit code\n",
      "b'\\ngzip: /tmp/tmpozg4aqgz: not in gzip format\\nERROR: could not find reference file /tmp/tmpozg4aqgz at /tmp/tmpzglmxa52 line 32.\\n'\n"
     ]
    },
    {
     "name": "stdout",
     "output_type": "stream",
     "text": [
      "| epoch  62 |    95/  658 batches | total loss  0.01 | seq2seq loss  0.00 | style loss  0.00 | coherence loss  0.01| total accuracy  0.37 | total BLEU 98.84\n",
      "| epoch  62 |   189/  658 batches | total loss  0.01 | seq2seq loss  0.00 | style loss  0.00 | coherence loss  0.01| total accuracy  0.37 | total BLEU 99.38\n",
      "| epoch  62 |   283/  658 batches | total loss  0.01 | seq2seq loss  0.00 | style loss  0.00 | coherence loss  0.01| total accuracy  0.36 | total BLEU 99.53\n"
     ]
    },
    {
     "name": "stderr",
     "output_type": "stream",
     "text": [
      "multi-bleu.perl script returned non-zero exit code\n",
      "b'\\ngzip: /tmp/tmp57ozdpgz: not in gzip format\\nERROR: could not find reference file /tmp/tmp57ozdpgz at /tmp/tmpaqejkwxy line 32.\\n'\n"
     ]
    },
    {
     "name": "stdout",
     "output_type": "stream",
     "text": [
      "| epoch  62 |   377/  658 batches | total loss  0.01 | seq2seq loss  0.00 | style loss  0.00 | coherence loss  0.01| total accuracy  0.36 | total BLEU 99.37\n",
      "| epoch  62 |   471/  658 batches | total loss  0.01 | seq2seq loss  0.00 | style loss  0.00 | coherence loss  0.01| total accuracy  0.36 | total BLEU 99.47\n",
      "| epoch  62 |   565/  658 batches | total loss  0.01 | seq2seq loss  0.00 | style loss  0.00 | coherence loss  0.01| total accuracy  0.35 | total BLEU 99.54\n",
      "--------------------------------------------------------------------------------------------------------------\n",
      "| epoch  63 |     1/  658 batches | total loss  0.01 | seq2seq loss  0.00 | style loss  0.00 | coherence loss  0.01| total accuracy  0.27 | total BLEU 100.00\n",
      "| epoch  63 |    95/  658 batches | total loss  0.01 | seq2seq loss  0.00 | style loss  0.00 | coherence loss  0.01| total accuracy  0.36 | total BLEU 99.78\n",
      "| epoch  63 |   189/  658 batches | total loss  0.01 | seq2seq loss  0.00 | style loss  0.00 | coherence loss  0.01| total accuracy  0.36 | total BLEU 99.77\n",
      "| epoch  63 |   283/  658 batches | total loss  0.01 | seq2seq loss  0.01 | style loss  0.00 | coherence loss  0.01| total accuracy  0.36 | total BLEU 99.70\n",
      "| epoch  63 |   377/  658 batches | total loss  0.01 | seq2seq loss  0.01 | style loss  0.00 | coherence loss  0.01| total accuracy  0.36 | total BLEU 99.53\n",
      "| epoch  63 |   471/  658 batches | total loss  0.01 | seq2seq loss  0.01 | style loss  0.00 | coherence loss  0.01| total accuracy  0.36 | total BLEU 99.55\n",
      "| epoch  63 |   565/  658 batches | total loss  0.02 | seq2seq loss  0.01 | style loss  0.00 | coherence loss  0.01| total accuracy  0.36 | total BLEU 99.45\n",
      "--------------------------------------------------------------------------------------------------------------\n",
      "| epoch  64 |     1/  658 batches | total loss  0.01 | seq2seq loss  0.00 | style loss  0.00 | coherence loss  0.01| total accuracy  0.48 | total BLEU 100.00\n",
      "| epoch  64 |    95/  658 batches | total loss  0.02 | seq2seq loss  0.01 | style loss  0.00 | coherence loss  0.01| total accuracy  0.35 | total BLEU 99.36\n",
      "| epoch  64 |   189/  658 batches | total loss  0.01 | seq2seq loss  0.01 | style loss  0.00 | coherence loss  0.01| total accuracy  0.35 | total BLEU 99.48\n",
      "| epoch  64 |   283/  658 batches | total loss  0.01 | seq2seq loss  0.01 | style loss  0.00 | coherence loss  0.01| total accuracy  0.35 | total BLEU 99.59\n",
      "| epoch  64 |   377/  658 batches | total loss  0.01 | seq2seq loss  0.01 | style loss  0.00 | coherence loss  0.01| total accuracy  0.35 | total BLEU 99.66\n"
     ]
    },
    {
     "name": "stderr",
     "output_type": "stream",
     "text": [
      "multi-bleu.perl script returned non-zero exit code\n",
      "b'\\ngzip: /tmp/tmpzzxkj8gz: not in gzip format\\nERROR: could not find reference file /tmp/tmpzzxkj8gz at /tmp/tmpsedqz_c1 line 32.\\n'\n"
     ]
    },
    {
     "name": "stdout",
     "output_type": "stream",
     "text": [
      "| epoch  64 |   471/  658 batches | total loss  0.01 | seq2seq loss  0.01 | style loss  0.00 | coherence loss  0.01| total accuracy  0.36 | total BLEU 99.46\n",
      "| epoch  64 |   565/  658 batches | total loss  0.01 | seq2seq loss  0.01 | style loss  0.00 | coherence loss  0.01| total accuracy  0.35 | total BLEU 99.52\n",
      "--------------------------------------------------------------------------------------------------------------\n",
      "| epoch  65 |     1/  658 batches | total loss  0.01 | seq2seq loss  0.00 | style loss  0.00 | coherence loss  0.01| total accuracy  0.40 | total BLEU 100.00\n",
      "| epoch  65 |    95/  658 batches | total loss  0.01 | seq2seq loss  0.00 | style loss  0.00 | coherence loss  0.01| total accuracy  0.35 | total BLEU 99.80\n",
      "| epoch  65 |   189/  658 batches | total loss  0.01 | seq2seq loss  0.00 | style loss  0.00 | coherence loss  0.01| total accuracy  0.35 | total BLEU 99.79\n",
      "| epoch  65 |   283/  658 batches | total loss  0.01 | seq2seq loss  0.00 | style loss  0.00 | coherence loss  0.01| total accuracy  0.36 | total BLEU 99.80\n",
      "| epoch  65 |   377/  658 batches | total loss  0.01 | seq2seq loss  0.00 | style loss  0.00 | coherence loss  0.01| total accuracy  0.36 | total BLEU 99.80\n",
      "| epoch  65 |   471/  658 batches | total loss  0.02 | seq2seq loss  0.01 | style loss  0.00 | coherence loss  0.01| total accuracy  0.36 | total BLEU 99.46\n",
      "| epoch  65 |   565/  658 batches | total loss  0.02 | seq2seq loss  0.01 | style loss  0.00 | coherence loss  0.01| total accuracy  0.36 | total BLEU 99.52\n",
      "--------------------------------------------------------------------------------------------------------------\n",
      "| epoch  66 |     1/  658 batches | total loss  0.01 | seq2seq loss  0.01 | style loss  0.00 | coherence loss  0.01| total accuracy  0.22 | total BLEU 98.92\n",
      "| epoch  66 |    95/  658 batches | total loss  0.01 | seq2seq loss  0.00 | style loss  0.00 | coherence loss  0.01| total accuracy  0.36 | total BLEU 99.85\n",
      "| epoch  66 |   189/  658 batches | total loss  0.01 | seq2seq loss  0.00 | style loss  0.00 | coherence loss  0.01| total accuracy  0.36 | total BLEU 99.84\n",
      "| epoch  66 |   283/  658 batches | total loss  0.01 | seq2seq loss  0.00 | style loss  0.00 | coherence loss  0.01| total accuracy  0.36 | total BLEU 99.84\n",
      "| epoch  66 |   377/  658 batches | total loss  0.01 | seq2seq loss  0.00 | style loss  0.00 | coherence loss  0.01| total accuracy  0.36 | total BLEU 99.85\n",
      "| epoch  66 |   471/  658 batches | total loss  0.01 | seq2seq loss  0.00 | style loss  0.00 | coherence loss  0.01| total accuracy  0.36 | total BLEU 99.84\n",
      "| epoch  66 |   565/  658 batches | total loss  0.01 | seq2seq loss  0.00 | style loss  0.00 | coherence loss  0.01| total accuracy  0.36 | total BLEU 99.84\n",
      "--------------------------------------------------------------------------------------------------------------\n",
      "| epoch  67 |     1/  658 batches | total loss  0.01 | seq2seq loss  0.01 | style loss  0.00 | coherence loss  0.01| total accuracy  0.33 | total BLEU 100.00\n",
      "| epoch  67 |    95/  658 batches | total loss  0.01 | seq2seq loss  0.00 | style loss  0.00 | coherence loss  0.01| total accuracy  0.36 | total BLEU 99.78\n",
      "| epoch  67 |   189/  658 batches | total loss  0.01 | seq2seq loss  0.00 | style loss  0.00 | coherence loss  0.01| total accuracy  0.36 | total BLEU 99.75\n",
      "| epoch  67 |   283/  658 batches | total loss  0.01 | seq2seq loss  0.00 | style loss  0.00 | coherence loss  0.01| total accuracy  0.36 | total BLEU 99.76\n",
      "| epoch  67 |   377/  658 batches | total loss  0.01 | seq2seq loss  0.00 | style loss  0.00 | coherence loss  0.01| total accuracy  0.35 | total BLEU 99.74\n",
      "| epoch  67 |   471/  658 batches | total loss  0.01 | seq2seq loss  0.00 | style loss  0.00 | coherence loss  0.01| total accuracy  0.35 | total BLEU 99.75\n",
      "| epoch  67 |   565/  658 batches | total loss  0.01 | seq2seq loss  0.00 | style loss  0.00 | coherence loss  0.01| total accuracy  0.36 | total BLEU 99.75\n",
      "--------------------------------------------------------------------------------------------------------------\n",
      "| epoch  68 |     1/  658 batches | total loss  0.03 | seq2seq loss  0.03 | style loss  0.00 | coherence loss  0.01| total accuracy  0.38 | total BLEU 97.58\n",
      "| epoch  68 |    95/  658 batches | total loss  0.01 | seq2seq loss  0.01 | style loss  0.00 | coherence loss  0.01| total accuracy  0.35 | total BLEU 99.68\n",
      "| epoch  68 |   189/  658 batches | total loss  0.01 | seq2seq loss  0.01 | style loss  0.00 | coherence loss  0.01| total accuracy  0.35 | total BLEU 99.56\n",
      "| epoch  68 |   283/  658 batches | total loss  0.01 | seq2seq loss  0.01 | style loss  0.00 | coherence loss  0.01| total accuracy  0.35 | total BLEU 99.58\n",
      "| epoch  68 |   377/  658 batches | total loss  0.02 | seq2seq loss  0.01 | style loss  0.00 | coherence loss  0.01| total accuracy  0.35 | total BLEU 99.22\n",
      "| epoch  68 |   471/  658 batches | total loss  0.02 | seq2seq loss  0.01 | style loss  0.00 | coherence loss  0.01| total accuracy  0.35 | total BLEU 99.29\n",
      "| epoch  68 |   565/  658 batches | total loss  0.02 | seq2seq loss  0.01 | style loss  0.00 | coherence loss  0.01| total accuracy  0.35 | total BLEU 99.35\n",
      "--------------------------------------------------------------------------------------------------------------\n",
      "| epoch  69 |     1/  658 batches | total loss  0.01 | seq2seq loss  0.00 | style loss  0.00 | coherence loss  0.01| total accuracy  0.25 | total BLEU 100.00\n",
      "| epoch  69 |    95/  658 batches | total loss  0.01 | seq2seq loss  0.00 | style loss  0.00 | coherence loss  0.01| total accuracy  0.35 | total BLEU 99.78\n",
      "| epoch  69 |   189/  658 batches | total loss  0.01 | seq2seq loss  0.00 | style loss  0.00 | coherence loss  0.01| total accuracy  0.35 | total BLEU 99.79\n",
      "| epoch  69 |   283/  658 batches | total loss  0.01 | seq2seq loss  0.00 | style loss  0.00 | coherence loss  0.01| total accuracy  0.35 | total BLEU 99.80\n",
      "| epoch  69 |   377/  658 batches | total loss  0.01 | seq2seq loss  0.00 | style loss  0.00 | coherence loss  0.01| total accuracy  0.36 | total BLEU 99.82\n",
      "| epoch  69 |   471/  658 batches | total loss  0.01 | seq2seq loss  0.00 | style loss  0.00 | coherence loss  0.01| total accuracy  0.36 | total BLEU 99.82\n",
      "| epoch  69 |   565/  658 batches | total loss  0.01 | seq2seq loss  0.00 | style loss  0.00 | coherence loss  0.01| total accuracy  0.36 | total BLEU 99.82\n",
      "--------------------------------------------------------------------------------------------------------------\n",
      "| epoch  70 |     1/  658 batches | total loss  0.01 | seq2seq loss  0.01 | style loss  0.00 | coherence loss  0.00| total accuracy  0.38 | total BLEU 100.00\n",
      "| epoch  70 |    95/  658 batches | total loss  0.01 | seq2seq loss  0.00 | style loss  0.00 | coherence loss  0.01| total accuracy  0.36 | total BLEU 99.76\n",
      "| epoch  70 |   189/  658 batches | total loss  0.01 | seq2seq loss  0.00 | style loss  0.00 | coherence loss  0.01| total accuracy  0.35 | total BLEU 99.79\n",
      "| epoch  70 |   283/  658 batches | total loss  0.01 | seq2seq loss  0.01 | style loss  0.00 | coherence loss  0.01| total accuracy  0.35 | total BLEU 99.51\n",
      "| epoch  70 |   377/  658 batches | total loss  0.01 | seq2seq loss  0.01 | style loss  0.00 | coherence loss  0.01| total accuracy  0.35 | total BLEU 99.54\n",
      "| epoch  70 |   471/  658 batches | total loss  0.01 | seq2seq loss  0.01 | style loss  0.00 | coherence loss  0.01| total accuracy  0.35 | total BLEU 99.60\n",
      "| epoch  70 |   565/  658 batches | total loss  0.01 | seq2seq loss  0.01 | style loss  0.00 | coherence loss  0.01| total accuracy  0.35 | total BLEU 99.64\n",
      "--------------------------------------------------------------------------------------------------------------\n",
      "| epoch  71 |     1/  658 batches | total loss  0.01 | seq2seq loss  0.00 | style loss  0.00 | coherence loss  0.01| total accuracy  0.36 | total BLEU 100.00\n",
      "| epoch  71 |    95/  658 batches | total loss  0.01 | seq2seq loss  0.00 | style loss  0.00 | coherence loss  0.01| total accuracy  0.37 | total BLEU 99.84\n",
      "| epoch  71 |   189/  658 batches | total loss  0.01 | seq2seq loss  0.00 | style loss  0.00 | coherence loss  0.01| total accuracy  0.36 | total BLEU 99.84\n",
      "| epoch  71 |   283/  658 batches | total loss  0.01 | seq2seq loss  0.00 | style loss  0.00 | coherence loss  0.01| total accuracy  0.36 | total BLEU 99.85\n",
      "| epoch  71 |   471/  658 batches | total loss  0.01 | seq2seq loss  0.00 | style loss  0.00 | coherence loss  0.01| total accuracy  0.36 | total BLEU 99.83\n"
     ]
    },
    {
     "name": "stderr",
     "output_type": "stream",
     "text": [
      "multi-bleu.perl script returned non-zero exit code\n",
      "b'\\ngzip: /tmp/tmpzkb50ygz: not in gzip format\\nERROR: could not find reference file /tmp/tmpzkb50ygz at /tmp/tmpt8s9q0qh line 32.\\n'\n"
     ]
    },
    {
     "name": "stdout",
     "output_type": "stream",
     "text": [
      "| epoch  71 |   565/  658 batches | total loss  0.01 | seq2seq loss  0.00 | style loss  0.00 | coherence loss  0.01| total accuracy  0.36 | total BLEU 99.66\n",
      "--------------------------------------------------------------------------------------------------------------\n",
      "| epoch  72 |     1/  658 batches | total loss  0.03 | seq2seq loss  0.03 | style loss  0.00 | coherence loss  0.01| total accuracy  0.28 | total BLEU 98.72\n",
      "| epoch  72 |    95/  658 batches | total loss  0.01 | seq2seq loss  0.01 | style loss  0.00 | coherence loss  0.01| total accuracy  0.36 | total BLEU 99.59\n"
     ]
    },
    {
     "name": "stderr",
     "output_type": "stream",
     "text": [
      "multi-bleu.perl script returned non-zero exit code\n",
      "b'\\ngzip: /tmp/tmp5c7rhkgz: not in gzip format\\nERROR: could not find reference file /tmp/tmp5c7rhkgz at /tmp/tmpmt9pom7s line 32.\\n'\n"
     ]
    },
    {
     "name": "stdout",
     "output_type": "stream",
     "text": [
      "| epoch  72 |   189/  658 batches | total loss  0.01 | seq2seq loss  0.01 | style loss  0.00 | coherence loss  0.01| total accuracy  0.36 | total BLEU 99.18\n",
      "| epoch  72 |   283/  658 batches | total loss  0.01 | seq2seq loss  0.01 | style loss  0.00 | coherence loss  0.01| total accuracy  0.35 | total BLEU 99.38\n",
      "| epoch  72 |   377/  658 batches | total loss  0.01 | seq2seq loss  0.01 | style loss  0.00 | coherence loss  0.01| total accuracy  0.35 | total BLEU 99.43\n",
      "| epoch  72 |   471/  658 batches | total loss  0.01 | seq2seq loss  0.01 | style loss  0.00 | coherence loss  0.01| total accuracy  0.35 | total BLEU 99.46\n",
      "| epoch  72 |   565/  658 batches | total loss  0.01 | seq2seq loss  0.01 | style loss  0.00 | coherence loss  0.01| total accuracy  0.35 | total BLEU 99.52\n",
      "--------------------------------------------------------------------------------------------------------------\n",
      "| epoch  73 |     1/  658 batches | total loss  0.01 | seq2seq loss  0.00 | style loss  0.00 | coherence loss  0.01| total accuracy  0.22 | total BLEU 100.00\n",
      "| epoch  73 |    95/  658 batches | total loss  0.01 | seq2seq loss  0.00 | style loss  0.00 | coherence loss  0.01| total accuracy  0.35 | total BLEU 99.83\n",
      "| epoch  73 |   189/  658 batches | total loss  0.01 | seq2seq loss  0.00 | style loss  0.00 | coherence loss  0.01| total accuracy  0.35 | total BLEU 99.79\n",
      "| epoch  73 |   283/  658 batches | total loss  0.01 | seq2seq loss  0.00 | style loss  0.00 | coherence loss  0.01| total accuracy  0.36 | total BLEU 99.82\n",
      "| epoch  73 |   377/  658 batches | total loss  0.01 | seq2seq loss  0.00 | style loss  0.00 | coherence loss  0.01| total accuracy  0.36 | total BLEU 99.81\n",
      "| epoch  73 |   471/  658 batches | total loss  0.01 | seq2seq loss  0.00 | style loss  0.00 | coherence loss  0.01| total accuracy  0.36 | total BLEU 99.81\n",
      "| epoch  73 |   565/  658 batches | total loss  0.01 | seq2seq loss  0.00 | style loss  0.00 | coherence loss  0.01| total accuracy  0.35 | total BLEU 99.83\n",
      "--------------------------------------------------------------------------------------------------------------\n",
      "| epoch  74 |     1/  658 batches | total loss  0.01 | seq2seq loss  0.00 | style loss  0.00 | coherence loss  0.01| total accuracy  0.37 | total BLEU 100.00\n",
      "| epoch  74 |    95/  658 batches | total loss  0.01 | seq2seq loss  0.00 | style loss  0.00 | coherence loss  0.01| total accuracy  0.34 | total BLEU 99.90\n",
      "| epoch  74 |   189/  658 batches | total loss  0.01 | seq2seq loss  0.00 | style loss  0.00 | coherence loss  0.01| total accuracy  0.35 | total BLEU 99.91\n",
      "| epoch  74 |   283/  658 batches | total loss  0.01 | seq2seq loss  0.00 | style loss  0.00 | coherence loss  0.01| total accuracy  0.35 | total BLEU 99.87\n",
      "| epoch  74 |   377/  658 batches | total loss  0.01 | seq2seq loss  0.00 | style loss  0.00 | coherence loss  0.01| total accuracy  0.35 | total BLEU 99.85\n",
      "| epoch  74 |   471/  658 batches | total loss  0.01 | seq2seq loss  0.00 | style loss  0.00 | coherence loss  0.01| total accuracy  0.35 | total BLEU 99.85\n",
      "| epoch  74 |   565/  658 batches | total loss  0.01 | seq2seq loss  0.00 | style loss  0.00 | coherence loss  0.01| total accuracy  0.35 | total BLEU 99.85\n",
      "--------------------------------------------------------------------------------------------------------------\n",
      "| epoch  75 |     1/  658 batches | total loss  0.01 | seq2seq loss  0.00 | style loss  0.00 | coherence loss  0.01| total accuracy  0.46 | total BLEU 100.00\n",
      "| epoch  75 |    95/  658 batches | total loss  0.01 | seq2seq loss  0.00 | style loss  0.00 | coherence loss  0.01| total accuracy  0.35 | total BLEU 99.85\n",
      "| epoch  75 |   189/  658 batches | total loss  0.01 | seq2seq loss  0.00 | style loss  0.00 | coherence loss  0.01| total accuracy  0.35 | total BLEU 99.86\n",
      "| epoch  75 |   283/  658 batches | total loss  0.01 | seq2seq loss  0.00 | style loss  0.00 | coherence loss  0.01| total accuracy  0.35 | total BLEU 99.87\n",
      "| epoch  75 |   377/  658 batches | total loss  0.01 | seq2seq loss  0.00 | style loss  0.00 | coherence loss  0.01| total accuracy  0.35 | total BLEU 99.89\n",
      "| epoch  75 |   471/  658 batches | total loss  0.01 | seq2seq loss  0.00 | style loss  0.00 | coherence loss  0.01| total accuracy  0.35 | total BLEU 99.88\n",
      "| epoch  75 |   565/  658 batches | total loss  0.01 | seq2seq loss  0.00 | style loss  0.00 | coherence loss  0.01| total accuracy  0.35 | total BLEU 99.89\n",
      "--------------------------------------------------------------------------------------------------------------\n",
      "| epoch  76 |     1/  658 batches | total loss  0.01 | seq2seq loss  0.00 | style loss  0.00 | coherence loss  0.00| total accuracy  0.26 | total BLEU 100.00\n",
      "| epoch  76 |    95/  658 batches | total loss  0.01 | seq2seq loss  0.00 | style loss  0.00 | coherence loss  0.01| total accuracy  0.35 | total BLEU 99.83\n",
      "| epoch  76 |   189/  658 batches | total loss  0.01 | seq2seq loss  0.01 | style loss  0.00 | coherence loss  0.01| total accuracy  0.36 | total BLEU 99.70\n",
      "| epoch  76 |   283/  658 batches | total loss  0.01 | seq2seq loss  0.00 | style loss  0.00 | coherence loss  0.01| total accuracy  0.36 | total BLEU 99.72\n",
      "| epoch  76 |   377/  658 batches | total loss  0.01 | seq2seq loss  0.01 | style loss  0.00 | coherence loss  0.01| total accuracy  0.36 | total BLEU 99.70\n",
      "| epoch  76 |   471/  658 batches | total loss  0.01 | seq2seq loss  0.01 | style loss  0.00 | coherence loss  0.01| total accuracy  0.36 | total BLEU 99.71\n",
      "| epoch  76 |   565/  658 batches | total loss  0.01 | seq2seq loss  0.00 | style loss  0.00 | coherence loss  0.01| total accuracy  0.36 | total BLEU 99.73\n",
      "--------------------------------------------------------------------------------------------------------------\n",
      "| epoch  77 |     1/  658 batches | total loss  0.01 | seq2seq loss  0.00 | style loss  0.00 | coherence loss  0.01| total accuracy  0.22 | total BLEU 100.00\n",
      "| epoch  77 |    95/  658 batches | total loss  0.01 | seq2seq loss  0.01 | style loss  0.00 | coherence loss  0.01| total accuracy  0.36 | total BLEU 99.66\n"
     ]
    },
    {
     "name": "stderr",
     "output_type": "stream",
     "text": [
      "multi-bleu.perl script returned non-zero exit code\n",
      "b'\\ngzip: /tmp/tmpxl94axgz: not in gzip format\\nERROR: could not find reference file /tmp/tmpxl94axgz at /tmp/tmpbgbip5f9 line 32.\\n'\n"
     ]
    },
    {
     "name": "stdout",
     "output_type": "stream",
     "text": [
      "| epoch  77 |   189/  658 batches | total loss  0.01 | seq2seq loss  0.01 | style loss  0.00 | coherence loss  0.01| total accuracy  0.36 | total BLEU 99.18\n",
      "| epoch  77 |   283/  658 batches | total loss  0.01 | seq2seq loss  0.00 | style loss  0.00 | coherence loss  0.01| total accuracy  0.36 | total BLEU 99.39\n",
      "| epoch  77 |   377/  658 batches | total loss  0.01 | seq2seq loss  0.00 | style loss  0.00 | coherence loss  0.01| total accuracy  0.36 | total BLEU 99.48\n",
      "| epoch  77 |   471/  658 batches | total loss  0.01 | seq2seq loss  0.01 | style loss  0.00 | coherence loss  0.01| total accuracy  0.36 | total BLEU 99.49\n"
     ]
    },
    {
     "name": "stderr",
     "output_type": "stream",
     "text": [
      "multi-bleu.perl script returned non-zero exit code\n",
      "b'\\ngzip: /tmp/tmpkcqz7qgz: not in gzip format\\nERROR: could not find reference file /tmp/tmpkcqz7qgz at /tmp/tmp8ucgsd6w line 32.\\n'\n"
     ]
    },
    {
     "name": "stdout",
     "output_type": "stream",
     "text": [
      "| epoch  77 |   565/  658 batches | total loss  0.01 | seq2seq loss  0.01 | style loss  0.00 | coherence loss  0.01| total accuracy  0.36 | total BLEU 99.34\n",
      "--------------------------------------------------------------------------------------------------------------\n",
      "| epoch  78 |     1/  658 batches | total loss  0.13 | seq2seq loss  0.12 | style loss  0.00 | coherence loss  0.01| total accuracy  0.36 | total BLEU 94.45\n",
      "| epoch  78 |    95/  658 batches | total loss  0.04 | seq2seq loss  0.03 | style loss  0.00 | coherence loss  0.01| total accuracy  0.37 | total BLEU 98.18\n",
      "| epoch  78 |   189/  658 batches | total loss  0.03 | seq2seq loss  0.02 | style loss  0.00 | coherence loss  0.01| total accuracy  0.36 | total BLEU 98.82\n",
      "| epoch  78 |   283/  658 batches | total loss  0.03 | seq2seq loss  0.02 | style loss  0.00 | coherence loss  0.01| total accuracy  0.36 | total BLEU 99.00\n",
      "| epoch  78 |   377/  658 batches | total loss  0.02 | seq2seq loss  0.02 | style loss  0.00 | coherence loss  0.01| total accuracy  0.36 | total BLEU 99.15\n",
      "| epoch  78 |   471/  658 batches | total loss  0.02 | seq2seq loss  0.01 | style loss  0.00 | coherence loss  0.01| total accuracy  0.36 | total BLEU 99.25\n",
      "| epoch  78 |   565/  658 batches | total loss  0.02 | seq2seq loss  0.01 | style loss  0.00 | coherence loss  0.01| total accuracy  0.36 | total BLEU 99.34\n",
      "--------------------------------------------------------------------------------------------------------------\n",
      "| epoch  79 |     1/  658 batches | total loss  0.01 | seq2seq loss  0.00 | style loss  0.00 | coherence loss  0.01| total accuracy  0.32 | total BLEU 100.00\n",
      "| epoch  79 |    95/  658 batches | total loss  0.01 | seq2seq loss  0.00 | style loss  0.00 | coherence loss  0.01| total accuracy  0.35 | total BLEU 99.82\n",
      "| epoch  79 |   189/  658 batches | total loss  0.01 | seq2seq loss  0.00 | style loss  0.00 | coherence loss  0.01| total accuracy  0.34 | total BLEU 99.80\n",
      "| epoch  79 |   283/  658 batches | total loss  0.01 | seq2seq loss  0.00 | style loss  0.00 | coherence loss  0.01| total accuracy  0.35 | total BLEU 99.81\n",
      "| epoch  79 |   377/  658 batches | total loss  0.01 | seq2seq loss  0.00 | style loss  0.00 | coherence loss  0.01| total accuracy  0.35 | total BLEU 99.79\n",
      "| epoch  79 |   471/  658 batches | total loss  0.01 | seq2seq loss  0.00 | style loss  0.00 | coherence loss  0.01| total accuracy  0.35 | total BLEU 99.74\n"
     ]
    },
    {
     "name": "stderr",
     "output_type": "stream",
     "text": [
      "multi-bleu.perl script returned non-zero exit code\n",
      "b'\\ngzip: /tmp/tmpdcnm9bgz: not in gzip format\\nERROR: could not find reference file /tmp/tmpdcnm9bgz at /tmp/tmpm30992_3 line 32.\\n'\n"
     ]
    },
    {
     "name": "stdout",
     "output_type": "stream",
     "text": [
      "| epoch  79 |   565/  658 batches | total loss  0.01 | seq2seq loss  0.01 | style loss  0.00 | coherence loss  0.01| total accuracy  0.35 | total BLEU 99.41\n",
      "--------------------------------------------------------------------------------------------------------------\n",
      "| epoch  80 |     1/  658 batches | total loss  0.01 | seq2seq loss  0.00 | style loss  0.00 | coherence loss  0.01| total accuracy  0.43 | total BLEU 100.00\n",
      "| epoch  80 |    95/  658 batches | total loss  0.01 | seq2seq loss  0.01 | style loss  0.00 | coherence loss  0.01| total accuracy  0.35 | total BLEU 99.54\n",
      "| epoch  80 |   189/  658 batches | total loss  0.01 | seq2seq loss  0.01 | style loss  0.00 | coherence loss  0.01| total accuracy  0.36 | total BLEU 99.59\n",
      "| epoch  80 |   283/  658 batches | total loss  0.01 | seq2seq loss  0.01 | style loss  0.00 | coherence loss  0.01| total accuracy  0.36 | total BLEU 99.64\n",
      "| epoch  80 |   377/  658 batches | total loss  0.01 | seq2seq loss  0.01 | style loss  0.00 | coherence loss  0.01| total accuracy  0.36 | total BLEU 99.63\n"
     ]
    },
    {
     "name": "stderr",
     "output_type": "stream",
     "text": [
      "multi-bleu.perl script returned non-zero exit code\n",
      "b'\\ngzip: /tmp/tmpxg2vwsgz: not in gzip format\\nERROR: could not find reference file /tmp/tmpxg2vwsgz at /tmp/tmpy0o8b4kc line 32.\\n'\n"
     ]
    },
    {
     "name": "stdout",
     "output_type": "stream",
     "text": [
      "| epoch  80 |   471/  658 batches | total loss  0.01 | seq2seq loss  0.01 | style loss  0.00 | coherence loss  0.01| total accuracy  0.36 | total BLEU 99.42\n",
      "| epoch  80 |   565/  658 batches | total loss  0.01 | seq2seq loss  0.01 | style loss  0.00 | coherence loss  0.01| total accuracy  0.36 | total BLEU 99.47\n",
      "--------------------------------------------------------------------------------------------------------------\n",
      "| epoch  81 |     1/  658 batches | total loss  0.01 | seq2seq loss  0.01 | style loss  0.00 | coherence loss  0.01| total accuracy  0.36 | total BLEU 99.37\n",
      "| epoch  81 |    95/  658 batches | total loss  0.01 | seq2seq loss  0.00 | style loss  0.00 | coherence loss  0.01| total accuracy  0.36 | total BLEU 99.81\n"
     ]
    },
    {
     "name": "stderr",
     "output_type": "stream",
     "text": [
      "multi-bleu.perl script returned non-zero exit code\n",
      "b'\\ngzip: /tmp/tmpqsm4i5gz: not in gzip format\\nERROR: could not find reference file /tmp/tmpqsm4i5gz at /tmp/tmpbfve7emd line 32.\\n'\n"
     ]
    },
    {
     "name": "stdout",
     "output_type": "stream",
     "text": [
      "| epoch  81 |   189/  658 batches | total loss  0.01 | seq2seq loss  0.00 | style loss  0.00 | coherence loss  0.01| total accuracy  0.36 | total BLEU 99.28\n",
      "| epoch  81 |   283/  658 batches | total loss  0.01 | seq2seq loss  0.00 | style loss  0.00 | coherence loss  0.01| total accuracy  0.35 | total BLEU 99.45\n",
      "| epoch  81 |   377/  658 batches | total loss  0.01 | seq2seq loss  0.00 | style loss  0.00 | coherence loss  0.01| total accuracy  0.35 | total BLEU 99.55\n",
      "| epoch  81 |   471/  658 batches | total loss  0.01 | seq2seq loss  0.00 | style loss  0.00 | coherence loss  0.01| total accuracy  0.35 | total BLEU 99.60\n",
      "| epoch  81 |   565/  658 batches | total loss  0.01 | seq2seq loss  0.00 | style loss  0.00 | coherence loss  0.01| total accuracy  0.36 | total BLEU 99.65\n",
      "--------------------------------------------------------------------------------------------------------------\n",
      "| epoch  82 |     1/  658 batches | total loss  0.01 | seq2seq loss  0.00 | style loss  0.00 | coherence loss  0.01| total accuracy  0.33 | total BLEU 100.00\n",
      "| epoch  82 |    95/  658 batches | total loss  0.01 | seq2seq loss  0.00 | style loss  0.00 | coherence loss  0.01| total accuracy  0.35 | total BLEU 99.77\n",
      "| epoch  82 |   189/  658 batches | total loss  0.01 | seq2seq loss  0.00 | style loss  0.00 | coherence loss  0.01| total accuracy  0.35 | total BLEU 99.78\n",
      "| epoch  82 |   283/  658 batches | total loss  0.01 | seq2seq loss  0.00 | style loss  0.00 | coherence loss  0.01| total accuracy  0.35 | total BLEU 99.77\n",
      "| epoch  82 |   377/  658 batches | total loss  0.01 | seq2seq loss  0.01 | style loss  0.00 | coherence loss  0.01| total accuracy  0.35 | total BLEU 99.74\n",
      "| epoch  82 |   471/  658 batches | total loss  0.01 | seq2seq loss  0.01 | style loss  0.00 | coherence loss  0.01| total accuracy  0.35 | total BLEU 99.75\n",
      "| epoch  82 |   565/  658 batches | total loss  0.01 | seq2seq loss  0.01 | style loss  0.00 | coherence loss  0.01| total accuracy  0.35 | total BLEU 99.74\n",
      "--------------------------------------------------------------------------------------------------------------\n",
      "| epoch  83 |     1/  658 batches | total loss  0.01 | seq2seq loss  0.00 | style loss  0.00 | coherence loss  0.01| total accuracy  0.43 | total BLEU 100.00\n"
     ]
    },
    {
     "name": "stderr",
     "output_type": "stream",
     "text": [
      "multi-bleu.perl script returned non-zero exit code\n",
      "b'\\ngzip: /tmp/tmpr_e_jwgz: not in gzip format\\nERROR: could not find reference file /tmp/tmpr_e_jwgz at /tmp/tmpem6bz6fg line 32.\\n'\n"
     ]
    },
    {
     "name": "stdout",
     "output_type": "stream",
     "text": [
      "| epoch  83 |    95/  658 batches | total loss  0.01 | seq2seq loss  0.01 | style loss  0.00 | coherence loss  0.01| total accuracy  0.35 | total BLEU 98.59\n",
      "| epoch  83 |   189/  658 batches | total loss  0.01 | seq2seq loss  0.01 | style loss  0.00 | coherence loss  0.01| total accuracy  0.35 | total BLEU 99.08\n",
      "| epoch  83 |   283/  658 batches | total loss  0.01 | seq2seq loss  0.01 | style loss  0.00 | coherence loss  0.01| total accuracy  0.36 | total BLEU 99.27\n",
      "| epoch  83 |   377/  658 batches | total loss  0.01 | seq2seq loss  0.01 | style loss  0.00 | coherence loss  0.01| total accuracy  0.36 | total BLEU 99.35\n",
      "| epoch  83 |   471/  658 batches | total loss  0.01 | seq2seq loss  0.01 | style loss  0.00 | coherence loss  0.01| total accuracy  0.36 | total BLEU 99.43\n",
      "| epoch  83 |   565/  658 batches | total loss  0.01 | seq2seq loss  0.01 | style loss  0.00 | coherence loss  0.01| total accuracy  0.36 | total BLEU 99.49\n",
      "--------------------------------------------------------------------------------------------------------------\n",
      "| epoch  84 |    95/  658 batches | total loss  0.01 | seq2seq loss  0.00 | style loss  0.00 | coherence loss  0.01| total accuracy  0.36 | total BLEU 99.70\n"
     ]
    },
    {
     "name": "stderr",
     "output_type": "stream",
     "text": [
      "multi-bleu.perl script returned non-zero exit code\n",
      "b'\\ngzip: /tmp/tmpf1_dkggz: not in gzip format\\nERROR: could not find reference file /tmp/tmpf1_dkggz at /tmp/tmp6u9fhqby line 32.\\n'\n",
      "multi-bleu.perl script returned non-zero exit code\n",
      "b'\\ngzip: /tmp/tmpfvy_wigz: not in gzip format\\nERROR: could not find reference file /tmp/tmpfvy_wigz at /tmp/tmp9i8_unie line 32.\\n'\n"
     ]
    },
    {
     "name": "stdout",
     "output_type": "stream",
     "text": [
      "| epoch  84 |   189/  658 batches | total loss  0.01 | seq2seq loss  0.00 | style loss  0.00 | coherence loss  0.01| total accuracy  0.36 | total BLEU 98.70\n"
     ]
    },
    {
     "name": "stderr",
     "output_type": "stream",
     "text": [
      "multi-bleu.perl script returned non-zero exit code\n",
      "b'\\ngzip: /tmp/tmps0_rg3gz: not in gzip format\\nERROR: could not find reference file /tmp/tmps0_rg3gz at /tmp/tmpsuzd6bw5 line 32.\\n'\n"
     ]
    },
    {
     "name": "stdout",
     "output_type": "stream",
     "text": [
      "| epoch  84 |   283/  658 batches | total loss  0.01 | seq2seq loss  0.00 | style loss  0.00 | coherence loss  0.01| total accuracy  0.36 | total BLEU 98.70\n",
      "| epoch  84 |   377/  658 batches | total loss  0.01 | seq2seq loss  0.00 | style loss  0.00 | coherence loss  0.01| total accuracy  0.36 | total BLEU 98.98\n",
      "| epoch  84 |   471/  658 batches | total loss  0.01 | seq2seq loss  0.00 | style loss  0.00 | coherence loss  0.01| total accuracy  0.36 | total BLEU 99.11\n",
      "| epoch  84 |   565/  658 batches | total loss  0.01 | seq2seq loss  0.00 | style loss  0.00 | coherence loss  0.01| total accuracy  0.36 | total BLEU 99.20\n",
      "--------------------------------------------------------------------------------------------------------------\n",
      "| epoch  85 |     1/  658 batches | total loss  0.01 | seq2seq loss  0.00 | style loss  0.00 | coherence loss  0.01| total accuracy  0.39 | total BLEU 100.00\n",
      "| epoch  85 |    95/  658 batches | total loss  0.02 | seq2seq loss  0.01 | style loss  0.00 | coherence loss  0.01| total accuracy  0.36 | total BLEU 99.36\n",
      "| epoch  85 |   189/  658 batches | total loss  0.02 | seq2seq loss  0.01 | style loss  0.00 | coherence loss  0.01| total accuracy  0.36 | total BLEU 99.49\n",
      "| epoch  85 |   283/  658 batches | total loss  0.01 | seq2seq loss  0.01 | style loss  0.00 | coherence loss  0.01| total accuracy  0.36 | total BLEU 99.57\n",
      "| epoch  85 |   377/  658 batches | total loss  0.01 | seq2seq loss  0.01 | style loss  0.00 | coherence loss  0.01| total accuracy  0.36 | total BLEU 99.59\n",
      "| epoch  85 |   471/  658 batches | total loss  0.01 | seq2seq loss  0.01 | style loss  0.00 | coherence loss  0.01| total accuracy  0.36 | total BLEU 99.60\n",
      "| epoch  85 |   565/  658 batches | total loss  0.01 | seq2seq loss  0.01 | style loss  0.00 | coherence loss  0.01| total accuracy  0.36 | total BLEU 99.63\n",
      "--------------------------------------------------------------------------------------------------------------\n",
      "| epoch  86 |     1/  658 batches | total loss  0.01 | seq2seq loss  0.00 | style loss  0.00 | coherence loss  0.01| total accuracy  0.43 | total BLEU 100.00\n",
      "| epoch  86 |    95/  658 batches | total loss  0.01 | seq2seq loss  0.01 | style loss  0.00 | coherence loss  0.01| total accuracy  0.36 | total BLEU 99.56\n",
      "| epoch  86 |   189/  658 batches | total loss  0.01 | seq2seq loss  0.01 | style loss  0.00 | coherence loss  0.01| total accuracy  0.36 | total BLEU 99.52\n",
      "| epoch  86 |   283/  658 batches | total loss  0.02 | seq2seq loss  0.01 | style loss  0.00 | coherence loss  0.01| total accuracy  0.36 | total BLEU 99.40\n",
      "| epoch  86 |   377/  658 batches | total loss  0.02 | seq2seq loss  0.01 | style loss  0.00 | coherence loss  0.01| total accuracy  0.36 | total BLEU 99.45\n",
      "| epoch  86 |   471/  658 batches | total loss  0.02 | seq2seq loss  0.01 | style loss  0.00 | coherence loss  0.01| total accuracy  0.36 | total BLEU 99.47\n",
      "| epoch  86 |   565/  658 batches | total loss  0.01 | seq2seq loss  0.01 | style loss  0.00 | coherence loss  0.01| total accuracy  0.36 | total BLEU 99.53\n",
      "--------------------------------------------------------------------------------------------------------------\n",
      "| epoch  87 |     1/  658 batches | total loss  0.01 | seq2seq loss  0.00 | style loss  0.00 | coherence loss  0.01| total accuracy  0.34 | total BLEU 100.00\n",
      "| epoch  87 |    95/  658 batches | total loss  0.01 | seq2seq loss  0.00 | style loss  0.00 | coherence loss  0.01| total accuracy  0.35 | total BLEU 99.75\n",
      "| epoch  87 |   189/  658 batches | total loss  0.01 | seq2seq loss  0.00 | style loss  0.00 | coherence loss  0.01| total accuracy  0.36 | total BLEU 99.73\n",
      "| epoch  87 |   283/  658 batches | total loss  0.01 | seq2seq loss  0.00 | style loss  0.00 | coherence loss  0.01| total accuracy  0.35 | total BLEU 99.74\n",
      "| epoch  87 |   377/  658 batches | total loss  0.01 | seq2seq loss  0.00 | style loss  0.00 | coherence loss  0.01| total accuracy  0.35 | total BLEU 99.76\n",
      "| epoch  87 |   471/  658 batches | total loss  0.01 | seq2seq loss  0.00 | style loss  0.00 | coherence loss  0.01| total accuracy  0.36 | total BLEU 99.77\n",
      "| epoch  87 |   565/  658 batches | total loss  0.01 | seq2seq loss  0.00 | style loss  0.00 | coherence loss  0.01| total accuracy  0.35 | total BLEU 99.77\n",
      "--------------------------------------------------------------------------------------------------------------\n",
      "| epoch  88 |     1/  658 batches | total loss  0.01 | seq2seq loss  0.00 | style loss  0.00 | coherence loss  0.00| total accuracy  0.35 | total BLEU 100.00\n",
      "| epoch  88 |    95/  658 batches | total loss  0.01 | seq2seq loss  0.00 | style loss  0.00 | coherence loss  0.01| total accuracy  0.36 | total BLEU 99.88\n"
     ]
    },
    {
     "name": "stderr",
     "output_type": "stream",
     "text": [
      "multi-bleu.perl script returned non-zero exit code\n",
      "b'\\ngzip: /tmp/tmp60i40pgz: not in gzip format\\nERROR: could not find reference file /tmp/tmp60i40pgz at /tmp/tmp7n7k0g7k line 32.\\n'\n"
     ]
    },
    {
     "name": "stdout",
     "output_type": "stream",
     "text": [
      "| epoch  88 |   189/  658 batches | total loss  0.01 | seq2seq loss  0.00 | style loss  0.00 | coherence loss  0.01| total accuracy  0.36 | total BLEU 99.34\n",
      "| epoch  88 |   283/  658 batches | total loss  0.01 | seq2seq loss  0.00 | style loss  0.00 | coherence loss  0.01| total accuracy  0.35 | total BLEU 99.49\n",
      "| epoch  88 |   377/  658 batches | total loss  0.01 | seq2seq loss  0.00 | style loss  0.00 | coherence loss  0.01| total accuracy  0.35 | total BLEU 99.58\n",
      "| epoch  88 |   471/  658 batches | total loss  0.01 | seq2seq loss  0.00 | style loss  0.00 | coherence loss  0.01| total accuracy  0.35 | total BLEU 99.61\n"
     ]
    },
    {
     "name": "stderr",
     "output_type": "stream",
     "text": [
      "multi-bleu.perl script returned non-zero exit code\n",
      "b'\\ngzip: /tmp/tmpf_9kzwgz: not in gzip format\\nERROR: could not find reference file /tmp/tmpf_9kzwgz at /tmp/tmp1ykllgf3 line 32.\\n'\n"
     ]
    },
    {
     "name": "stdout",
     "output_type": "stream",
     "text": [
      "| epoch  88 |   565/  658 batches | total loss  0.01 | seq2seq loss  0.00 | style loss  0.00 | coherence loss  0.01| total accuracy  0.35 | total BLEU 99.47\n",
      "--------------------------------------------------------------------------------------------------------------\n",
      "| epoch  89 |     1/  658 batches | total loss  0.01 | seq2seq loss  0.00 | style loss  0.00 | coherence loss  0.00| total accuracy  0.21 | total BLEU 100.00\n",
      "| epoch  89 |    95/  658 batches | total loss  0.01 | seq2seq loss  0.00 | style loss  0.00 | coherence loss  0.01| total accuracy  0.34 | total BLEU 99.82\n",
      "| epoch  89 |   189/  658 batches | total loss  0.01 | seq2seq loss  0.00 | style loss  0.00 | coherence loss  0.01| total accuracy  0.35 | total BLEU 99.83\n"
     ]
    },
    {
     "name": "stderr",
     "output_type": "stream",
     "text": [
      "multi-bleu.perl script returned non-zero exit code\n",
      "b'\\ngzip: /tmp/tmppth6okgz: not in gzip format\\nERROR: could not find reference file /tmp/tmppth6okgz at /tmp/tmppca5np91 line 32.\\n'\n"
     ]
    },
    {
     "name": "stdout",
     "output_type": "stream",
     "text": [
      "| epoch  89 |   283/  658 batches | total loss  0.01 | seq2seq loss  0.00 | style loss  0.00 | coherence loss  0.01| total accuracy  0.36 | total BLEU 99.45\n",
      "| epoch  89 |   377/  658 batches | total loss  0.01 | seq2seq loss  0.00 | style loss  0.00 | coherence loss  0.01| total accuracy  0.36 | total BLEU 99.54\n",
      "| epoch  89 |   471/  658 batches | total loss  0.01 | seq2seq loss  0.00 | style loss  0.00 | coherence loss  0.01| total accuracy  0.36 | total BLEU 99.59\n",
      "| epoch  89 |   565/  658 batches | total loss  0.01 | seq2seq loss  0.00 | style loss  0.00 | coherence loss  0.01| total accuracy  0.36 | total BLEU 99.63\n",
      "--------------------------------------------------------------------------------------------------------------\n",
      "| epoch  90 |     1/  658 batches | total loss  0.01 | seq2seq loss  0.01 | style loss  0.00 | coherence loss  0.01| total accuracy  0.44 | total BLEU 100.00\n",
      "| epoch  90 |    95/  658 batches | total loss  0.03 | seq2seq loss  0.02 | style loss  0.00 | coherence loss  0.01| total accuracy  0.35 | total BLEU 98.79\n",
      "| epoch  90 |   189/  658 batches | total loss  0.02 | seq2seq loss  0.01 | style loss  0.00 | coherence loss  0.01| total accuracy  0.36 | total BLEU 99.17\n",
      "| epoch  90 |   283/  658 batches | total loss  0.02 | seq2seq loss  0.01 | style loss  0.00 | coherence loss  0.01| total accuracy  0.36 | total BLEU 99.33\n",
      "| epoch  90 |   377/  658 batches | total loss  0.02 | seq2seq loss  0.01 | style loss  0.00 | coherence loss  0.01| total accuracy  0.36 | total BLEU 99.42\n",
      "| epoch  90 |   471/  658 batches | total loss  0.02 | seq2seq loss  0.01 | style loss  0.00 | coherence loss  0.01| total accuracy  0.36 | total BLEU 99.38\n",
      "| epoch  90 |   565/  658 batches | total loss  0.02 | seq2seq loss  0.01 | style loss  0.00 | coherence loss  0.01| total accuracy  0.36 | total BLEU 99.42\n",
      "--------------------------------------------------------------------------------------------------------------\n",
      "| epoch  91 |     1/  658 batches | total loss  0.01 | seq2seq loss  0.00 | style loss  0.00 | coherence loss  0.00| total accuracy  0.26 | total BLEU 100.00\n",
      "| epoch  91 |    95/  658 batches | total loss  0.01 | seq2seq loss  0.00 | style loss  0.00 | coherence loss  0.01| total accuracy  0.35 | total BLEU 99.82\n",
      "| epoch  91 |   189/  658 batches | total loss  0.01 | seq2seq loss  0.00 | style loss  0.00 | coherence loss  0.01| total accuracy  0.36 | total BLEU 99.80\n",
      "| epoch  91 |   283/  658 batches | total loss  0.01 | seq2seq loss  0.00 | style loss  0.00 | coherence loss  0.01| total accuracy  0.36 | total BLEU 99.79\n",
      "| epoch  91 |   377/  658 batches | total loss  0.01 | seq2seq loss  0.00 | style loss  0.00 | coherence loss  0.01| total accuracy  0.35 | total BLEU 99.80\n"
     ]
    },
    {
     "name": "stderr",
     "output_type": "stream",
     "text": [
      "multi-bleu.perl script returned non-zero exit code\n",
      "b'\\ngzip: /tmp/tmpuhl7bkgz: not in gzip format\\nERROR: could not find reference file /tmp/tmpuhl7bkgz at /tmp/tmpeal2yob5 line 32.\\n'\n"
     ]
    },
    {
     "name": "stdout",
     "output_type": "stream",
     "text": [
      "| epoch  91 |   471/  658 batches | total loss  0.01 | seq2seq loss  0.00 | style loss  0.00 | coherence loss  0.01| total accuracy  0.35 | total BLEU 99.58\n",
      "| epoch  91 |   565/  658 batches | total loss  0.01 | seq2seq loss  0.00 | style loss  0.00 | coherence loss  0.01| total accuracy  0.35 | total BLEU 99.56\n",
      "--------------------------------------------------------------------------------------------------------------\n",
      "| epoch  92 |     1/  658 batches | total loss  0.02 | seq2seq loss  0.01 | style loss  0.00 | coherence loss  0.00| total accuracy  0.41 | total BLEU 99.29\n",
      "| epoch  92 |    95/  658 batches | total loss  0.01 | seq2seq loss  0.00 | style loss  0.00 | coherence loss  0.01| total accuracy  0.35 | total BLEU 99.75\n",
      "| epoch  92 |   189/  658 batches | total loss  0.01 | seq2seq loss  0.00 | style loss  0.00 | coherence loss  0.01| total accuracy  0.35 | total BLEU 99.77\n",
      "| epoch  92 |   283/  658 batches | total loss  0.01 | seq2seq loss  0.00 | style loss  0.00 | coherence loss  0.01| total accuracy  0.35 | total BLEU 99.79\n",
      "| epoch  92 |   377/  658 batches | total loss  0.01 | seq2seq loss  0.00 | style loss  0.00 | coherence loss  0.01| total accuracy  0.36 | total BLEU 99.80\n",
      "| epoch  92 |   471/  658 batches | total loss  0.01 | seq2seq loss  0.01 | style loss  0.00 | coherence loss  0.01| total accuracy  0.36 | total BLEU 99.61\n",
      "| epoch  92 |   565/  658 batches | total loss  0.01 | seq2seq loss  0.01 | style loss  0.00 | coherence loss  0.01| total accuracy  0.36 | total BLEU 99.57\n",
      "--------------------------------------------------------------------------------------------------------------\n",
      "| epoch  93 |     1/  658 batches | total loss  0.01 | seq2seq loss  0.00 | style loss  0.00 | coherence loss  0.00| total accuracy  0.30 | total BLEU 100.00\n",
      "| epoch  93 |    95/  658 batches | total loss  0.01 | seq2seq loss  0.01 | style loss  0.00 | coherence loss  0.01| total accuracy  0.37 | total BLEU 99.79\n",
      "| epoch  93 |   189/  658 batches | total loss  0.01 | seq2seq loss  0.00 | style loss  0.00 | coherence loss  0.01| total accuracy  0.36 | total BLEU 99.81\n",
      "| epoch  93 |   283/  658 batches | total loss  0.01 | seq2seq loss  0.00 | style loss  0.00 | coherence loss  0.01| total accuracy  0.36 | total BLEU 99.80\n"
     ]
    },
    {
     "name": "stderr",
     "output_type": "stream",
     "text": [
      "multi-bleu.perl script returned non-zero exit code\n",
      "b'\\ngzip: /tmp/tmp4r6m4xgz: not in gzip format\\nERROR: could not find reference file /tmp/tmp4r6m4xgz at /tmp/tmphjmp6zs_ line 32.\\n'\n"
     ]
    },
    {
     "name": "stdout",
     "output_type": "stream",
     "text": [
      "| epoch  93 |   377/  658 batches | total loss  0.01 | seq2seq loss  0.00 | style loss  0.00 | coherence loss  0.01| total accuracy  0.36 | total BLEU 99.55\n",
      "| epoch  93 |   471/  658 batches | total loss  0.01 | seq2seq loss  0.00 | style loss  0.00 | coherence loss  0.01| total accuracy  0.36 | total BLEU 99.59\n",
      "| epoch  93 |   565/  658 batches | total loss  0.01 | seq2seq loss  0.00 | style loss  0.00 | coherence loss  0.01| total accuracy  0.36 | total BLEU 99.63\n",
      "--------------------------------------------------------------------------------------------------------------\n",
      "| epoch  94 |     1/  658 batches | total loss  0.01 | seq2seq loss  0.00 | style loss  0.00 | coherence loss  0.01| total accuracy  0.43 | total BLEU 100.00\n",
      "| epoch  94 |    95/  658 batches | total loss  0.01 | seq2seq loss  0.00 | style loss  0.00 | coherence loss  0.01| total accuracy  0.36 | total BLEU 99.84\n"
     ]
    },
    {
     "name": "stderr",
     "output_type": "stream",
     "text": [
      "multi-bleu.perl script returned non-zero exit code\n",
      "b'\\ngzip: /tmp/tmpizt8zugz: not in gzip format\\nERROR: could not find reference file /tmp/tmpizt8zugz at /tmp/tmpu6xv5a0l line 32.\\n'\n"
     ]
    },
    {
     "name": "stdout",
     "output_type": "stream",
     "text": [
      "| epoch  94 |   189/  658 batches | total loss  0.01 | seq2seq loss  0.00 | style loss  0.00 | coherence loss  0.01| total accuracy  0.35 | total BLEU 99.31\n",
      "| epoch  94 |   283/  658 batches | total loss  0.01 | seq2seq loss  0.00 | style loss  0.00 | coherence loss  0.01| total accuracy  0.35 | total BLEU 99.47\n"
     ]
    },
    {
     "name": "stderr",
     "output_type": "stream",
     "text": [
      "multi-bleu.perl script returned non-zero exit code\n",
      "b'\\ngzip: /tmp/tmpk4exnzgz: not in gzip format\\nERROR: could not find reference file /tmp/tmpk4exnzgz at /tmp/tmpg7lmg7ln line 32.\\n'\n"
     ]
    },
    {
     "name": "stdout",
     "output_type": "stream",
     "text": [
      "| epoch  94 |   377/  658 batches | total loss  0.01 | seq2seq loss  0.00 | style loss  0.00 | coherence loss  0.01| total accuracy  0.35 | total BLEU 99.28\n",
      "| epoch  94 |   471/  658 batches | total loss  0.01 | seq2seq loss  0.00 | style loss  0.00 | coherence loss  0.01| total accuracy  0.35 | total BLEU 99.34\n",
      "| epoch  94 |   565/  658 batches | total loss  0.01 | seq2seq loss  0.00 | style loss  0.00 | coherence loss  0.01| total accuracy  0.36 | total BLEU 99.40\n",
      "--------------------------------------------------------------------------------------------------------------\n",
      "| epoch  95 |     1/  658 batches | total loss  0.01 | seq2seq loss  0.00 | style loss  0.00 | coherence loss  0.00| total accuracy  0.37 | total BLEU 100.00\n",
      "| epoch  95 |    95/  658 batches | total loss  0.01 | seq2seq loss  0.00 | style loss  0.00 | coherence loss  0.01| total accuracy  0.36 | total BLEU 99.89\n",
      "| epoch  95 |   189/  658 batches | total loss  0.01 | seq2seq loss  0.00 | style loss  0.00 | coherence loss  0.01| total accuracy  0.36 | total BLEU 99.85\n",
      "| epoch  95 |   283/  658 batches | total loss  0.01 | seq2seq loss  0.00 | style loss  0.00 | coherence loss  0.01| total accuracy  0.36 | total BLEU 99.86\n",
      "| epoch  95 |   377/  658 batches | total loss  0.01 | seq2seq loss  0.00 | style loss  0.00 | coherence loss  0.01| total accuracy  0.36 | total BLEU 99.85\n",
      "| epoch  95 |   471/  658 batches | total loss  0.01 | seq2seq loss  0.00 | style loss  0.00 | coherence loss  0.01| total accuracy  0.36 | total BLEU 99.85\n",
      "| epoch  95 |   565/  658 batches | total loss  0.01 | seq2seq loss  0.00 | style loss  0.00 | coherence loss  0.01| total accuracy  0.36 | total BLEU 99.85\n",
      "--------------------------------------------------------------------------------------------------------------\n",
      "| epoch  96 |     1/  658 batches | total loss  0.02 | seq2seq loss  0.00 | style loss  0.00 | coherence loss  0.01| total accuracy  0.37 | total BLEU 100.00\n",
      "| epoch  96 |    95/  658 batches | total loss  0.01 | seq2seq loss  0.00 | style loss  0.00 | coherence loss  0.01| total accuracy  0.36 | total BLEU 99.74\n",
      "| epoch  96 |   189/  658 batches | total loss  0.01 | seq2seq loss  0.00 | style loss  0.00 | coherence loss  0.01| total accuracy  0.35 | total BLEU 99.75\n",
      "| epoch  96 |   283/  658 batches | total loss  0.01 | seq2seq loss  0.01 | style loss  0.00 | coherence loss  0.01| total accuracy  0.36 | total BLEU 99.74\n",
      "| epoch  96 |   377/  658 batches | total loss  0.01 | seq2seq loss  0.01 | style loss  0.00 | coherence loss  0.01| total accuracy  0.36 | total BLEU 99.75\n",
      "| epoch  96 |   471/  658 batches | total loss  0.01 | seq2seq loss  0.00 | style loss  0.00 | coherence loss  0.01| total accuracy  0.36 | total BLEU 99.77\n",
      "| epoch  96 |   565/  658 batches | total loss  0.01 | seq2seq loss  0.00 | style loss  0.00 | coherence loss  0.01| total accuracy  0.36 | total BLEU 99.78\n",
      "--------------------------------------------------------------------------------------------------------------\n",
      "| epoch  97 |     1/  658 batches | total loss  0.01 | seq2seq loss  0.00 | style loss  0.00 | coherence loss  0.01| total accuracy  0.37 | total BLEU 100.00\n",
      "| epoch  97 |    95/  658 batches | total loss  0.01 | seq2seq loss  0.01 | style loss  0.00 | coherence loss  0.01| total accuracy  0.35 | total BLEU 99.63\n",
      "| epoch  97 |   189/  658 batches | total loss  0.01 | seq2seq loss  0.01 | style loss  0.00 | coherence loss  0.01| total accuracy  0.35 | total BLEU 99.65\n",
      "| epoch  97 |   283/  658 batches | total loss  0.01 | seq2seq loss  0.01 | style loss  0.00 | coherence loss  0.01| total accuracy  0.35 | total BLEU 99.71\n",
      "| epoch  97 |   377/  658 batches | total loss  0.01 | seq2seq loss  0.00 | style loss  0.00 | coherence loss  0.01| total accuracy  0.36 | total BLEU 99.74\n",
      "| epoch  97 |   471/  658 batches | total loss  0.01 | seq2seq loss  0.00 | style loss  0.00 | coherence loss  0.01| total accuracy  0.36 | total BLEU 99.77\n",
      "| epoch  97 |   565/  658 batches | total loss  0.01 | seq2seq loss  0.00 | style loss  0.00 | coherence loss  0.01| total accuracy  0.36 | total BLEU 99.73\n",
      "--------------------------------------------------------------------------------------------------------------\n",
      "| epoch  98 |     1/  658 batches | total loss  0.01 | seq2seq loss  0.01 | style loss  0.00 | coherence loss  0.01| total accuracy  0.51 | total BLEU 99.26\n",
      "| epoch  98 |    95/  658 batches | total loss  0.01 | seq2seq loss  0.01 | style loss  0.00 | coherence loss  0.01| total accuracy  0.35 | total BLEU 99.55\n",
      "| epoch  98 |   189/  658 batches | total loss  0.01 | seq2seq loss  0.01 | style loss  0.00 | coherence loss  0.01| total accuracy  0.35 | total BLEU 99.62\n",
      "| epoch  98 |   283/  658 batches | total loss  0.01 | seq2seq loss  0.01 | style loss  0.00 | coherence loss  0.01| total accuracy  0.35 | total BLEU 99.65\n",
      "| epoch  98 |   377/  658 batches | total loss  0.01 | seq2seq loss  0.01 | style loss  0.00 | coherence loss  0.01| total accuracy  0.35 | total BLEU 99.70\n",
      "| epoch  98 |   471/  658 batches | total loss  0.01 | seq2seq loss  0.01 | style loss  0.00 | coherence loss  0.01| total accuracy  0.35 | total BLEU 99.70\n",
      "| epoch  98 |   565/  658 batches | total loss  0.01 | seq2seq loss  0.01 | style loss  0.00 | coherence loss  0.01| total accuracy  0.36 | total BLEU 99.72\n",
      "--------------------------------------------------------------------------------------------------------------\n",
      "| epoch  99 |     1/  658 batches | total loss  0.01 | seq2seq loss  0.01 | style loss  0.00 | coherence loss  0.01| total accuracy  0.32 | total BLEU 99.60\n",
      "| epoch  99 |    95/  658 batches | total loss  0.01 | seq2seq loss  0.00 | style loss  0.00 | coherence loss  0.01| total accuracy  0.36 | total BLEU 99.82\n",
      "| epoch  99 |   189/  658 batches | total loss  0.01 | seq2seq loss  0.00 | style loss  0.00 | coherence loss  0.01| total accuracy  0.36 | total BLEU 99.78\n",
      "| epoch  99 |   283/  658 batches | total loss  0.01 | seq2seq loss  0.00 | style loss  0.00 | coherence loss  0.01| total accuracy  0.36 | total BLEU 99.79\n",
      "| epoch  99 |   377/  658 batches | total loss  0.01 | seq2seq loss  0.00 | style loss  0.00 | coherence loss  0.01| total accuracy  0.36 | total BLEU 99.77\n",
      "| epoch  99 |   471/  658 batches | total loss  0.01 | seq2seq loss  0.00 | style loss  0.00 | coherence loss  0.01| total accuracy  0.36 | total BLEU 99.77\n",
      "| epoch  99 |   565/  658 batches | total loss  0.01 | seq2seq loss  0.00 | style loss  0.00 | coherence loss  0.01| total accuracy  0.36 | total BLEU 99.77\n"
     ]
    },
    {
     "name": "stderr",
     "output_type": "stream",
     "text": [
      "multi-bleu.perl script returned non-zero exit code\n",
      "b'\\ngzip: /tmp/tmpa7bujjgz: not in gzip format\\nERROR: could not find reference file /tmp/tmpa7bujjgz at /tmp/tmpk87qa6g7 line 32.\\n'\n"
     ]
    },
    {
     "name": "stdout",
     "output_type": "stream",
     "text": [
      "--------------------------------------------------------------------------------------------------------------\n",
      "| epoch 100 |     1/  658 batches | total loss  0.01 | seq2seq loss  0.00 | style loss  0.00 | coherence loss  0.01| total accuracy  0.22 | total BLEU 100.00\n",
      "| epoch 100 |    95/  658 batches | total loss  0.01 | seq2seq loss  0.01 | style loss  0.00 | coherence loss  0.01| total accuracy  0.36 | total BLEU 99.57\n",
      "| epoch 100 |   189/  658 batches | total loss  0.01 | seq2seq loss  0.01 | style loss  0.00 | coherence loss  0.01| total accuracy  0.36 | total BLEU 99.67\n",
      "| epoch 100 |   283/  658 batches | total loss  0.02 | seq2seq loss  0.01 | style loss  0.00 | coherence loss  0.01| total accuracy  0.35 | total BLEU 99.32\n",
      "| epoch 100 |   377/  658 batches | total loss  0.02 | seq2seq loss  0.01 | style loss  0.00 | coherence loss  0.01| total accuracy  0.36 | total BLEU 99.39\n"
     ]
    },
    {
     "name": "stderr",
     "output_type": "stream",
     "text": [
      "multi-bleu.perl script returned non-zero exit code\n",
      "b'\\ngzip: /tmp/tmp60e85tgz: not in gzip format\\nERROR: could not find reference file /tmp/tmp60e85tgz at /tmp/tmpp3yhs3hq line 32.\\n'\n"
     ]
    },
    {
     "name": "stdout",
     "output_type": "stream",
     "text": [
      "| epoch 100 |   471/  658 batches | total loss  0.02 | seq2seq loss  0.01 | style loss  0.00 | coherence loss  0.01| total accuracy  0.35 | total BLEU 99.24\n",
      "| epoch 100 |   565/  658 batches | total loss  0.02 | seq2seq loss  0.01 | style loss  0.00 | coherence loss  0.01| total accuracy  0.36 | total BLEU 99.34\n",
      "--------------------------------------------------------------------------------------------------------------\n"
     ]
    }
   ],
   "source": [
    "nb_epoch = 100\n",
    "writer = SummaryWriter(\"data/runs/parallel_model_v0\")\n",
    "train_loader = torch.utils.data.DataLoader(train_data, batch_size=batch_size,\n",
    "                                            shuffle=True,collate_fn=train_data.collate)\n",
    "n = len(train_data.x) // batch_size\n",
    "\n",
    "for epoch in range(1,nb_epoch+1):\n",
    "    total_loss = total_seq = total_style = total_coh = total_accuracy = total_BLEU = 0\n",
    "    i = 0\n",
    "    \n",
    "    for x,y, ctx_x, ctx_y_1,ctx_y_2, label_x,len_y in train_loader:\n",
    "        i += 1\n",
    "        if i==n:\n",
    "            break\n",
    "        optimizer.zero_grad()\n",
    "        \n",
    "        x,_ = model.forward(x,ctx_x,y,label_x) #Output still embedded\n",
    "        y_pred_dist = decoder_linear(x)\n",
    "        \n",
    "        \n",
    "        # Seq2Seq Loss with Embedding\n",
    "        #y_hot = torch.nn.functional.one_hot(y).float()\n",
    "        #y_hot[y_hot==dict_size] = 0.\n",
    "        \n",
    "        loss_seq = loss_seq2seq(y_pred_dist.reshape(-1,dict_size),y.reshape(-1))\n",
    "        \n",
    "        # Style Loss\n",
    "        loss_sty,_ = style_classifier.forward(inputs_embeds=x,attention_mask=(y != dict_size).int(),labels=(1-label_x).to(device))\n",
    "        \n",
    "        \n",
    "        # Coherence Loss\n",
    "        ctx_y = torch.cat([embedding(ctx_y_1),x,embedding(ctx_y_2)],dim=1)\n",
    "        mask_coh = torch.cat([(ctx_y_1 != dict_size).int(),\n",
    "                              ((y != dict_size)*(y != 0)*(y != 1)).int(),\n",
    "                              (ctx_y_2 != dict_size).int()],dim=1).to(device)\n",
    "        loss_coh,_ = coherence_classifier(inputs_embeds=ctx_y,attention_mask=mask_coh,labels=torch.LongTensor([1]*batch_size).to(device))\n",
    "        \n",
    "        \n",
    "        # Total Loss\n",
    "        loss = l1 * loss_seq + l2 * loss_sty + l3 *  loss_coh\n",
    "\n",
    "        # Step\n",
    "        loss.backward()\n",
    "        optimizer.step()\n",
    "        \n",
    "        total_loss += loss.item()\n",
    "        total_seq += loss_seq.item()\n",
    "        total_style += loss_sty.item()\n",
    "        total_coh += loss_coh.item()\n",
    "        \n",
    "        pred = torch.argmax(softmax_layer(y_pred_dist),dim=2)\n",
    "        hypotheses = [code2string(item[:len_],dict_token,no_pad=True) for item,len_ in zip(pred,len_y)]\n",
    "        references = [code2string(item[:len_],dict_token,no_pad=True) for item,len_ in zip(y,len_y)]\n",
    "        accuracy,_,_ = get_token_accuracy(y,pred)\n",
    "        total_accuracy += accuracy\n",
    "        BLEU = get_moses_multi_bleu(hypotheses,references,lowercase=True)\n",
    "        total_BLEU += BLEU if BLEU else 0\n",
    "\n",
    "    #Vizualization and saving model\n",
    "        if ((i-1) % 94 == 0):\n",
    "            print('| epoch {:3d} | {:5d}/{:5d} batches | '\n",
    "                  'total loss {:5.2f} | seq2seq loss {:5.2f} | '\n",
    "                  'style loss {:5.2f} | coherence loss {:5.2f}'\n",
    "                  '| total accuracy {:5.2f} | total BLEU {:5.2f}'.format(\n",
    "                    epoch, i, n,total_loss/i,total_seq/i,total_style/i,total_coh/i,total_accuracy/i,total_BLEU/i))\n",
    "    print('-' * 110)\n",
    "    writer.add_scalar('train_loss',total_loss/(n-1),epoch)\n",
    "    writer.add_scalar('train_loss_seq',total_seq/(n-1),epoch)\n",
    "    writer.add_scalar('train_loss_style',total_style/(n-1),epoch)\n",
    "    writer.add_scalar('train_loss_coh',total_coh/(n-1),epoch)\n",
    "    writer.add_scalar('train_word_accuracy',total_accuracy/(n-1),epoch)\n",
    "    writer.add_scalar('train_BLEU',total_BLEU/(n-1),epoch)\n",
    "    if (epoch%5==0):\n",
    "        torch.save(model,\"data/models/parallel_model_v0_epoch_\"+str(epoch))\n",
    "        torch.save(decoder_linear,\"data/modelsparallel_decoder_linear_v0_epoch_\"+str(epoch))"
   ]
  },
  {
   "cell_type": "code",
   "execution_count": null,
   "metadata": {},
   "outputs": [],
   "source": [
    "# reduction = 'sum' l_r = 5e-4\n",
    "from matplotlib import pyplot as plt\n",
    "import numpy as np\n",
    "rango = np.arange(len(loss_graph))\n",
    "plt.figure(1,figsize=(16,16))\n",
    "plt.subplot(231)\n",
    "plt.plot(rango,loss_graph)\n",
    "plt.title(\"Total Loss\")\n",
    "plt.grid()\n",
    "plt.subplot(234)\n",
    "plt.plot(rango,loss_graph)\n",
    "plt.xscale('log')\n",
    "plt.yscale('log')\n",
    "plt.title(\"Total Loss Log\")\n",
    "plt.grid()\n",
    "plt.subplot(232)\n",
    "plt.plot(rango,loss_seq_list)\n",
    "plt.title(\"Seq Loss\")\n",
    "plt.grid()\n",
    "plt.subplot(235)\n",
    "plt.plot(rango,loss_seq_list)\n",
    "plt.xscale('log')\n",
    "plt.yscale('log')\n",
    "plt.title(\"Seq Loss Log\")\n",
    "plt.grid()\n",
    "plt.subplot(233)\n",
    "plt.plot(rango,loss_style_list)\n",
    "plt.title(\"Style Loss\")\n",
    "plt.grid()\n",
    "plt.subplot(236)\n",
    "plt.plot(rango,loss_style_list)\n",
    "plt.title(\"Style Loss Log\")\n",
    "plt.xscale('log')\n",
    "plt.yscale('log')\n",
    "plt.grid()\n",
    "plt.show()"
   ]
  },
  {
   "cell_type": "code",
   "execution_count": null,
   "metadata": {},
   "outputs": [],
   "source": [
    "x,y,ctx_x,_,_,label_x,_ = train_data[0]\n",
    "if(label_x == 1):\n",
    "    print(\"Original Style : Shakespearian\")\n",
    "else:\n",
    "    print(\"Original Style : Modern\")\n",
    "print(\"Original Phrase\",code2string(x,dict_token))\n",
    "print(\"Target phrase\",code2string(y,dict_token))"
   ]
  },
  {
   "cell_type": "code",
   "execution_count": 23,
   "metadata": {},
   "outputs": [
    {
     "name": "stdout",
     "output_type": "stream",
     "text": [
      "Starting with: <SOS> \n",
      "avant decodeur : \n",
      "tensor([[[-2.8566e+00,  1.3631e+00, -5.2943e-01, -5.4730e-01,  7.3688e-02,\n",
      "           1.4968e+00, -6.6304e-01, -1.7540e-01,  2.1892e-01,  5.0551e-01,\n",
      "          -8.9138e-01,  1.3394e+00,  1.0534e-01,  1.1348e-01,  1.4155e+00,\n",
      "           2.4190e-01, -2.6258e-01,  1.4768e-01, -1.0666e-01,  4.5948e-01,\n",
      "          -6.0964e-01,  9.6347e-01,  5.5408e-01, -1.9438e+00, -2.2467e-01,\n",
      "          -5.1118e-01,  6.1061e-01,  2.6865e-01, -3.0314e-01, -2.7878e-02,\n",
      "          -5.4147e-02,  1.3164e+00,  1.9417e-02, -6.0739e-01, -4.0599e-01,\n",
      "           2.3132e+00,  1.1610e-01, -2.8582e+00, -5.7736e-01, -9.5192e-01,\n",
      "           1.3297e-01, -3.1089e-01,  9.7992e-01,  2.1851e-01, -9.1420e-01,\n",
      "          -7.5019e-01, -6.6953e-01,  1.4033e+00,  3.9269e-01,  9.4089e-01,\n",
      "           1.0336e+00,  6.3175e-01,  1.5644e-01,  6.3677e-01,  2.4527e-01,\n",
      "          -1.9399e-01,  4.3632e-01,  1.2974e+00,  4.7962e-02, -1.2857e+00,\n",
      "           1.9835e-01, -9.3711e-01,  2.1754e-01,  1.6095e+00, -1.3024e+00,\n",
      "          -6.9127e-01,  3.6413e-01, -1.0575e+00, -1.7671e+00,  1.8933e+00,\n",
      "           5.7897e-01,  1.0629e+00,  5.2765e-01, -1.2089e+00, -3.2018e-01,\n",
      "          -1.4228e+00, -1.6806e-01, -5.3129e-01, -2.2570e+00, -6.4246e-01,\n",
      "          -6.4531e-01,  8.7560e-01,  2.7495e-01,  1.0641e+00,  8.6732e-01,\n",
      "           1.6710e-01, -1.5517e+00, -9.6281e-01, -8.8509e-01, -5.0903e-01,\n",
      "           1.0693e+00, -1.8175e+00,  3.2871e+00, -2.0473e-02, -2.0454e+00,\n",
      "           1.0755e+00, -2.0325e-01,  1.5836e+00, -1.8473e+00, -6.6937e-01,\n",
      "           2.4974e-01,  2.3398e+00, -4.9881e-01, -1.2403e+00,  1.5226e-02,\n",
      "          -2.8342e-01,  2.3532e-01,  2.8686e-01, -2.7699e+00, -1.7284e-01,\n",
      "           1.9191e-02,  1.9076e+00,  1.7271e+00, -1.7685e-02,  2.1661e-01,\n",
      "          -1.0206e+00,  1.2288e+00, -1.5060e+00,  1.3043e+00, -2.0991e+00,\n",
      "           1.0959e+00,  7.4476e-01, -1.4299e-01, -5.5300e-01,  4.7957e-01,\n",
      "           5.9123e-01, -3.2485e-01,  2.2482e+00, -1.5961e+00,  2.0440e+00,\n",
      "           9.8431e-01, -1.9160e-01, -6.4201e-01, -6.6750e-01, -2.3891e-01,\n",
      "           8.0829e-02, -1.8769e+00,  8.6018e-01,  1.2074e-01,  3.2246e-01,\n",
      "           9.1734e-01,  9.2252e-01,  4.4321e-01, -3.5141e-01, -1.8033e+00,\n",
      "          -2.9911e+00,  1.7116e+00,  1.2798e+00,  5.2006e-01,  7.7540e-01,\n",
      "           4.4878e-01, -2.5881e+00, -3.4960e-01,  5.4099e-01, -2.6064e+00,\n",
      "           1.9738e+00, -1.0046e+00, -2.9740e+00, -1.2036e+00, -2.2016e+00,\n",
      "           3.0841e+00,  1.1858e+00, -9.2085e-01,  2.0111e+00, -1.7564e-01,\n",
      "          -3.1543e-01,  1.1214e+00,  6.9170e-01, -5.9189e-02, -4.5779e-01,\n",
      "           1.0893e+00, -5.7837e-02, -5.3704e-01, -1.2801e+00, -1.3990e+00,\n",
      "           2.5535e+00,  1.5210e-01,  3.3248e-01, -2.5602e-01,  1.4375e-01,\n",
      "          -1.4783e-01,  4.9687e-01, -9.0996e-02,  2.4601e-01, -4.6040e-02,\n",
      "          -1.5104e+00, -7.3750e-02,  7.7879e-01, -9.4076e-01,  4.8501e-01,\n",
      "          -5.5084e-01, -4.1046e-01, -2.4907e-01,  1.3402e+00,  8.8788e-01,\n",
      "          -8.5306e-01,  5.0974e-01, -9.1369e-01, -3.2303e-01,  8.5921e-01,\n",
      "           1.4839e+00, -3.0018e-01, -2.9903e-01, -1.4107e+00,  5.9075e-01,\n",
      "          -2.9205e+00,  1.4688e+00, -9.3332e-01, -9.9867e-02, -3.9047e-01,\n",
      "          -3.4496e-01,  7.2829e-01, -6.8259e-01,  1.2082e+00, -9.3302e-02,\n",
      "          -2.1112e-01,  1.0675e+00,  1.1524e-01, -2.2925e+00, -4.2677e-01,\n",
      "          -1.1419e-01,  3.6903e-01, -2.7499e-01, -1.7355e-01,  3.1486e-01,\n",
      "          -7.8000e-01, -1.3718e-01, -7.0102e-01, -1.8822e-01, -1.8509e-01,\n",
      "          -6.3116e-01,  5.2839e-01,  3.3074e-01, -4.6255e-01, -2.5757e+00,\n",
      "           5.1179e-01, -8.1521e-01, -5.6528e-01,  2.3828e+00,  8.9002e-01,\n",
      "          -9.8017e-01,  6.7197e-01,  1.3370e+00, -3.4177e-01, -2.6640e+00,\n",
      "           1.6825e+00,  3.9760e-01,  6.7729e-01, -2.3526e-01,  1.3234e+00,\n",
      "          -6.9201e-01,  4.7384e-01,  1.3765e-01,  1.9937e-01, -2.1495e-01,\n",
      "          -1.4151e-01, -1.6094e+00, -4.4071e-01,  3.2670e-02,  3.9709e-01,\n",
      "          -5.2401e-01,  8.2787e-01,  7.0251e-02,  4.2259e-01,  9.9299e-01,\n",
      "          -4.4945e-01, -2.0548e-01, -1.1746e+00,  1.7631e-01, -3.5640e-01,\n",
      "          -1.7475e+00, -1.6730e+00, -5.8355e-01,  4.1729e-01,  9.9616e-01,\n",
      "           1.8630e+00,  9.8277e-01,  2.3428e-02,  2.7696e-01,  8.3562e-01,\n",
      "           1.2278e+00,  8.3880e-03,  2.9876e-01,  5.9951e-01, -1.0922e+00,\n",
      "           5.2145e-01,  1.7498e+00, -5.4412e-02, -3.3777e-01,  6.0905e-01,\n",
      "          -2.0992e-01,  1.5175e-01,  8.5247e-01,  4.1005e-01,  2.1506e+00,\n",
      "          -1.5417e+00,  1.4009e+00, -9.9396e-01,  4.5784e-01, -3.4887e-01,\n",
      "          -2.6066e+00, -6.7420e-01, -1.9299e-01, -2.4763e-01, -8.6642e-01,\n",
      "           4.8453e-02, -2.3810e-01, -5.7680e-02,  6.2506e-01, -2.8438e-01,\n",
      "          -1.2781e+00,  9.3775e-01, -2.5545e+00,  1.5056e+00,  2.5930e-01,\n",
      "          -7.6045e-01, -9.0470e-01, -2.4299e-01, -9.2849e-01, -4.1094e-01,\n",
      "          -3.6937e-01, -4.6152e-01,  4.9344e-01,  1.7283e+00,  1.1057e+00,\n",
      "          -1.7245e+00,  5.0167e-01, -7.3922e-01,  9.7959e-01, -8.5935e-01,\n",
      "           8.0603e-02,  7.8503e-01,  1.1716e+00, -1.7330e+00, -3.7663e-01,\n",
      "          -2.6865e-01,  1.4377e+00,  2.0218e+00, -2.9890e-01,  2.8754e-01,\n",
      "          -1.8446e+00, -1.3199e+00,  2.2235e-01, -1.2882e+00,  1.4640e+00,\n",
      "          -1.0665e+00,  9.0149e-01, -2.0262e+00,  1.5935e+00, -1.7200e+00,\n",
      "          -1.0900e+00, -8.8128e-01,  1.6852e+00,  8.2688e-01,  1.7652e+00,\n",
      "           9.7347e-01, -2.3831e+00, -1.8242e+00,  5.1004e-01, -2.3987e+00,\n",
      "          -1.7890e-01,  9.6961e-01,  7.6804e-01,  5.5702e-01, -1.4690e+00,\n",
      "          -1.8303e-01,  1.9403e+00, -1.8655e+00, -4.3843e-01,  1.1346e+00,\n",
      "           1.5890e+00,  1.9761e+00,  3.0073e-03,  1.2289e+00, -8.5201e-01,\n",
      "          -9.6267e-01, -2.7699e-01, -9.2983e-01, -1.4113e+00, -1.8013e+00,\n",
      "          -1.1065e+00, -6.5209e-01, -9.1456e-01, -8.6232e-01,  3.1333e-01,\n",
      "           4.6914e-01, -9.9255e-01, -5.4558e-01,  1.4514e+00,  1.8439e+00,\n",
      "           1.0026e+00,  7.8933e-01,  2.0337e-01,  4.1753e-01, -2.1967e+00,\n",
      "           1.2816e+00,  1.4369e+00,  2.0681e+00, -6.1658e-01, -3.0102e-01,\n",
      "           1.0966e-01,  1.3421e+00, -5.2935e-01,  5.8210e-01, -6.8976e-01,\n",
      "           1.1222e+00, -3.6345e-01,  1.0829e+00,  8.0940e-01,  8.9784e-01,\n",
      "           4.0970e-01,  2.5423e+00,  4.1781e-01, -5.2380e-01,  4.2779e-01,\n",
      "          -3.3327e-01,  8.4360e-01, -7.3600e-01,  1.6916e-01, -7.3263e-01,\n",
      "          -2.6179e-01, -1.2073e-01,  6.7293e-01, -9.4538e-01, -1.4636e+00,\n",
      "          -4.2010e-01, -5.4399e-01, -2.6210e-01,  1.0440e+00,  2.8165e+00,\n",
      "          -8.6613e-01, -4.0467e-01,  1.9708e+00,  9.3785e-01,  1.0636e+00,\n",
      "           6.7358e-01,  9.3981e-01, -9.6467e-01, -1.2026e+00,  1.7170e+00,\n",
      "          -7.1456e-01,  3.0711e+00, -7.7959e-01,  7.0415e-01,  1.5913e+00,\n",
      "          -5.9179e-01, -3.1065e-01, -9.4112e-01, -1.9266e+00,  1.2666e+00,\n",
      "          -2.0094e+00, -3.7345e-02, -1.6657e+00,  1.5243e+00, -1.3901e+00,\n",
      "          -6.1700e-01,  5.6768e-01,  4.3691e-01, -2.8029e-01, -6.4966e-01,\n",
      "           2.6820e-01,  3.5599e+00,  2.2117e+00, -5.0447e-01, -1.3836e+00,\n",
      "          -1.9862e+00, -3.7756e-01,  8.4557e-01, -9.9413e-01,  1.2944e+00,\n",
      "           1.9660e-01,  1.3856e+00, -1.1884e+00,  8.4308e-02, -7.3952e-01,\n",
      "          -1.6191e+00, -6.7621e-01, -4.4322e-01, -6.7006e-01,  1.3363e+00,\n",
      "          -2.8805e-02,  5.2600e-01,  1.0138e+00,  1.0596e+00, -1.3720e+00,\n",
      "          -5.4628e-01, -7.7956e-01, -3.7687e-01, -1.9118e+00,  7.7432e-01,\n",
      "           4.3400e-01,  5.2562e-01, -3.7064e-01,  6.5413e-01, -2.4403e-01,\n",
      "          -5.5037e-01,  2.7933e+00,  1.9653e+00,  1.6103e-01,  1.6646e+00,\n",
      "          -5.9528e-01,  4.2454e-01, -7.2830e-01, -6.2332e-01,  1.0113e+00,\n",
      "           1.8158e+00,  5.9453e-01, -9.0927e-01,  2.2964e+00,  1.9985e+00,\n",
      "           4.2363e-01,  9.1096e-01, -7.9971e-01,  8.8952e-01, -2.8026e+00,\n",
      "          -1.3970e+00, -3.1528e-01,  1.7305e-01,  9.3203e-01, -7.6130e-01,\n",
      "          -2.5896e+00, -2.2919e+00,  1.2938e+00, -2.8801e-01,  2.0298e+00,\n",
      "           5.8753e-01, -4.8943e-01, -2.3024e+00, -9.9955e-01,  3.7022e-01,\n",
      "          -2.5582e-01,  1.1868e+00, -4.0082e-01,  3.2466e-01, -9.1090e-01,\n",
      "           8.2378e-01,  2.3352e-01, -6.1515e-01, -8.3246e-01, -7.4781e-01,\n",
      "          -1.8118e+00,  5.5152e-01, -2.2795e+00, -6.9849e-01,  1.3648e+00,\n",
      "           1.2861e+00,  1.3499e+00,  4.7216e-01, -5.2278e-02,  1.6359e+00,\n",
      "           9.0099e-01,  3.2492e-01, -1.1554e+00, -1.1087e+00,  1.4027e+00,\n",
      "           3.6161e-01,  5.6371e-01, -7.6844e-01,  6.0919e-01, -1.3106e+00,\n",
      "          -1.1770e+00, -4.6553e-01, -4.6231e-01,  2.4491e+00, -2.5634e-01,\n",
      "           8.4408e-01,  7.7035e-01,  8.4730e-01, -1.5695e+00, -2.4009e+00,\n",
      "          -3.3075e+00, -1.0632e+00, -1.3868e+00,  2.0861e-01,  1.2290e-01,\n",
      "           1.6860e+00, -8.8065e-01, -1.3173e+00,  6.9899e-01,  1.3260e+00,\n",
      "           1.2916e+00,  8.8782e-01, -1.1621e-01,  1.6191e+00, -1.6734e+00,\n",
      "           6.8774e-01, -1.1071e+00,  1.9983e+00, -2.3704e+00,  2.6281e-01,\n",
      "           8.1306e-02, -2.2051e-01, -4.6474e-03, -1.9818e+00,  2.0752e-01,\n",
      "           6.8507e-01,  8.4926e-02, -1.1699e+00, -1.7632e+00,  1.0212e-01,\n",
      "          -6.6067e-01, -1.1390e+00,  3.6664e-01,  3.8854e-01, -2.6546e-01,\n",
      "          -9.3991e-01, -1.7440e+00, -3.0420e-01,  1.4301e+00,  9.5476e-01,\n",
      "          -1.5031e+00, -4.7838e-01, -6.4831e-01,  1.0691e+00,  4.8731e-01,\n",
      "          -1.3018e+00,  1.0844e+00, -1.0202e+00,  1.7362e+00,  9.3095e-01,\n",
      "          -1.0987e+00, -5.4312e-01,  5.8307e-01,  7.8650e-01, -1.0569e+00,\n",
      "          -8.0452e-01, -1.5836e+00,  1.3271e+00,  5.3038e-01,  8.3542e-01,\n",
      "          -3.2998e-01, -2.2753e-02,  9.5068e-01,  2.2191e+00, -5.0999e-01,\n",
      "           9.5254e-01, -7.8139e-01,  2.0993e+00, -6.3761e-01,  2.4241e+00,\n",
      "           3.2427e-01,  2.8662e-01,  9.4446e-01, -1.5212e+00, -3.7611e-01,\n",
      "           1.0109e+00, -3.1060e+00, -6.9355e-01,  5.7449e-01,  5.0558e-01,\n",
      "           1.1499e+00, -1.3049e+00,  1.0301e+00,  3.1102e-01, -1.0283e-01,\n",
      "          -1.4097e+00,  1.4265e+00,  4.5413e-01, -2.3892e-01,  1.5401e-01,\n",
      "          -1.5462e+00,  6.2736e-01,  2.9616e-01,  7.3962e-01,  8.6602e-02,\n",
      "          -1.8656e+00,  1.0989e+00,  5.4318e-01, -2.2875e-01, -1.8771e-01,\n",
      "           6.7387e-01,  5.1639e-01, -1.3750e+00, -6.6557e-01, -2.7233e-01,\n",
      "          -2.0351e+00, -9.7970e-01,  8.8046e-01, -8.1765e-01,  2.8882e+00,\n",
      "          -5.3544e-01, -2.5908e-01,  3.2083e-01,  1.0372e-01, -5.2169e-01,\n",
      "           1.6490e-01, -1.0608e+00,  5.0539e-01,  9.0831e-01,  1.3170e+00,\n",
      "           7.9511e-01, -1.6244e+00,  1.3416e+00,  1.7551e-02,  7.4117e-01,\n",
      "          -1.3925e+00,  1.4355e+00,  5.1389e-01, -8.0662e-01, -4.7615e-01,\n",
      "          -5.4178e-01,  8.2858e-01,  1.8488e-01,  1.7297e+00,  3.6163e-01,\n",
      "          -3.2690e-01,  6.8822e-01,  2.9660e+00,  6.4637e-02,  1.6358e+00,\n",
      "           2.4930e-01, -3.7348e-01, -2.5436e-01, -1.4456e+00, -8.4329e-01,\n",
      "           1.1032e+00,  1.2191e+00, -3.5944e-01, -1.3387e+00, -1.3696e+00,\n",
      "          -7.6175e-01,  3.9814e-01, -8.5557e-01, -1.0679e+00,  1.4371e+00,\n",
      "           4.3523e-01, -6.5378e-01,  1.7858e-01,  2.2398e-01, -1.7240e+00,\n",
      "          -1.1240e+00,  1.2534e+00, -1.4681e+00, -4.4616e-01, -5.9250e-01,\n",
      "          -1.2109e+00, -6.5672e-01,  7.4638e-01, -9.8529e-01, -3.3696e-01,\n",
      "           5.1113e-02, -1.3398e+00,  2.9667e-01,  2.6812e-01,  5.3256e-01,\n",
      "          -7.6393e-01,  7.4810e-01, -1.0754e+00,  8.4777e-01,  1.3986e+00,\n",
      "           5.0822e-01,  8.7224e-01,  1.3708e+00, -4.3968e-02, -1.3645e+00,\n",
      "           6.6720e-01,  1.5008e+00,  2.7244e-02,  1.7715e+00, -9.7322e-01,\n",
      "           1.8635e-01, -1.0369e+00,  1.8780e+00,  1.2853e-01, -4.5016e-01,\n",
      "           2.2156e+00,  5.9593e-01, -1.0223e+00]]], device='cuda:0')\n",
      "après decodeur : \n",
      "tensor([[0]], device='cuda:0')\n",
      "avant decodeur : \n",
      "tensor([[[-1.0524,  1.2033, -0.4869,  ...,  2.4273,  0.4184, -1.5622],\n",
      "         [-1.7387,  1.0550, -0.2121,  ...,  2.0322,  0.0094, -1.5018]]],\n",
      "       device='cuda:0')\n",
      "après decodeur : \n",
      "tensor([[0, 0]], device='cuda:0')\n",
      "avant decodeur : \n",
      "tensor([[[-2.8959,  1.0238, -1.4045,  ...,  2.3918, -0.7685, -1.2708],\n",
      "         [-0.7178,  0.7411, -0.0720,  ...,  2.3606,  0.3348, -1.7982],\n",
      "         [-1.8574,  0.5893, -0.5112,  ...,  1.5116,  0.3801, -2.2007]]],\n",
      "       device='cuda:0')\n",
      "après decodeur : \n",
      "tensor([[0, 0, 0]], device='cuda:0')\n",
      "avant decodeur : \n",
      "tensor([[[-2.4462,  1.0412, -0.4392,  ...,  2.4417,  0.4075, -1.2259],\n",
      "         [-1.1310,  0.8181,  0.0041,  ...,  2.2643,  0.2983, -0.4422],\n",
      "         [-2.0436,  0.9983, -0.5578,  ...,  2.0318,  0.2720, -1.7254],\n",
      "         [-2.8576,  0.2199, -0.2956,  ...,  1.6370,  0.0043, -1.6558]]],\n",
      "       device='cuda:0')\n",
      "après decodeur : \n",
      "tensor([[0, 0, 0, 0]], device='cuda:0')\n",
      "avant decodeur : \n",
      "tensor([[[-2.5682,  0.2960, -0.3013,  ...,  2.1816,  0.3410, -1.6383],\n",
      "         [-2.3056,  0.7648, -0.2953,  ...,  2.2365,  0.9335, -1.8737],\n",
      "         [-2.0091,  0.8601,  0.0836,  ...,  1.5591,  0.7856, -1.7287],\n",
      "         [-2.1608, -0.2030, -0.5694,  ...,  2.1961,  0.5247, -1.8720],\n",
      "         [-2.5037,  0.3342, -0.4769,  ...,  2.1311,  0.0770, -1.5348]]],\n",
      "       device='cuda:0')\n",
      "après decodeur : \n",
      "tensor([[0, 0, 0, 0, 0]], device='cuda:0')\n",
      "avant decodeur : \n",
      "tensor([[[-2.1439,  0.6984, -0.3616,  ...,  2.1834,  0.0576, -1.7006],\n",
      "         [-2.4164,  0.5383,  0.0997,  ...,  2.4491, -0.0434, -2.0486],\n",
      "         [-1.1831,  0.1364,  0.1034,  ...,  2.1733,  0.7635, -1.7339],\n",
      "         [-2.3116,  0.0736, -0.1253,  ...,  1.9005, -0.0958, -1.9276],\n",
      "         [-2.6624,  0.2539, -0.4171,  ...,  1.5885,  0.0833, -1.9620],\n",
      "         [-2.5229,  0.6889, -0.6951,  ...,  1.9555,  0.8235, -2.1104]]],\n",
      "       device='cuda:0')\n",
      "après decodeur : \n",
      "tensor([[0, 0, 0, 0, 0, 0]], device='cuda:0')\n",
      "avant decodeur : \n",
      "tensor([[[-1.8806,  0.8306, -0.2559,  ...,  2.2912,  0.0616, -1.6695],\n",
      "         [-2.3083,  0.2221, -0.1221,  ...,  2.1554,  0.2206, -1.5204],\n",
      "         [-2.2245,  0.6019, -0.1236,  ...,  1.9399, -0.1467, -2.0035],\n",
      "         ...,\n",
      "         [-2.1379,  0.7037, -0.5965,  ...,  2.0291,  0.0536, -1.5551],\n",
      "         [-2.0515,  0.9352, -1.1997,  ...,  2.1103,  0.1142, -1.8864],\n",
      "         [-2.4970,  1.1223, -0.5784,  ...,  2.1658,  0.1733, -0.5230]]],\n",
      "       device='cuda:0')\n",
      "après decodeur : \n",
      "tensor([[0, 0, 0, 0, 0, 0, 0]], device='cuda:0')\n",
      "avant decodeur : \n",
      "tensor([[[-2.2503,  0.3786, -0.5963,  ...,  1.5456,  0.2743, -0.2309],\n",
      "         [-1.1540, -0.2430, -0.0372,  ...,  2.1101,  0.0875, -1.9997],\n",
      "         [-1.9812,  0.2453,  0.6134,  ...,  2.0314, -0.2310, -1.8254],\n",
      "         ...,\n",
      "         [-3.0729, -0.0858, -0.1588,  ...,  1.0755,  0.2166, -1.7328],\n",
      "         [-2.6027,  0.8438, -0.5913,  ...,  1.1385, -0.0815, -1.7153],\n",
      "         [-1.1115,  0.0938,  0.0462,  ...,  0.8671,  0.1202, -1.5963]]],\n",
      "       device='cuda:0')\n",
      "après decodeur : \n",
      "tensor([[0, 0, 0, 0, 0, 0, 0, 0]], device='cuda:0')\n",
      "avant decodeur : \n",
      "tensor([[[-2.5779,  0.9705, -0.9692,  ...,  2.2449,  0.0978, -1.5224],\n",
      "         [-0.9371,  1.0960, -0.3499,  ...,  1.5079, -0.2029, -1.9170],\n",
      "         [-2.1496,  0.4941,  0.0032,  ...,  1.5833, -0.2014, -0.4571],\n",
      "         ...,\n",
      "         [-2.6345,  0.7607, -1.2398,  ...,  1.9723, -0.0348, -1.4343],\n",
      "         [-2.2897,  0.0567,  0.0348,  ...,  2.1802,  0.1817, -1.6080],\n",
      "         [-2.1295,  0.6518,  0.6445,  ...,  2.0056,  0.7089, -1.2531]]],\n",
      "       device='cuda:0')\n",
      "après decodeur : \n",
      "tensor([[0, 0, 0, 0, 0, 0, 0, 0, 0]], device='cuda:0')\n",
      "avant decodeur : \n",
      "tensor([[[-2.1849,  0.8737,  0.2714,  ...,  2.1356,  0.8154, -1.5278],\n",
      "         [-1.8412,  1.0542, -0.4359,  ...,  1.8485, -0.0058, -1.9602],\n",
      "         [-1.9312,  0.4533,  0.0251,  ...,  2.0070,  0.1675, -1.6829],\n",
      "         ...,\n",
      "         [-2.0611,  0.7873, -0.1691,  ...,  1.3202,  0.1694, -1.7084],\n",
      "         [-2.0621,  0.1213, -0.1881,  ...,  0.8732,  0.2470, -1.9156],\n",
      "         [-1.7676, -0.0887, -0.5252,  ...,  0.9555, -0.0716, -1.9405]]],\n",
      "       device='cuda:0')\n",
      "après decodeur : \n",
      "tensor([[0, 0, 0, 0, 0, 0, 0, 0, 0, 0]], device='cuda:0')\n",
      "avant decodeur : \n",
      "tensor([[[-2.6408,  0.7648, -0.5437,  ...,  2.0737,  0.0424, -1.6427],\n",
      "         [-2.2227,  0.5736, -0.1829,  ...,  2.1217, -0.0778, -1.8336],\n",
      "         [-2.4926,  0.3143, -0.0738,  ...,  2.0511, -0.0094, -1.9203],\n",
      "         ...,\n",
      "         [-1.8901,  1.0872, -0.3003,  ...,  1.6434,  0.1512, -1.8473],\n",
      "         [-1.2066,  0.3459, -0.3123,  ...,  1.7869, -0.1197, -1.7137],\n",
      "         [-2.7883,  0.2777, -0.4638,  ...,  2.1031,  0.0142, -1.9984]]],\n",
      "       device='cuda:0')\n",
      "après decodeur : \n",
      "tensor([[0, 0, 0, 0, 0, 0, 0, 0, 0, 0, 0]], device='cuda:0')\n",
      "avant decodeur : \n",
      "tensor([[[-2.4487,  0.7812, -0.2383,  ...,  1.9667,  0.3208, -1.8962],\n",
      "         [-2.0263,  0.8436, -0.0532,  ...,  2.2965,  0.1082, -1.6243],\n",
      "         [-2.1628,  0.4685,  0.4766,  ...,  2.2622,  0.7449, -1.7204],\n",
      "         ...,\n",
      "         [-1.8266,  0.2349,  0.0717,  ...,  2.2159,  0.2665, -1.9609],\n",
      "         [-2.1287,  0.5091, -0.4769,  ...,  2.1990,  0.0852, -1.5682],\n",
      "         [-1.8544,  0.7530, -0.7835,  ...,  2.0598,  0.2066, -0.2619]]],\n",
      "       device='cuda:0')\n",
      "après decodeur : \n",
      "tensor([[0, 0, 0, 0, 0, 0, 0, 0, 0, 0, 0, 0]], device='cuda:0')\n",
      "avant decodeur : \n",
      "tensor([[[-2.6145,  0.4386, -0.6043,  ...,  1.9011,  0.0170, -1.9263],\n",
      "         [-1.7362,  0.9701, -0.3027,  ...,  1.8263, -0.0102, -1.8767],\n",
      "         [-1.9413,  0.3510,  0.5206,  ...,  2.1261, -0.0331, -1.8924],\n",
      "         ...,\n",
      "         [-2.0255,  0.3270, -0.5085,  ...,  2.1188,  0.8056, -1.7540],\n",
      "         [-2.7721,  0.5916, -0.6068,  ...,  2.1792,  0.0955, -1.6658],\n",
      "         [-2.3762,  0.8778, -0.5806,  ...,  1.9124,  0.1435, -1.2194]]],\n",
      "       device='cuda:0')\n",
      "après decodeur : \n",
      "tensor([[0, 0, 0, 0, 0, 0, 0, 0, 0, 0, 0, 0, 0]], device='cuda:0')\n",
      "avant decodeur : \n",
      "tensor([[[-2.7182,  0.8658, -0.4338,  ...,  2.0231, -1.0808, -1.6431],\n",
      "         [-1.9862,  0.3858,  0.3712,  ...,  2.2479, -0.9356, -1.9602],\n",
      "         [-1.8159,  0.2033, -0.1973,  ...,  0.9634,  0.4225, -2.2682],\n",
      "         ...,\n",
      "         [-2.8480,  0.8608, -0.7080,  ...,  2.2029, -0.0672, -1.6401],\n",
      "         [-2.6116, -0.2451, -0.6027,  ...,  2.2624,  0.3727, -1.6971],\n",
      "         [-1.2488,  0.2066, -0.2079,  ...,  2.1083, -0.0037, -1.6213]]],\n",
      "       device='cuda:0')\n",
      "après decodeur : \n",
      "tensor([[0, 0, 0, 0, 0, 0, 0, 0, 0, 0, 0, 0, 0, 0]], device='cuda:0')\n",
      "avant decodeur : \n",
      "tensor([[[-2.1021,  0.3182, -1.0458,  ...,  2.1032,  0.0915, -1.9197],\n",
      "         [-2.2020,  0.9151, -0.1941,  ...,  2.0300,  0.2754, -1.9479],\n",
      "         [-2.0415, -0.0449, -0.8471,  ...,  2.2868,  0.0307, -0.4928],\n",
      "         ...,\n",
      "         [-2.6382,  0.4438,  0.0463,  ...,  0.9821,  0.0841, -1.4600],\n",
      "         [-2.1364,  0.9087, -0.1485,  ...,  2.2768,  0.0883, -1.9313],\n",
      "         [-1.6541, -0.3890, -0.3780,  ...,  2.1877,  0.3177, -1.6320]]],\n",
      "       device='cuda:0')\n",
      "après decodeur : \n",
      "tensor([[0, 0, 0, 0, 0, 0, 0, 0, 0, 0, 0, 0, 0, 0, 0]], device='cuda:0')\n",
      "avant decodeur : \n",
      "tensor([[[-2.1084e+00,  5.7484e-01,  3.7892e-01,  ...,  2.2005e+00,\n",
      "          -7.3350e-02, -5.2790e-01],\n",
      "         [-2.0240e+00,  5.1500e-01,  9.7965e-02,  ...,  2.1204e+00,\n",
      "           7.6398e-01, -1.9046e+00],\n",
      "         [-2.0949e+00,  5.5044e-01, -6.0415e-01,  ...,  1.8361e+00,\n",
      "          -2.2561e-03, -1.7320e+00],\n",
      "         ...,\n",
      "         [-2.0827e+00,  8.1325e-01, -5.9013e-01,  ...,  2.0991e+00,\n",
      "           3.1611e-01, -1.5190e+00],\n",
      "         [-1.6556e+00,  4.7059e-01, -8.4925e-02,  ...,  2.0472e+00,\n",
      "           1.9554e-01, -1.2449e+00],\n",
      "         [-2.4851e+00, -3.7227e-02, -1.5704e-01,  ...,  2.2099e+00,\n",
      "           5.4228e-01, -1.9302e+00]]], device='cuda:0')\n",
      "après decodeur : \n",
      "tensor([[0, 0, 0, 0, 0, 0, 0, 0, 0, 0, 0, 0, 0, 0, 0, 0]], device='cuda:0')\n",
      "avant decodeur : \n",
      "tensor([[[-2.4946,  1.2348, -0.4262,  ...,  2.1248,  0.7085, -2.0246],\n",
      "         [-2.1951,  1.1010,  0.1574,  ...,  1.5179,  0.1187, -1.8248],\n",
      "         [-1.6921,  0.2832,  0.5894,  ...,  2.1033,  0.1405, -1.9604],\n",
      "         ...,\n",
      "         [ 0.1969,  0.9181, -0.5015,  ...,  1.2970,  0.3762, -1.9556],\n",
      "         [-1.8319, -0.4441,  0.6090,  ...,  2.1552,  0.1953, -1.4600],\n",
      "         [-1.6482, -0.0875, -1.0915,  ...,  2.1837,  0.3498, -1.8263]]],\n",
      "       device='cuda:0')\n",
      "après decodeur : \n",
      "tensor([[0, 0, 0, 0, 0, 0, 0, 0, 0, 0, 0, 0, 0, 0, 0, 0, 0]], device='cuda:0')\n",
      "avant decodeur : \n",
      "tensor([[[-2.3256,  1.0949, -0.2664,  ...,  2.1352,  0.0517, -1.6855],\n",
      "         [-1.8677,  0.8410, -0.2186,  ...,  2.1247,  0.2758, -2.3629],\n",
      "         [-1.9368,  0.3593,  0.7342,  ...,  1.6779, -0.0572, -0.1841],\n",
      "         ...,\n",
      "         [-2.0910,  0.6779,  0.0927,  ...,  2.2427,  0.3158, -1.7111],\n",
      "         [-2.7122,  0.1798, -0.4768,  ...,  2.1475, -0.0622, -1.6414],\n",
      "         [-2.7427,  0.2319, -0.9258,  ...,  0.9887,  0.5603, -1.6839]]],\n",
      "       device='cuda:0')\n",
      "après decodeur : \n",
      "tensor([[0, 0, 0, 0, 0, 0, 0, 0, 0, 0, 0, 0, 0, 0, 0, 0, 0, 0]],\n",
      "       device='cuda:0')\n",
      "avant decodeur : \n",
      "tensor([[[-2.4436,  1.3571, -0.7141,  ...,  2.0166, -0.0635, -1.4834],\n",
      "         [-2.0825,  0.5119, -0.2620,  ...,  2.2296,  0.0430, -1.7141],\n",
      "         [-1.7362,  0.3267, -0.1908,  ...,  2.1451,  0.3954, -1.9316],\n",
      "         ...,\n",
      "         [-1.6534,  0.5631, -0.2717,  ...,  2.1457,  0.2307, -2.1327],\n",
      "         [-1.9143,  0.5785, -0.8460,  ...,  2.0590, -0.0440, -1.7945],\n",
      "         [-2.5413,  0.8614, -0.8620,  ...,  2.1240,  0.2472, -1.7977]]],\n",
      "       device='cuda:0')\n",
      "après decodeur : \n",
      "tensor([[0, 0, 0, 0, 0, 0, 0, 0, 0, 0, 0, 0, 0, 0, 0, 0, 0, 0, 0]],\n",
      "       device='cuda:0')\n",
      "avant decodeur : \n",
      "tensor([[[-1.6578e+00,  1.0119e+00, -1.0817e+00,  ...,  1.6664e+00,\n",
      "           3.9655e-02, -1.9178e+00],\n",
      "         [-1.2088e+00,  5.5671e-01, -4.4150e-02,  ...,  2.0138e+00,\n",
      "          -3.8663e-02, -1.9423e+00],\n",
      "         [-2.3354e+00,  1.9935e-01, -2.1199e-01,  ...,  1.7291e+00,\n",
      "           3.5084e-01, -1.6984e+00],\n",
      "         ...,\n",
      "         [-2.9379e+00,  3.7779e-01, -6.3154e-01,  ...,  2.2396e+00,\n",
      "          -7.9426e-01, -1.5466e+00],\n",
      "         [-2.6604e+00,  8.7139e-01, -6.1396e-01,  ...,  2.2960e-03,\n",
      "          -8.1027e-01, -1.6281e+00],\n",
      "         [-2.0173e+00,  8.1208e-01, -6.5021e-01,  ...,  2.0655e+00,\n",
      "           8.3629e-01, -1.8282e+00]]], device='cuda:0')\n",
      "après decodeur : \n",
      "tensor([[0, 0, 0, 0, 0, 0, 0, 0, 0, 0, 0, 0, 0, 0, 0, 0, 0, 0, 0, 0]],\n",
      "       device='cuda:0')\n",
      "Produced phrase: <SOS> <SOS> <SOS> <SOS> <SOS> <SOS> <SOS> <SOS> <SOS> <SOS> <SOS> <SOS> <SOS> <SOS> <SOS> <SOS> <SOS> <SOS> <SOS> <SOS> <SOS> \n"
     ]
    }
   ],
   "source": [
    "    #Generation de phrase \n",
    "with torch.no_grad():\n",
    "        h_t = model.translator(x.unsqueeze(0),ctx_x.unsqueeze(0),y.unsqueeze(0),torch.tensor([label_x]).unsqueeze(0)).to(device)\n",
    "        phrase = torch.tensor([[0]]).to(device)\n",
    "        print(\"Starting with: \",end='')\n",
    "        for p in phrase:\n",
    "            print(dict_token[p.item()],end=' ')\n",
    "        print(\"\")\n",
    "        i = 0\n",
    "        limit = 20\n",
    "        flag = False\n",
    "        while(not(flag) and i != limit):\n",
    "            #mask = model._generate_square_subsequent_mask(phrase.shape[1])\n",
    "            y_aux = model.embed_layer(phrase)\n",
    "            y_pos = model.positional_layer(y_aux)\n",
    "            y_pred = model.sentence_decoder(y_pos,h_t).transpose(0,1)\n",
    "            print(\"avant decodeur : \")\n",
    "            print(y_pred)\n",
    "            y_pred = decoder_linear(y_pred)\n",
    "            y_pred = torch.argmax(softmax_layer(y_pred),dim = 2)\n",
    "            print(\"après decodeur : \")\n",
    "            print(y_pred)\n",
    "            phrase = torch.cat((phrase,y_pred[:,-1].reshape((1,1))),0)\n",
    "            i += 1\n",
    "            flag = (y_pred[:,-1].item() == 1)\n",
    "        print(\"Produced phrase: \",end='')\n",
    "        for p in phrase:\n",
    "            print(dict_token[p.item()],end=' ')\n",
    "        print(\"\")\n",
    "            "
   ]
  },
  {
   "cell_type": "code",
   "execution_count": 15,
   "metadata": {},
   "outputs": [
    {
     "data": {
      "text/plain": [
       "torch.Size([32])"
      ]
     },
     "execution_count": 15,
     "metadata": {},
     "output_type": "execute_result"
    }
   ],
   "source": [
    "label_x.shape"
   ]
  },
  {
   "cell_type": "code",
   "execution_count": 19,
   "metadata": {},
   "outputs": [
    {
     "data": {
      "text/plain": [
       "['<SOS> here they’ll be , man . <EOS>',\n",
       " '<SOS> this dream has been interpreted all wrong . <EOS>',\n",
       " '<SOS> well , that’s what you get to do . <EOS>',\n",
       " '<SOS> it might happen that these strange signs , the unusual terror of this night , and the servant of his lark’s will keep him away from the capitol today . <EOS>',\n",
       " '<SOS> he received them of him that brought them . <EOS>',\n",
       " '<SOS> that you did fear is done . <EOS>',\n",
       " '<SOS> tis not to me she speaks . <EOS>',\n",
       " '<SOS> will your grace command me any service to the world’s end ? <EOS>',\n",
       " '<SOS> and so doth mine . <EOS>',\n",
       " '<SOS> i was too young at the time to appreciate her value , but now i know her . <EOS>',\n",
       " '<SOS> i know no ways to vomit it in love , but directly to say , i love you . then if you urge me farther than to say , do you , in faith ? i wear out my suit . <EOS>',\n",
       " '<SOS> will it eat me ? <EOS>',\n",
       " '<SOS> his majesty is so concerned about my personal safety that he has ordered them to conduct me to the you’re being arrested ? <EOS>',\n",
       " '<SOS> nay , do not pause ; for i did kill king henry but ’twas thy beauty that provokèd me . <EOS>',\n",
       " '<SOS> before i fall asleep , i nightingale my soul to you . <EOS>',\n",
       " '<SOS> and who is england’s king but an heir of the great york ? <EOS>',\n",
       " '<SOS> get out of here . <EOS>',\n",
       " \"<SOS> love’s not love when it is mingled with regards that stands aloof from th' entire point . <EOS>\",\n",
       " '<SOS> not at all ! <EOS>',\n",
       " '<SOS> come with me , my dear cordelia . <EOS>',\n",
       " '<SOS> after the battle let george stanley die . <EOS>',\n",
       " \"<SOS> grieve not that i am fall'n to this for you , for herein fortune shows herself more kind than is her custom . <EOS>\",\n",
       " '<SOS> tell me , daughter juliet , how stands your disposition to be married ? <EOS>',\n",
       " '<SOS> we shall find of him a shrewd contriver . <EOS>',\n",
       " '<SOS> you take pleasure then in the message ? <EOS>',\n",
       " '<SOS> here lies the county slain , and juliet bleeding , warm and newly dead , who here hath lain these two days buried . go , tell the prince . <EOS>',\n",
       " '<SOS> a dog of that house shall move me to stand . <EOS>',\n",
       " '<SOS> i’m not talking about proof yet . <EOS>',\n",
       " '<SOS> if we cannot defend our country with three times such a power left at home , then we deserve to be harassed by an invader and lose our reputation as a powerful and politically savvy nation . <EOS>',\n",
       " '<SOS> whoever is already married (except one person i know) will stay marriedall but one person . <EOS>',\n",
       " '<SOS> o changeable ! <EOS>',\n",
       " '<SOS> father , i am glad you are come . <EOS>']"
      ]
     },
     "execution_count": 19,
     "metadata": {},
     "output_type": "execute_result"
    }
   ],
   "source": [
    "hypotheses"
   ]
  },
  {
   "cell_type": "code",
   "execution_count": 18,
   "metadata": {},
   "outputs": [
    {
     "data": {
      "text/plain": [
       "['<SOS> here they’ll be , man . <EOS>',\n",
       " '<SOS> this dream has been interpreted all wrong . <EOS>',\n",
       " '<SOS> well , that’s what you get to do . <EOS>',\n",
       " '<SOS> it might happen that these strange signs , the unusual terror of this night , and the urgings of his fortune-tellers will keep him away from the capitol today . <EOS>',\n",
       " '<SOS> he received them of him that brought them . <EOS>',\n",
       " '<SOS> that you did fear is done . <EOS>',\n",
       " '<SOS> tis not to me she speaks . <EOS>',\n",
       " '<SOS> will your grace command me any service to the world’s end ? <EOS>',\n",
       " '<SOS> and so doth mine . <EOS>',\n",
       " '<SOS> i was too young at the time to appreciate her value , but now i know her . <EOS>',\n",
       " '<SOS> i know no ways to mince it in love , but directly to say , i love you . then if you urge me farther than to say , do you , in faith ? i wear out my suit . <EOS>',\n",
       " '<SOS> will it eat me ? <EOS>',\n",
       " '<SOS> his majesty is so concerned about my personal safety that he has ordered them to conduct me to the you’re being arrested ? <EOS>',\n",
       " '<SOS> nay , do not pause ; for i did kill king henry but ’twas thy beauty that provokèd me . <EOS>',\n",
       " '<SOS> before i fall asleep , i entrust my soul to you . <EOS>',\n",
       " '<SOS> and who is england’s king but an heir of the great york ? <EOS>',\n",
       " '<SOS> get out of here . <EOS>',\n",
       " \"<SOS> love’s not love when it is mingled with regards that stands aloof from th' entire point . <EOS>\",\n",
       " '<SOS> not at all ! <EOS>',\n",
       " '<SOS> come with me , my dear cordelia . <EOS>',\n",
       " '<SOS> after the battle let george stanley die . <EOS>',\n",
       " \"<SOS> grieve not that i am fall'n to this for you , for herein fortune shows herself more kind than is her custom . <EOS>\",\n",
       " '<SOS> tell me , daughter juliet , how stands your disposition to be married ? <EOS>',\n",
       " '<SOS> we shall find of him a shrewd contriver . <EOS>',\n",
       " '<SOS> you take pleasure then in the message ? <EOS>',\n",
       " '<SOS> here lies the county slain , and juliet bleeding , warm and newly dead , who here hath lain these two days buried . go , tell the prince . <EOS>',\n",
       " '<SOS> a dog of that house shall move me to stand . <EOS>',\n",
       " '<SOS> i’m not talking about proof yet . <EOS>',\n",
       " '<SOS> if we cannot defend our country with three times such a power left at home , then we deserve to be harassed by an invader and lose our reputation as a powerful and politically savvy nation . <EOS>',\n",
       " '<SOS> whoever is already married (except one person i know) will stay marriedall but one person . <EOS>',\n",
       " '<SOS> o hell-kite ! <EOS>',\n",
       " '<SOS> father , i am glad you are come . <EOS>']"
      ]
     },
     "execution_count": 18,
     "metadata": {},
     "output_type": "execute_result"
    }
   ],
   "source": [
    "references"
   ]
  },
  {
   "cell_type": "code",
   "execution_count": 24,
   "metadata": {},
   "outputs": [
    {
     "data": {
      "text/plain": [
       "0"
      ]
     },
     "execution_count": 24,
     "metadata": {},
     "output_type": "execute_result"
    }
   ],
   "source": [
    "5%1"
   ]
  },
  {
   "cell_type": "code",
   "execution_count": null,
   "metadata": {},
   "outputs": [],
   "source": []
  }
 ],
 "metadata": {
  "kernelspec": {
   "display_name": "Python 3",
   "language": "python",
   "name": "python3"
  },
  "language_info": {
   "codemirror_mode": {
    "name": "ipython",
    "version": 3
   },
   "file_extension": ".py",
   "mimetype": "text/x-python",
   "name": "python",
   "nbconvert_exporter": "python",
   "pygments_lexer": "ipython3",
   "version": "3.7.4"
  }
 },
 "nbformat": 4,
 "nbformat_minor": 4
}
