{
 "cells": [
  {
   "cell_type": "markdown",
   "metadata": {},
   "source": [
    "# <center>PROJECT SANDBOX</center>"
   ]
  },
  {
   "cell_type": "markdown",
   "metadata": {},
   "source": [
    "## Documentation\n",
    "The aim of this notebook is to provide a simple sandbox to test different NN architectures for the project. , here is a doc about the functions imported from `scripts` folder : \n",
    "\n",
    "- **`prepare_dataset(device,ratio=0.5,shuffle_ctx=False)`** :\n",
    "    - **Input**:\n",
    "        - device : a torch.device object\n",
    "        - ratio : a float ratio between 0 and 1 that determines the average proportion of modern english verses in the data loader\n",
    "        - shuffle_ctx : if `True`, shuffle the contexts within a Batch so that half of the `x_1` elements has a wrong context `ctx_1`. Useful to train the context recognizer model.\n",
    "    - **Return** :\n",
    "        - a torch Dataset | class : Shakespeare inherited from torch.utils.data.Dataset\n",
    "        - a python word dictionary (aka tokenizer) | class : dict\n",
    "    - **Tensors returned when loaded in the dataloader**:\n",
    "        - x_1 : input verse (modern / shakespearian)\n",
    "        - x_2 : output verse (modern / shakespearian)\n",
    "\n",
    "        - ctx_1 = context of the input verse\n",
    "        - ctx_2 = context of the output verse\n",
    "\n",
    "        - len_x : length of the input verse\n",
    "        - len_y : length of the output verse\n",
    "\n",
    "        - len_ctx_x : length of the input verse context\n",
    "        - len_ctx_y : length of the output verse context\n",
    "\n",
    "        - label : label of the input verse (0 : modern, 1 : shakespearian)\n",
    "        - label_ctx : label of the context (0 : wrong context, 1 : right context)\n",
    "- **`string2code(string,dict)`** : \n",
    "    - **Input**:\n",
    "        - string : a sentence\n",
    "        - dict : a tokenizer\n",
    "    - **Return** :\n",
    "        - a torch Longtensor (sentence tokenized)\n",
    "- **`code2string(torch.Longtensor,dict)`** : \n",
    "    - **Input**:\n",
    "        - torch.Longtensor : a sentence tokenized\n",
    "        - dict : a tokenizer\n",
    "    - **Return** :\n",
    "        - a string sentence"
   ]
  },
  {
   "cell_type": "markdown",
   "metadata": {},
   "source": [
    "## Importing packages"
   ]
  },
  {
   "cell_type": "code",
   "execution_count": 1,
   "metadata": {},
   "outputs": [
    {
     "name": "stdout",
     "output_type": "stream",
     "text": [
      "device =  cpu\n"
     ]
    }
   ],
   "source": [
    "from scripts.data_builders.prepare_dataset import prepare_dataset,string2code,code2string\n",
    "\n",
    "import torch\n",
    "import torchvision.datasets as datasets\n",
    "import torch.nn.functional as F\n",
    "from torch import nn\n",
    "from torch import optim\n",
    "from torch.utils.tensorboard import SummaryWriter\n",
    "import ipdb\n",
    "device = torch.device('cuda' if torch.cuda.is_available() else 'cpu')\n",
    "print(\"device = \",device)"
   ]
  },
  {
   "cell_type": "markdown",
   "metadata": {},
   "source": [
    "## Preprocessing data"
   ]
  },
  {
   "cell_type": "code",
   "execution_count": 2,
   "metadata": {},
   "outputs": [
    {
     "name": "stdout",
     "output_type": "stream",
     "text": [
      "Loading ...\n",
      "- Shakespeare dataset length :  20316\n",
      "- Corrupted samples (ignored) :  763\n"
     ]
    }
   ],
   "source": [
    "train_data, dict_words = prepare_dataset(device,ratio=0.5,shuffle_ctx=True) #check with shift+tab to look at the data structure\n",
    "batch_size = 20\n",
    "dict_token = {b:a for a,b in dict_words.items()} #dict for code2string\n",
    "\n",
    "train_loader = torch.utils.data.DataLoader(train_data, batch_size=batch_size,\n",
    "                                           shuffle=True,collate_fn=train_data.collate)"
   ]
  },
  {
   "cell_type": "markdown",
   "metadata": {},
   "source": [
    "## Designing NN model"
   ]
  },
  {
   "cell_type": "code",
   "execution_count": null,
   "metadata": {},
   "outputs": [],
   "source": []
  },
  {
   "cell_type": "markdown",
   "metadata": {},
   "source": [
    "## Running model"
   ]
  },
  {
   "cell_type": "code",
   "execution_count": 5,
   "metadata": {},
   "outputs": [
    {
     "name": "stdout",
     "output_type": "stream",
     "text": [
      "\n",
      "- x :\n",
      "DEAR MASTER , LISTEN TO ME .\n",
      "- context of x :\n",
      "HONEST IAGO’S ARRANGED THAT . WHAT , IS HE DEAD ? OH , HE’S BEEN BETRAYED , AND I’VE BEEN RUINED . SEND ME AWAY , MY LORD , BUT DON’T KILL ME !\n",
      "- context label : 0\n",
      "\n",
      "- x :\n",
      "THOU HAST SOME SUIT TO CAESAR , HAST THOU NOT ?\n",
      "- context of x :\n",
      "MADAM , NOT YET . I GO TO TAKE MY STAND TO SEE HIM PASS ON TO THE CAPITOL . THAT I HAVE , LADY . IF IT WILL PLEASE CAESAR TO BE SO GOOD TO CAESAR AS TO HEAR ME , I SHALL BESEECH HIM TO BEFRIEND HIMSELF .\n",
      "- context label : 1\n",
      "\n",
      "- x :\n",
      "GOODBYE , SIR .\n",
      "- context of x :\n",
      "IS TEMPERAMENTAL . BUT I WILL TELL YOU THAT LATELY THE DUKE HAS BEEN DISPLEASED WITH HIS NIECE , AND FOR NO OTHER REASON THAN THAT PEOPLE PRAISE HER VIRTUES AND PITY HER FOR HER FATHER’S SAKE . LATER , IN A BETTER WORLD THAN THIS , I’D LOVE TO GET TO KNOW YOU . I’M INDEBTED\n",
      "- context label : 1\n",
      "\n",
      "- x :\n",
      "HOW IS MY JULIET ?\n",
      "- context of x :\n",
      "HIS BEARD WAS GRAY , RIGHT ? IT WAS JUST LIKE IN REAL LIFE , DARK BROWN WITH SILVER WHISKERS IN IT . MAYBE IT’LL COME AGAIN . I BET IT WILL .\n",
      "- context label : 0\n",
      "\n",
      "- x :\n",
      "I’LL GO FOR A SHORT WALK TO CALM DOWN MY FEVERISH MIND .\n",
      "- context of x :\n",
      "SAY WELCOME TO ALL OF OUR FRIENDS FOR ME , SIR , FOR IN MY HEART THEY ARE ALL WELCOME . AND THEY RESPOND TO YOU WITH THEIR HEARTS AS WELL . I WILL SIT HERE IN THE MIDDLE . BE FREE AND HAPPY .\n",
      "- context label : 0\n",
      "\n",
      "- x :\n",
      "YES , INDEED , IT WAS , AND HE PUSHED IT AWAY THREE TIMES , EACH TIME MORE GENTLY THAN THE LAST ; AND AT EACH REFUSAL MY COUNTRYMEN SHOUTED .\n",
      "- context of x :\n",
      "FOR THE SAME THING . THE CROWN WAS OFFERED TO HIM THREE TIMES ? WHO OFFERED HIM THE CROWN ? ANTONY .\n",
      "- context label : 1\n",
      "\n",
      "- x :\n",
      "OR IF YOU FOLLOW ME , YOU’D BETTER UNDERSTAND THAT I’LL DO SOMETHING BAD TO YOU IN THE FOREST .\n",
      "- context of x :\n",
      "THE WILDEST ANIMAL ISN’T AS CRUEL AS YOU ARE . LEAVE ME ALONE . YES , YOU ALREADY HURT ME IN THE CHURCH , IN THE TOWN , AND IN THE FIELDS . SHAME ON YOU , DEMETRIUS !\n",
      "- context label : 1\n",
      "\n",
      "- x :\n",
      "THERE’S PART OF A POWER ALREADY FOOTED .\n",
      "- context of x :\n",
      "WELCOME TO ROME . THANK YOU . SIT , SIR . NAY , THEN .\n",
      "- context label : 0\n",
      "\n",
      "- x :\n",
      "IN OUR CASE , OUR BAD NEIGHBORS OVER THEIR MAKE US EARLY RISERS , A HEALTHY AND SENSIBLE THING TO BE .\n",
      "- context of x :\n",
      "IF WE AREN’T RELIEVED IN AN HOUR , WE HAVE TO RETURN TO OUR BARRACKS . OH , LISTEN TO ME , NIGHT — WHO IS THIS ? BE MY WITNESS , OH YOU BLESSED MOON . THAT’S ENOBARBUS ?\n",
      "- context label : 0\n",
      "\n",
      "- x :\n",
      "HOW NOW , MY LOVE ?\n",
      "- context of x :\n",
      "RETURN TO HER , AND FIFTY MEN DISMISSED ? RETURN WITH HER ? RETURN WITH HER ? PERSUADE ME RATHER TO BE SLAVE AND SUMPTER TO THIS DETESTED GROOM .\n",
      "- context label : 0\n",
      "\n",
      "- x :\n",
      "ARE THESE , I PRAY YOU , WIND INSTRUMENTS ?\n",
      "- context of x :\n",
      "AY , THAT’S THE WAY . MASTERS , PLAY HERE , I WILL CONTENT YOUR PAINS . AY , MARRY , ARE THEY , SIR . OH , THEREBY HANGS A TAIL .\n",
      "- context label : 1\n",
      "\n",
      "- x :\n",
      "SIR , DO YOU RECOGNIZE THIS GLOVE ?\n",
      "- context of x :\n",
      "WHAT’S THE NEWS ! IS HE DEAD ? OH , ANTONY , ANTONY , ANTONY ! HELP , CHARMIAN , HELP , IRAS , HELP !\n",
      "- context label : 0\n",
      "\n",
      "- x :\n",
      "YOU DOG , YOU PEASANT !\n",
      "- context of x :\n",
      "YOU SCOUNDREL ! YOU LOWLIFE SON-OF-A-BITCH ! I WON’T BE HIT , MY LORD . NOW , MY FRIENDLY SERVANT , THANK YOU .\n",
      "- context label : 1\n",
      "\n",
      "- x :\n",
      "I’M NOT SAD , MY LORD .\n",
      "- context of x :\n",
      "I REMEMBER YOU TOOK THE THRONE FROM YOUR BROTHER PROSPERO . MY BROTHER’S SERVANTS USED TO BE MY EQUALS . BUT WHAT ABOUT YOUR GUILTY CONSCIENCE ? YES .\n",
      "- context label : 0\n",
      "\n",
      "- x :\n",
      "YOUR MISTRESS IS A GOOD MOUNT .\n",
      "- context of x :\n",
      "I ONCE WROTE A SONNET IN HIS PRAISE WHICH BEGAN , “WONDER OF NATURE — ” I HAVE HEARD A SONNET TO ONE’S MISTRESS THAT BEGAN LIKE THAT . THEN THE WRITER IMITATED THE ONE I COMPOSED TO MY STEED , FOR MY HORSE IS MY MISTRESS . SO , PERHAPS , DID YOURS . MINE WASN’T WEARING A BRIDLE .\n",
      "- context label : 1\n",
      "\n",
      "- x :\n",
      "THIS APPROVES HER LETTER THAT SHE WOULD SOON BE HERE .\n",
      "- context of x :\n",
      "SHE’S DEAD TOO , OUR SOVEREIGN . LADY ! O MADAM , MADAM , MADAM ! ROYAL EGYPT , EMPRESS !\n",
      "- context label : 0\n",
      "\n",
      "- x :\n",
      "LEND ME THY CLOAK , SIR THOMAS .\n",
      "- context of x :\n",
      "SO THE SPIRIT IS EASED . AND WHEN THE MIND IS QUICKENED , OUT OF DOUBT , THE ORGANS , THOUGH DEFUNCT AND DEAD BEFORE , BREAK UP THEIR DROWSY GRAVE AND NEWLY MOVE , WITH CASTED SLOUGH AND FRESH LEGERITY . WE SHALL , MY LIEGE . SHALL I ATTEND YOUR GRACE ?\n",
      "- context label : 1\n",
      "\n",
      "- x :\n",
      "I OVERHEARD HIM AND HIS PRACTICES .\n",
      "- context of x :\n",
      "I HOLD YOU BUT A SUBJECT OF THIS WAR , NOT AS A BROTHER . THAT’S AS WE LIST TO GRACE HIM . IN HIS OWN GRACE HE DOTH EXALT HIMSELF MORE THAN IN YOUR ADDITION . THAT WERE THE MOST IF HE SHOULD HUSBAND YOU .\n",
      "- context label : 0\n",
      "\n",
      "- x :\n",
      "I KNOW WHERE HE IS .\n",
      "- context of x :\n",
      "I HEADED TOWARD HIM , BUT HE SAW ME COMING AND HID IN THE WOODS . HE’S BEEN SEEN THERE MANY MORNINGS , CRYING TEARS THAT ADD DROPS TO THE MORNING DEW AND MAKING A CLOUDY DAY CLOUDIER WITH HIS SIGHS . OH , YOU’RE JUST GOING TO TALK ABOUT BANISHMENT AGAIN . DON’T SAY ANYTHING ELSE .\n",
      "- context label : 0\n",
      "\n",
      "- x :\n",
      "NO , LET ME NOT .\n",
      "- context of x :\n",
      "THEN YOU WILL BRING THE CHAIN TO HER YOURSELF . WELL , SIR , I WILL . NAY , COME , I PRAY YOU , SIR , GIVE ME THE CHAIN . BOTH WIND AND TIDE STAYS FOR THIS GENTLEMAN , AND I , TO BLAME , HAVE HELD HIM HERE TOO LONG .\n",
      "- context label : 0\n"
     ]
    }
   ],
   "source": [
    "for x,y , ctx_x,ctx_y , len_x,len_y , len_ctx_x,len_ctx_y, label,label_ctx in train_loader:\n",
    "    \n",
    "    for i in range(x.shape[0]):\n",
    "        print(\"\\n- x :\")\n",
    "        print(code2string(x[i],dict_token))\n",
    "        print(\"- context of x :\")\n",
    "        print(code2string(ctx_x[i],dict_token))\n",
    "        print(\"- context label :\",label_ctx[i].item())\n",
    "    break"
   ]
  },
  {
   "cell_type": "code",
   "execution_count": null,
   "metadata": {},
   "outputs": [],
   "source": []
  }
 ],
 "metadata": {
  "kernelspec": {
   "display_name": "Python 3",
   "language": "python",
   "name": "python3"
  }
 },
 "nbformat": 4,
 "nbformat_minor": 2
}
